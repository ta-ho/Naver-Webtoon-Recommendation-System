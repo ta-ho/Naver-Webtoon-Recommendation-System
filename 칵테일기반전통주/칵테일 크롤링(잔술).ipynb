{
 "cells": [
  {
   "cell_type": "code",
   "execution_count": 6,
   "id": "97592248",
   "metadata": {},
   "outputs": [],
   "source": [
    "import pandas as pd\n",
    "import matplotlib.pyplot as plt\n",
    "import seaborn as sns\n",
    "import time\n",
    "import re\n",
    "from bs4 import BeautifulSoup\n",
    "from tqdm import tqdm\n",
    "from selenium import webdriver    # selenium의 webdriver를 사용하기 위한 import\n",
    "from selenium.webdriver.common.keys import Keys    # selenium으로 키를 조작하기 위한 import\n",
    "from selenium.common.exceptions import NoSuchElementException    # 원하는 요소가 페이지에 없을 때 특정 작업을 수행하거나 예외를 처리\n",
    "import time    # 페이지 로딩을 기다리는데에 사용할 time 모듈 import\n",
    "\n",
    "url = \"https://www.zansool.com/%EC%B9%B5%ED%85%8C%EC%9D%BC%ED%83%90%EC%83%89\"\n",
    "# 크롬드라이버 실행\n",
    "driver = webdriver.Chrome()\n",
    "\n",
    "#크롬 드라이버에 url 주소 넣고 실행\n",
    "driver.get(url)\n",
    "\n",
    "# 페이지가 완전히 로딩되도록 3초동안 기다림\n",
    "time.sleep(3)"
   ]
  },
  {
   "cell_type": "code",
   "execution_count": 8,
   "id": "c0765b24",
   "metadata": {
    "scrolled": true
   },
   "outputs": [
    {
     "data": {
      "text/plain": [
       "'\\n<<<<<<<<<<<<<<< 120~240만 한 부분 >>>>>>>>>>>>>>\\n\\nlinks_second=links[120:242]\\n\\n# 잘 됐나 확인\\nfor link in links_second:\\n    print(\"주소: \", link.get_attribute(\"href\"))\\n\\n# link_f에 list형태로 저장\\nlink_f = [0 for i in range(122)]\\nfor i in range(122):\\n    link_f[i] = links_second[i].get_attribute(\"href\")\\nlink_f'"
      ]
     },
     "execution_count": 8,
     "metadata": {},
     "output_type": "execute_result"
    }
   ],
   "source": [
    "from selenium import webdriver\n",
    "from selenium.webdriver.common.by import By\n",
    "from selenium.webdriver.chrome.service import Service\n",
    "from webdriver_manager.chrome import ChromeDriverManager\n",
    "\n",
    "links_selector = \"#TPASection_l4rt9y3r > div > div > div > div.ehEPJs.tkJraL > section > div > ul.S4WbK_.uQ5Uah.c2Zj9x > li > div > a\"\n",
    "links = driver.find_elements(By.CSS_SELECTOR, links_selector)\n",
    "\n",
    "'''\n",
    "<<<<<<<<<<<<<<< 120~240만 한 부분 >>>>>>>>>>>>>>\n",
    "\n",
    "links_second=links[120:242]\n",
    "\n",
    "# 잘 됐나 확인\n",
    "for link in links_second:\n",
    "    print(\"주소: \", link.get_attribute(\"href\"))\n",
    "\n",
    "# link_f에 list형태로 저장\n",
    "link_f = [0 for i in range(122)]\n",
    "for i in range(122):\n",
    "    link_f[i] = links_second[i].get_attribute(\"href\")\n",
    "link_f'''"
   ]
  },
  {
   "cell_type": "code",
   "execution_count": 9,
   "id": "838b0ed5",
   "metadata": {
    "scrolled": true
   },
   "outputs": [
    {
     "data": {
      "text/plain": [
       "74"
      ]
     },
     "execution_count": 9,
     "metadata": {},
     "output_type": "execute_result"
    }
   ],
   "source": [
    "len(links)"
   ]
  },
  {
   "cell_type": "code",
   "execution_count": 10,
   "id": "c9566281",
   "metadata": {
    "scrolled": true
   },
   "outputs": [
    {
     "data": {
      "text/plain": [
       "['https://www.zansool.com/product-page/%ED%81%B4%EB%A1%9C%EB%B2%84-%ED%81%B4%EB%9F%BD',\n",
       " 'https://www.zansool.com/product-page/%EC%95%84%EB%A9%94%EB%A6%AC%EC%B9%B4%EB%85%B8',\n",
       " 'https://www.zansool.com/product-page/%EA%B3%A8%EB%93%A0-%EB%A9%94%EB%8B%AC%EB%A6%AC%EC%8A%A4%ED%8A%B8',\n",
       " 'https://www.zansool.com/product-page/%EC%9E%AD-%EB%A1%9C%EC%A6%88',\n",
       " 'https://www.zansool.com/product-page/%EC%99%80%EC%9D%BC%EB%93%9C-%ED%94%8C%EB%9D%BC%EC%9B%8C',\n",
       " 'https://www.zansool.com/product-page/%EC%85%9C%EB%A6%AC%ED%85%9C%ED%94%8C',\n",
       " 'https://www.zansool.com/product-page/%ED%95%91%ED%81%AC-%EB%A0%88%EC%9D%B4%EB%94%94',\n",
       " 'https://www.zansool.com/product-page/%EC%82%AC%EC%9D%B4%EB%93%9C%EC%B9%B4',\n",
       " 'https://www.zansool.com/product-page/%EC%97%90%EB%B9%84%EC%97%90%EC%9D%B4%EC%85%98',\n",
       " 'https://www.zansool.com/product-page/%ED%97%A4%EB%B0%8D%EC%9B%A8%EC%9D%B4-%EB%8B%A4%EC%9D%B4%ED%82%A4%EB%A6%AC',\n",
       " 'https://www.zansool.com/product-page/%EB%AF%B8%EB%8F%84%EB%A6%AC%EC%82%AC%EC%9B%8C',\n",
       " 'https://www.zansool.com/product-page/%EC%B9%B4%EB%AF%B8%EC%B9%B4%EC%A0%9C',\n",
       " 'https://www.zansool.com/product-page/xyz',\n",
       " 'https://www.zansool.com/product-page/%EB%84%A4%EA%B7%B8%EB%A1%9C%EB%8B%88',\n",
       " 'https://www.zansool.com/product-page/%EB%AA%A8%ED%82%B9%EB%B2%84%EB%93%9C',\n",
       " 'https://www.zansool.com/product-page/%EA%B0%93%ED%8C%8C%EB%8D%94',\n",
       " 'https://www.zansool.com/product-page/%EC%9A%B0%EC%9A%B0',\n",
       " 'https://www.zansool.com/product-page/%EC%97%98-%EB%94%94%EC%95%84%EB%B8%94%EB%A1%9C',\n",
       " 'https://www.zansool.com/product-page/%ED%8B%B0%EB%9D%BC%EB%AF%B8%EC%88%98-%EC%B9%B5%ED%85%8C%EC%9D%BC',\n",
       " 'https://www.zansool.com/product-page/%EC%8B%9C%EB%B8%8C%EB%A6%AC%EC%A6%88',\n",
       " 'https://www.zansool.com/product-page/%EB%B0%94%EC%B9%B4%EB%94%94-%EC%B9%B5%ED%85%8C%EC%9D%BC',\n",
       " 'https://www.zansool.com/product-page/%EA%B0%93%EB%A7%88%EB%8D%94',\n",
       " 'https://www.zansool.com/product-page/%EC%A7%84-%ED%94%BC%EC%A6%88',\n",
       " 'https://www.zansool.com/product-page/%EA%B9%80%EB%A0%9B',\n",
       " 'https://www.zansool.com/product-page/%EB%8B%A4%EC%9D%B4%ED%82%A4%EB%A6%AC',\n",
       " 'https://www.zansool.com/product-page/%EB%A7%88%EA%B0%80%EB%A6%AC%ED%83%80',\n",
       " 'https://www.zansool.com/product-page/%ED%94%84%EB%9E%80%EC%A0%A4%EB%A6%AC%EC%BD%94-%EB%B0%80%ED%81%AC',\n",
       " 'https://www.zansool.com/product-page/%EB%8F%84%EC%BF%84-%EC%95%84%EC%9D%B4%EC%8A%A4%ED%8B%B0',\n",
       " 'https://www.zansool.com/product-page/%EC%95%84%EC%9D%B4%EB%A6%AC%EC%8B%9C-%EC%BB%A4%ED%94%BC',\n",
       " 'https://www.zansool.com/product-page/%EA%B0%93%EC%B0%A8%EC%9D%BC%EB%93%9C',\n",
       " 'https://www.zansool.com/product-page/%EB%B8%94%EB%A3%A8%EB%9D%BC%EA%B5%B0-%EB%A1%B1-%EB%B2%84%EC%A0%84',\n",
       " 'https://www.zansool.com/product-page/%EC%8A%A4%ED%81%AC%EB%A6%AC%EB%B0%8D-%EC%98%A4%EB%A5%B4%EA%B0%80%EC%A6%98',\n",
       " 'https://www.zansool.com/product-page/%EB%AF%B8%EB%8F%84%EB%A6%AC-%EC%9D%BC%EB%A3%A8%EC%A0%BC',\n",
       " 'https://www.zansool.com/product-page/%EC%B9%98%EC%B9%98',\n",
       " 'https://www.zansool.com/product-page/%EB%A7%90%EB%A6%AC%EB%B6%80-%EB%B0%80%ED%81%AC',\n",
       " 'https://www.zansool.com/product-page/%EB%B8%94%EB%A1%9C%EC%9A%B0%EC%9E%A1',\n",
       " 'https://www.zansool.com/product-page/%EB%B8%8C%EB%9E%9C%EB%94%94-%EC%95%8C%EB%A0%89%EC%82%B0%EB%8D%94',\n",
       " 'https://www.zansool.com/product-page/%EB%B8%94%EB%A3%A8%EB%9D%BC%EA%B5%B0',\n",
       " 'https://www.zansool.com/product-page/%EB%A7%88%EC%9D%B4%ED%83%80%EC%9D%B4',\n",
       " 'https://www.zansool.com/product-page/%EC%95%84%EB%94%94%EC%98%A4%EC%8A%A4-%EB%A7%88%EB%8D%94%ED%8D%BC%EC%BB%A4',\n",
       " 'https://www.zansool.com/product-page/%EC%98%88%EA%B1%B0%EB%B0%A4',\n",
       " 'https://www.zansool.com/product-page/%EB%B2%84%EB%B2%88%EC%BD%95',\n",
       " 'https://www.zansool.com/product-page/%EC%95%A0%ED%94%8C-%EB%A7%88%ED%8B%B0%EB%8B%88',\n",
       " 'https://www.zansool.com/product-page/copy-of-copy-of-%ED%94%BC%EB%83%90%EC%BD%9C%EB%9D%BC%EB%8B%A4',\n",
       " 'https://www.zansool.com/product-page/%ED%99%94%EC%9D%B4%ED%8A%B8-%EB%9F%AC%EC%8B%9C%EC%95%88',\n",
       " 'https://www.zansool.com/product-page/%ED%94%BC%EB%83%90%EC%BD%9C%EB%9D%BC%EB%8B%A4',\n",
       " 'https://www.zansool.com/product-page/%ED%8C%8C%EC%9A%B0%EC%8A%A4%ED%8A%B8',\n",
       " 'https://www.zansool.com/product-page/%EC%98%A4%EB%A5%B4%EA%B0%80%EC%A6%98',\n",
       " 'https://www.zansool.com/product-page/%EC%9C%84%EC%8A%A4%ED%82%A4-%EC%82%AC%EC%9B%8C',\n",
       " 'https://www.zansool.com/product-page/%EB%AA%A8%EC%8A%A4%EC%BD%94-%EB%AE%AC',\n",
       " 'https://www.zansool.com/product-page/%EC%98%A5%EB%B3%B4%EB%8B%A8',\n",
       " 'https://www.zansool.com/product-page/%EC%A4%80%EB%B2%85',\n",
       " 'https://www.zansool.com/product-page/%EB%B8%94%EB%A3%A8%EC%82%AC%ED%8C%8C%EC%9D%B4%EC%96%B4',\n",
       " 'https://www.zansool.com/product-page/%EC%BF%A0%EB%B0%94%EB%A6%AC%EB%B8%8C%EB%A0%88',\n",
       " 'https://www.zansool.com/product-page/%ED%94%BC%EC%B9%98%ED%81%AC%EB%9F%AC%EC%8B%9C',\n",
       " 'https://www.zansool.com/product-page/%ED%95%98%EC%9D%B4%EB%9E%9C%EB%93%9C-%EC%BF%A8%EB%9F%AC',\n",
       " 'https://www.zansool.com/product-page/%EC%BD%94%EC%8A%A4%EB%AA%A8%ED%8F%B4%EB%A6%AC%ED%83%84',\n",
       " 'https://www.zansool.com/product-page/%EC%A7%84%ED%86%A0%EB%8B%89',\n",
       " 'https://www.zansool.com/product-page/%EC%95%84%EA%B7%B8%EC%99%80%EB%B0%A4',\n",
       " 'https://www.zansool.com/product-page/%EC%84%B9%EC%8A%A4%EC%98%A8%EB%8D%94%EB%B9%84%EC%B9%98',\n",
       " 'https://www.zansool.com/product-page/%EB%B8%94%EB%A3%A8%ED%95%98%EC%99%80%EC%9D%B4%EC%95%88',\n",
       " 'https://www.zansool.com/product-page/%EB%B8%94%EB%9E%99%EB%9F%AC%EC%8B%9C%EC%95%88',\n",
       " 'https://www.zansool.com/product-page/%EB%B2%A0%EC%9D%BC%EB%A6%AC%EC%8A%A4-%EB%B0%80%ED%81%AC',\n",
       " 'https://www.zansool.com/product-page/%EB%AA%A8%ED%9E%88%EB%98%90',\n",
       " 'https://www.zansool.com/product-page/%EB%A1%B1%EC%95%84%EC%9D%BC%EB%9E%9C%EB%93%9C-%EC%95%84%EC%9D%B4%EC%8A%A4%ED%8B%B0',\n",
       " 'https://www.zansool.com/product-page/%EB%8D%B0%ED%82%AC%EB%9D%BC-%EC%84%A0%EB%9D%BC%EC%9D%B4%EC%A6%88',\n",
       " 'https://www.zansool.com/product-page/%EA%B9%94%EB%A3%A8%EC%95%84%EB%B0%80%ED%81%AC',\n",
       " 'https://www.zansool.com/product-page/%EA%B7%B8%EB%9E%98%EC%8A%A4%ED%98%B8%ED%8D%BC',\n",
       " 'https://www.zansool.com/product-page/%EB%B8%94%EB%9F%AC%EB%94%94%EB%A9%94%EB%A6%AC',\n",
       " 'https://www.zansool.com/product-page/%EB%A7%88%ED%8B%B0%EB%8B%88',\n",
       " 'https://www.zansool.com/product-page/%EB%8F%84%ED%99%94',\n",
       " 'https://www.zansool.com/product-page/%ED%95%98%EC%9D%B4%EB%B3%BC',\n",
       " 'https://www.zansool.com/product-page/%EC%98%AC%EB%93%9C%ED%8C%A8%EC%85%98%EB%93%9C',\n",
       " 'https://www.zansool.com/product-page/%EC%B9%B4%EC%8B%9C%EC%8A%A4-%ED%94%84%EB%9D%BC%ED%8E%98']"
      ]
     },
     "execution_count": 10,
     "metadata": {},
     "output_type": "execute_result"
    }
   ],
   "source": [
    "link_f = [0 for i in range(len(links))]\n",
    "for i in range(len(links)):\n",
    "    link_f[i] = links[i].get_attribute(\"href\")\n",
    "link_f"
   ]
  },
  {
   "cell_type": "code",
   "execution_count": 15,
   "id": "184b632c",
   "metadata": {
    "scrolled": true
   },
   "outputs": [],
   "source": [
    "# 크롤링한 상품 정보를 저장할 리스트\n",
    "products_info = []\n",
    "\n",
    "상품명_s = \"#TPAMultiSection_l4rta0bt > div > div > article > div.cBjYs > div > article > section:nth-child(2) > div:nth-child(1) > h1\"\n",
    "설명_s = \"#TPAMultiSection_l4rta0bt > div > div > article > div.cBjYs > div > article > section:nth-child(2) > div._3b8oP.fggS-.cell > section > div > div > pre\"\n",
    "맛_평가_s = \"#TPAMultiSection_l4rta0bt > div > div > article > div._2rlww > div > div > div > ul > li:nth-child(1) > div\"\n",
    "재료_s = \"#TPAMultiSection_l4rta0bt > div > div > article > div._2rlww > div > div > div > ul > li:nth-child(2) > div\"\n",
    "레시피_s = \"#TPAMultiSection_l4rta0bt > div > div > article > div._2rlww > div > div > div > ul > li:nth-child(3) > div\"\n",
    "\n",
    "for url in link_f:\n",
    "    driver.get(url)  # 해당 주소로 이동\n",
    "    time.sleep(3)    # 대기\n",
    "\n",
    "    try:\n",
    "        # 상품 정보 크롤링\n",
    "        상품명 = driver.find_element(By.CSS_SELECTOR, 상품명_s).text\n",
    "        설명 = driver.find_element(By.CSS_SELECTOR, 설명_s).text\n",
    "        맛_평가 = driver.find_element(By.CSS_SELECTOR, 맛_평가_s).text\n",
    "        재료 = driver.find_element(By.CSS_SELECTOR, 재료_s).text\n",
    "        레시피 = driver.find_element(By.CSS_SELECTOR, 레시피_s).text\n",
    "        products_info.append({\n",
    "            '상품명': 상품명,\n",
    "            '설명': 설명,\n",
    "            '맛 평가': 맛_평가,\n",
    "            '재료': 재료,\n",
    "            '레시피':레시피,\n",
    "        })\n",
    "    except:\n",
    "        pass"
   ]
  },
  {
   "cell_type": "code",
   "execution_count": 16,
   "id": "44a5166c",
   "metadata": {
    "scrolled": true
   },
   "outputs": [],
   "source": [
    "# 데이터 프레임으로 변환\n",
    "df = pd.DataFrame(products_info)"
   ]
  },
  {
   "cell_type": "code",
   "execution_count": 17,
   "id": "63048b70",
   "metadata": {},
   "outputs": [],
   "source": [
    "df.to_csv('잔술 크롤링.csv', index=False, encoding='utf-8-sig')"
   ]
  },
  {
   "cell_type": "code",
   "execution_count": null,
   "id": "845c08f3",
   "metadata": {},
   "outputs": [],
   "source": []
  }
 ],
 "metadata": {
  "kernelspec": {
   "display_name": "Python 3 (ipykernel)",
   "language": "python",
   "name": "python3"
  },
  "language_info": {
   "codemirror_mode": {
    "name": "ipython",
    "version": 3
   },
   "file_extension": ".py",
   "mimetype": "text/x-python",
   "name": "python",
   "nbconvert_exporter": "python",
   "pygments_lexer": "ipython3",
   "version": "3.10.9"
  }
 },
 "nbformat": 4,
 "nbformat_minor": 5
}

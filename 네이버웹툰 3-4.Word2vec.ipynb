{
 "cells": [
  {
   "cell_type": "code",
   "execution_count": 8,
   "id": "8eb454ca",
   "metadata": {},
   "outputs": [
    {
     "name": "stdout",
     "output_type": "stream",
     "text": [
      "(2470, 13)\n"
     ]
    }
   ],
   "source": [
    "import pandas as pd\n",
    "import numpy as np\n",
    "import re\n",
    "import urllib.request\n",
    "import zipfile\n",
    "from lxml import etree\n",
    "from nltk.tokenize import word_tokenize, sent_tokenize\n",
    "from gensim.models import Word2Vec\n",
    "import nltk\n",
    "\n",
    "df = pd.read_csv('네이버웹툰_최종_프로젝트.csv')\n",
    "print(df.shape)\n",
    "\n",
    "dataset = pd.read_csv('movies04293.csv')\n",
    "\n",
    "tokenized_sentences = [word_tokenize(sentence) for sentence in dataset['plot']]\n",
    "\n",
    "model = Word2Vec(sentences=tokenized_sentences, vector_size=100, window=5, min_count=1, sg=0)\n",
    "model.save(\"word2vec_model\")\n",
    "Model = Word2Vec.load(\"word2vec_model\")"
   ]
  },
  {
   "cell_type": "code",
   "execution_count": 9,
   "id": "08341693",
   "metadata": {},
   "outputs": [
    {
     "ename": "KeyboardInterrupt",
     "evalue": "",
     "output_type": "error",
     "traceback": [
      "\u001b[1;31m---------------------------------------------------------------------------\u001b[0m",
      "\u001b[1;31mKeyboardInterrupt\u001b[0m                         Traceback (most recent call last)",
      "Cell \u001b[1;32mIn[9], line 22\u001b[0m\n\u001b[0;32m     20\u001b[0m         sentence2 \u001b[38;5;241m=\u001b[39m web_tokenized_sentences[j]\n\u001b[0;32m     21\u001b[0m         \u001b[38;5;66;03m# Calculate cosine similarity between Word2Vec embeddings\u001b[39;00m\n\u001b[1;32m---> 22\u001b[0m         similarity_score \u001b[38;5;241m=\u001b[39m Model\u001b[38;5;241m.\u001b[39mwv\u001b[38;5;241m.\u001b[39mn_similarity(sentence1, sentence2)\n\u001b[0;32m     23\u001b[0m     similarities_row\u001b[38;5;241m.\u001b[39mappend(similarity_score)\n\u001b[0;32m     24\u001b[0m similarities\u001b[38;5;241m.\u001b[39mappend(similarities_row)\n",
      "File \u001b[1;32m~\\anaconda3\\Lib\\site-packages\\gensim\\models\\keyedvectors.py:1256\u001b[0m, in \u001b[0;36mKeyedVectors.n_similarity\u001b[1;34m(self, ws1, ws2)\u001b[0m\n\u001b[0;32m   1254\u001b[0m mean1 \u001b[38;5;241m=\u001b[39m \u001b[38;5;28mself\u001b[39m\u001b[38;5;241m.\u001b[39mget_mean_vector(ws1, pre_normalize\u001b[38;5;241m=\u001b[39m\u001b[38;5;28;01mFalse\u001b[39;00m)\n\u001b[0;32m   1255\u001b[0m mean2 \u001b[38;5;241m=\u001b[39m \u001b[38;5;28mself\u001b[39m\u001b[38;5;241m.\u001b[39mget_mean_vector(ws2, pre_normalize\u001b[38;5;241m=\u001b[39m\u001b[38;5;28;01mFalse\u001b[39;00m)\n\u001b[1;32m-> 1256\u001b[0m \u001b[38;5;28;01mreturn\u001b[39;00m dot(matutils\u001b[38;5;241m.\u001b[39munitvec(mean1), matutils\u001b[38;5;241m.\u001b[39munitvec(mean2))\n",
      "File \u001b[1;32m~\\anaconda3\\Lib\\site-packages\\gensim\\matutils.py:752\u001b[0m, in \u001b[0;36munitvec\u001b[1;34m(vec, norm, return_norm)\u001b[0m\n\u001b[0;32m    750\u001b[0m         veclen \u001b[38;5;241m=\u001b[39m \u001b[38;5;241m0.0\u001b[39m\n\u001b[0;32m    751\u001b[0m     \u001b[38;5;28;01melse\u001b[39;00m:\n\u001b[1;32m--> 752\u001b[0m         veclen \u001b[38;5;241m=\u001b[39m blas_nrm2(vec)\n\u001b[0;32m    753\u001b[0m \u001b[38;5;28;01mif\u001b[39;00m norm \u001b[38;5;241m==\u001b[39m \u001b[38;5;124m'\u001b[39m\u001b[38;5;124munique\u001b[39m\u001b[38;5;124m'\u001b[39m:\n\u001b[0;32m    754\u001b[0m     veclen \u001b[38;5;241m=\u001b[39m np\u001b[38;5;241m.\u001b[39mcount_nonzero(vec)\n",
      "\u001b[1;31mKeyboardInterrupt\u001b[0m: "
     ]
    }
   ],
   "source": [
    "# Load the pre-trained Word2Vec model\n",
    "Model = Word2Vec.load(\"word2vec_model\")\n",
    "\n",
    "df = pd.read_csv('네이버웹툰_최종_프로젝트.csv')\n",
    "\n",
    "#숫자랑 문자 제거\n",
    "pattern = r'[^a-zA-Z가-힣]'\n",
    "df['줄거리'] = df['줄거리'].apply(lambda x: re.sub(pattern=pattern, repl=' ', string=x))\n",
    "\n",
    "#토큰화\n",
    "web_tokenized_sentences = [word_tokenize(sentence) for sentence in df['줄거리']]\n",
    "\n",
    "similarities = []\n",
    "for i in range(len(df)):\n",
    "    similarities_row = []\n",
    "    for j in range(len(df)):\n",
    "        if i == j:\n",
    "            similarity_score = 1.0  # 같은 행의 경우 유사도는 1.0\n",
    "        else:\n",
    "            sentence1 = web_tokenized_sentences[i]\n",
    "            sentence2 = web_tokenized_sentences[j]\n",
    "            # Calculate cosine similarity between Word2Vec embeddings\n",
    "            similarity_score = Model.wv.n_similarity(sentence1, sentence2)\n",
    "        similarities_row.append(similarity_score)\n",
    "    similarities.append(similarities_row)\n",
    "\n",
    "# 결과 출력 (similarity[i][j]는 웹툰 i와 웹툰 j 간의 유사도)\n",
    "for i in range(len(similarities)):\n",
    "    for j in range(len(similarities[i])):\n",
    "        print(f\"Similarity between 웹툰 {i+1} and 웹툰 {j+1}: {similarities[i][j]}\")"
   ]
  },
  {
   "cell_type": "code",
   "execution_count": null,
   "id": "de9adfd4",
   "metadata": {},
   "outputs": [],
   "source": [
    "def find_similar_sentences(title, top_n=5):\n",
    "    title_data = df[df['제목'].str.contains(title, case=True, na=False)]\n",
    "    title_index = title_data.index.values[0]\n",
    "\n",
    "    # 해당 작품과 다른 작품 간의 유사도\n",
    "    title_similarity_scores = similarities[title_index]\n",
    "\n",
    "    # 유사도가 높은 상위 N개 인덱스를 찾음\n",
    "    similar_indexes = np.argsort(title_similarity_scores)[::-1][:top_n]\n",
    "\n",
    "    # 유사도 값 가져오기\n",
    "    similar_cosine_values = [title_similarity_scores[i] for i in similar_indexes]\n",
    "\n",
    "    # 유사한 작품 데이터 프레임 생성\n",
    "    similar_titles = df.iloc[similar_indexes]\n",
    "\n",
    "    # \"유사도\" 열 추가\n",
    "    similar_titles['유사도'] = similar_cosine_values\n",
    "\n",
    "    return similar_titles"
   ]
  },
  {
   "cell_type": "code",
   "execution_count": null,
   "id": "0c307056",
   "metadata": {},
   "outputs": [],
   "source": [
    "find_similar_sentences('참교육',top_n=5)"
   ]
  }
 ],
 "metadata": {
  "kernelspec": {
   "display_name": "Python 3 (ipykernel)",
   "language": "python",
   "name": "python3"
  },
  "language_info": {
   "codemirror_mode": {
    "name": "ipython",
    "version": 3
   },
   "file_extension": ".py",
   "mimetype": "text/x-python",
   "name": "python",
   "nbconvert_exporter": "python",
   "pygments_lexer": "ipython3",
   "version": "3.11.3"
  },
  "toc": {
   "base_numbering": 1,
   "nav_menu": {},
   "number_sections": true,
   "sideBar": true,
   "skip_h1_title": false,
   "title_cell": "Table of Contents",
   "title_sidebar": "Contents",
   "toc_cell": false,
   "toc_position": {},
   "toc_section_display": true,
   "toc_window_display": false
  }
 },
 "nbformat": 4,
 "nbformat_minor": 5
}

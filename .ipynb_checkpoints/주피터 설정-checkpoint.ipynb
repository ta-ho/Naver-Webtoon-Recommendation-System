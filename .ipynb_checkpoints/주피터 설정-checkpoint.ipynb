{
 "cells": [
  {
   "cell_type": "code",
   "execution_count": 2,
   "id": "d17846db",
   "metadata": {},
   "outputs": [],
   "source": [
    "!jt -t chesterish -f bitstream -fs 12 -tf roboto -tfs 13 -nf opensans -nfs 12 -ofs 12 -dfs 12 -cellw 95% -lineh 150 -T -N"
   ]
  },
  {
   "cell_type": "code",
   "execution_count": null,
   "id": "057f7690",
   "metadata": {
    "scrolled": true
   },
   "outputs": [],
   "source": [
    "'''\n",
    "1) -f, -fs : 코드의 폰트와 폰트 사이즈입니다.\n",
    "\n",
    "2) -tf, -tfs : Text Font와 그 사이즈입니다. 아래 그림에서 분홍색 박스가 있는 부분입니다. (마크 다운 부분)\n",
    "\n",
    "3) -nf , -nfs : notebook font와 그 사이즈입니다. 아래에서 노랑 박스가 있는 부분입니다.\n",
    "\n",
    "4) -ofs : Output폰트 사이즈입니다. 출력된 결과의 폰트 사이즈입니다.\n",
    "\n",
    "5) -dfs : 데이터 프레임의 폰트 사이즈입니다. 아래에서 초록 박스가 있는 부분입니다.\n",
    "\n",
    "6) -cellw : 셀이 가로폭 퍼센테이지 입니다. 저는 거의 꽉차게 95%를 지정했습니다.\n",
    "\n",
    "7) -lineh : 코드한줄의 위 아래 폭입니다. 170이 default 이지만, 저는 150이 더 좋았습니다. \n",
    "\n",
    "8) -T : 툴바가 보이게 할지 입니다. 아래 그림에서 보라 박스가 있는 부분입니다.\n",
    "\n",
    "9) -N : 제목과 심볼이 보이게 할지 입니다. 아래 그림에서 노랑 박스가 있는 부분입니다.\n",
    "'''\n"
   ]
  },
  {
   "cell_type": "code",
   "execution_count": null,
   "id": "50007382",
   "metadata": {},
   "outputs": [],
   "source": []
  }
 ],
 "metadata": {
  "kernelspec": {
   "display_name": "Python 3 (ipykernel)",
   "language": "python",
   "name": "python3"
  },
  "language_info": {
   "codemirror_mode": {
    "name": "ipython",
    "version": 3
   },
   "file_extension": ".py",
   "mimetype": "text/x-python",
   "name": "python",
   "nbconvert_exporter": "python",
   "pygments_lexer": "ipython3",
   "version": "3.10.9"
  }
 },
 "nbformat": 4,
 "nbformat_minor": 5
}

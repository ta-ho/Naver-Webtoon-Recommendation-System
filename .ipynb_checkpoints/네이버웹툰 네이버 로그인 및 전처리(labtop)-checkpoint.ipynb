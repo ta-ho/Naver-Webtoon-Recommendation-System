{
 "cells": [
  {
   "cell_type": "code",
   "execution_count": 12,
   "id": "707d994d",
   "metadata": {},
   "outputs": [
    {
     "name": "stdout",
     "output_type": "stream",
     "text": [
      "(2470, 10)\n"
     ]
    },
    {
     "data": {
      "text/html": [
       "<div>\n",
       "<style scoped>\n",
       "    .dataframe tbody tr th:only-of-type {\n",
       "        vertical-align: middle;\n",
       "    }\n",
       "\n",
       "    .dataframe tbody tr th {\n",
       "        vertical-align: top;\n",
       "    }\n",
       "\n",
       "    .dataframe thead th {\n",
       "        text-align: right;\n",
       "    }\n",
       "</style>\n",
       "<table border=\"1\" class=\"dataframe\">\n",
       "  <thead>\n",
       "    <tr style=\"text-align: right;\">\n",
       "      <th></th>\n",
       "      <th>내용링크</th>\n",
       "      <th>제목</th>\n",
       "      <th>작가</th>\n",
       "      <th>별점</th>\n",
       "      <th>줄거리</th>\n",
       "      <th>태그</th>\n",
       "      <th>관심</th>\n",
       "      <th>이용가</th>\n",
       "      <th>몇화</th>\n",
       "      <th>이미지링크</th>\n",
       "    </tr>\n",
       "  </thead>\n",
       "  <tbody>\n",
       "    <tr>\n",
       "      <th>0</th>\n",
       "      <td>/webtoon/list?titleId=758037</td>\n",
       "      <td>참교육</td>\n",
       "      <td>채용택 / 한가람</td>\n",
       "      <td>9.87</td>\n",
       "      <td>무너진 교권을 지키기 위해 교권보호국 소속 나화진의 참교육이 시작된다!\\n&lt;부활남&gt;...</td>\n",
       "      <td>#액션#블루스트링#사이다#학원물#다크히어로#먼치킨</td>\n",
       "      <td>888507</td>\n",
       "      <td>15세 이용가</td>\n",
       "      <td>총 125화</td>\n",
       "      <td>https://image-comic.pstatic.net/webtoon/758037...</td>\n",
       "    </tr>\n",
       "    <tr>\n",
       "      <th>1</th>\n",
       "      <td>/webtoon/list?titleId=648419</td>\n",
       "      <td>뷰티풀 군바리</td>\n",
       "      <td>설이 / 윤성원</td>\n",
       "      <td>9.81</td>\n",
       "      <td>'여자도 군대에 간다면?'본격 여자도 군대 가는 만화!</td>\n",
       "      <td>#드라마#직업드라마#밀리터리</td>\n",
       "      <td>783219</td>\n",
       "      <td>15세 이용가</td>\n",
       "      <td>총 405화</td>\n",
       "      <td>https://image-comic.pstatic.net/webtoon/648419...</td>\n",
       "    </tr>\n",
       "    <tr>\n",
       "      <th>2</th>\n",
       "      <td>/webtoon/list?titleId=183559</td>\n",
       "      <td>신의 탑</td>\n",
       "      <td>SIU</td>\n",
       "      <td>9.88</td>\n",
       "      <td>자신의 모든 것이었던 소녀를 쫓아 탑에 들어온 소년\\n그리고 그런 소년을 시험하는 탑</td>\n",
       "      <td>#판타지#세계관#이능력배틀물#소년왕도물#먼치킨</td>\n",
       "      <td>1962263</td>\n",
       "      <td>12세 이용가</td>\n",
       "      <td>총 590화</td>\n",
       "      <td>https://image-comic.pstatic.net/webtoon/183559...</td>\n",
       "    </tr>\n",
       "    <tr>\n",
       "      <th>3</th>\n",
       "      <td>/webtoon/list?titleId=733074</td>\n",
       "      <td>백수세끼</td>\n",
       "      <td>치즈</td>\n",
       "      <td>9.85</td>\n",
       "      <td>백수 시절 내 곁을 지켜줬던 그녀... 돌아와 주면 안 되겠니?\\n음식 메뉴마다 담...</td>\n",
       "      <td>#드라마#음식&amp;요리#감성드라마</td>\n",
       "      <td>484825</td>\n",
       "      <td>전체연령가</td>\n",
       "      <td>총 177화</td>\n",
       "      <td>https://image-comic.pstatic.net/webtoon/733074...</td>\n",
       "    </tr>\n",
       "    <tr>\n",
       "      <th>4</th>\n",
       "      <td>/webtoon/list?titleId=774866</td>\n",
       "      <td>똑 닮은 딸</td>\n",
       "      <td>이담</td>\n",
       "      <td>9.98</td>\n",
       "      <td>'우리 엄마가 살인마인 것 같다.' \\n성적 우수, 품행 단정, 모범적인 자식인 길...</td>\n",
       "      <td>#스릴러#2020 지상최대공모전#서스펜스</td>\n",
       "      <td>495954</td>\n",
       "      <td>15세 이용가</td>\n",
       "      <td>총 104화</td>\n",
       "      <td>https://image-comic.pstatic.net/webtoon/774866...</td>\n",
       "    </tr>\n",
       "  </tbody>\n",
       "</table>\n",
       "</div>"
      ],
      "text/plain": [
       "                           내용링크       제목         작가    별점  \\\n",
       "0  /webtoon/list?titleId=758037      참교육  채용택 / 한가람  9.87   \n",
       "1  /webtoon/list?titleId=648419  뷰티풀 군바리   설이 / 윤성원  9.81   \n",
       "2  /webtoon/list?titleId=183559     신의 탑        SIU  9.88   \n",
       "3  /webtoon/list?titleId=733074     백수세끼         치즈  9.85   \n",
       "4  /webtoon/list?titleId=774866   똑 닮은 딸         이담  9.98   \n",
       "\n",
       "                                                 줄거리  \\\n",
       "0  무너진 교권을 지키기 위해 교권보호국 소속 나화진의 참교육이 시작된다!\\n<부활남>...   \n",
       "1                     '여자도 군대에 간다면?'본격 여자도 군대 가는 만화!   \n",
       "2    자신의 모든 것이었던 소녀를 쫓아 탑에 들어온 소년\\n그리고 그런 소년을 시험하는 탑   \n",
       "3  백수 시절 내 곁을 지켜줬던 그녀... 돌아와 주면 안 되겠니?\\n음식 메뉴마다 담...   \n",
       "4  '우리 엄마가 살인마인 것 같다.' \\n성적 우수, 품행 단정, 모범적인 자식인 길...   \n",
       "\n",
       "                            태그       관심      이용가      몇화  \\\n",
       "0  #액션#블루스트링#사이다#학원물#다크히어로#먼치킨   888507  15세 이용가  총 125화   \n",
       "1              #드라마#직업드라마#밀리터리   783219  15세 이용가  총 405화   \n",
       "2    #판타지#세계관#이능력배틀물#소년왕도물#먼치킨  1962263  12세 이용가  총 590화   \n",
       "3             #드라마#음식&요리#감성드라마   484825    전체연령가  총 177화   \n",
       "4       #스릴러#2020 지상최대공모전#서스펜스   495954  15세 이용가  총 104화   \n",
       "\n",
       "                                               이미지링크  \n",
       "0  https://image-comic.pstatic.net/webtoon/758037...  \n",
       "1  https://image-comic.pstatic.net/webtoon/648419...  \n",
       "2  https://image-comic.pstatic.net/webtoon/183559...  \n",
       "3  https://image-comic.pstatic.net/webtoon/733074...  \n",
       "4  https://image-comic.pstatic.net/webtoon/774866...  "
      ]
     },
     "execution_count": 12,
     "metadata": {},
     "output_type": "execute_result"
    }
   ],
   "source": [
    "import pandas as pd\n",
    "import numpy as np\n",
    "\n",
    "df = pd.read_csv('naver_webtoon.csv')\n",
    "print(df.shape)\n",
    "df.head()"
   ]
  },
  {
   "cell_type": "code",
   "execution_count": 13,
   "id": "0aea1231",
   "metadata": {},
   "outputs": [
    {
     "data": {
      "text/html": [
       "<div>\n",
       "<style scoped>\n",
       "    .dataframe tbody tr th:only-of-type {\n",
       "        vertical-align: middle;\n",
       "    }\n",
       "\n",
       "    .dataframe tbody tr th {\n",
       "        vertical-align: top;\n",
       "    }\n",
       "\n",
       "    .dataframe thead th {\n",
       "        text-align: right;\n",
       "    }\n",
       "</style>\n",
       "<table border=\"1\" class=\"dataframe\">\n",
       "  <thead>\n",
       "    <tr style=\"text-align: right;\">\n",
       "      <th></th>\n",
       "      <th>내용링크</th>\n",
       "      <th>제목</th>\n",
       "      <th>작가</th>\n",
       "      <th>별점</th>\n",
       "      <th>줄거리</th>\n",
       "      <th>태그</th>\n",
       "      <th>관심</th>\n",
       "      <th>이용가</th>\n",
       "      <th>몇화</th>\n",
       "      <th>이미지링크</th>\n",
       "    </tr>\n",
       "  </thead>\n",
       "  <tbody>\n",
       "    <tr>\n",
       "      <th>2465</th>\n",
       "      <td>/webtoon/list?titleId=20762</td>\n",
       "      <td>AA</td>\n",
       "      <td>선정, 지숙 / 지숙, 선정</td>\n",
       "      <td>9.68</td>\n",
       "      <td>대머리 사절을 외치는 여인과 \\n\\n대머리 일것 같은 그녀의 이상형이 벌이는 로맨틱...</td>\n",
       "      <td>#로맨스#완결무료#완결로맨스</td>\n",
       "      <td>1064</td>\n",
       "      <td>전체연령가</td>\n",
       "      <td>총 56화</td>\n",
       "      <td>https://image-comic.pstatic.net/webtoon/20762/...</td>\n",
       "    </tr>\n",
       "    <tr>\n",
       "      <th>2466</th>\n",
       "      <td>/webtoon/list?titleId=15439</td>\n",
       "      <td>사랑in</td>\n",
       "      <td>전세훈</td>\n",
       "      <td>9.51</td>\n",
       "      <td>전세훈의 감성터치-사랑in\\n우리들의 이야기가 수채화 물감처럼 잔잔한 감동으로. 잃...</td>\n",
       "      <td>#로맨스#완결로맨스</td>\n",
       "      <td>735</td>\n",
       "      <td>12세 이용가</td>\n",
       "      <td>총 89화</td>\n",
       "      <td>https://image-comic.pstatic.net/webtoon/15439/...</td>\n",
       "    </tr>\n",
       "    <tr>\n",
       "      <th>2467</th>\n",
       "      <td>/webtoon/list?titleId=22073</td>\n",
       "      <td>까뱅</td>\n",
       "      <td>X-TEAM</td>\n",
       "      <td>8.84</td>\n",
       "      <td>치킨시티의 새로운 영웅 '까뱅'&lt;/br&gt;\\n오늘도 그의 활약은 계속된다!</td>\n",
       "      <td>#개그#완결무료#완결개그</td>\n",
       "      <td>218</td>\n",
       "      <td>전체연령가</td>\n",
       "      <td>총 32화</td>\n",
       "      <td>https://image-comic.pstatic.net/webtoon/22073/...</td>\n",
       "    </tr>\n",
       "    <tr>\n",
       "      <th>2468</th>\n",
       "      <td>/webtoon/list?titleId=15938</td>\n",
       "      <td>와탕카</td>\n",
       "      <td>우주인</td>\n",
       "      <td>9.63</td>\n",
       "      <td>와탕카='만세','지화자'\\n\\n좋은 패가 들어오면 외치는 단어 와탕카! 우주인 작...</td>\n",
       "      <td>#개그#완결무료#완결개그</td>\n",
       "      <td>4840</td>\n",
       "      <td>12세 이용가</td>\n",
       "      <td>총 706화</td>\n",
       "      <td>https://image-comic.pstatic.net/webtoon/15938/...</td>\n",
       "    </tr>\n",
       "    <tr>\n",
       "      <th>2469</th>\n",
       "      <td>/webtoon/list?titleId=15569</td>\n",
       "      <td>타투</td>\n",
       "      <td>노지현</td>\n",
       "      <td>9.20</td>\n",
       "      <td>밝고 쾌활한 여고생 현진과 새로 오픈한 타투 가게의 진우, 유기를 중심으로 벌어지는...</td>\n",
       "      <td>#드라마#완결무료#완결드라마</td>\n",
       "      <td>737</td>\n",
       "      <td>12세 이용가</td>\n",
       "      <td>총 31화</td>\n",
       "      <td>https://image-comic.pstatic.net/webtoon/15569/...</td>\n",
       "    </tr>\n",
       "  </tbody>\n",
       "</table>\n",
       "</div>"
      ],
      "text/plain": [
       "                             내용링크    제목               작가    별점  \\\n",
       "2465  /webtoon/list?titleId=20762    AA  선정, 지숙 / 지숙, 선정  9.68   \n",
       "2466  /webtoon/list?titleId=15439  사랑in              전세훈  9.51   \n",
       "2467  /webtoon/list?titleId=22073    까뱅           X-TEAM  8.84   \n",
       "2468  /webtoon/list?titleId=15938   와탕카              우주인  9.63   \n",
       "2469  /webtoon/list?titleId=15569    타투              노지현  9.20   \n",
       "\n",
       "                                                    줄거리               태그  \\\n",
       "2465  대머리 사절을 외치는 여인과 \\n\\n대머리 일것 같은 그녀의 이상형이 벌이는 로맨틱...  #로맨스#완결무료#완결로맨스   \n",
       "2466  전세훈의 감성터치-사랑in\\n우리들의 이야기가 수채화 물감처럼 잔잔한 감동으로. 잃...       #로맨스#완결로맨스   \n",
       "2467           치킨시티의 새로운 영웅 '까뱅'</br>\\n오늘도 그의 활약은 계속된다!    #개그#완결무료#완결개그   \n",
       "2468  와탕카='만세','지화자'\\n\\n좋은 패가 들어오면 외치는 단어 와탕카! 우주인 작...    #개그#완결무료#완결개그   \n",
       "2469  밝고 쾌활한 여고생 현진과 새로 오픈한 타투 가게의 진우, 유기를 중심으로 벌어지는...  #드라마#완결무료#완결드라마   \n",
       "\n",
       "        관심      이용가      몇화                                              이미지링크  \n",
       "2465  1064    전체연령가   총 56화  https://image-comic.pstatic.net/webtoon/20762/...  \n",
       "2466   735  12세 이용가   총 89화  https://image-comic.pstatic.net/webtoon/15439/...  \n",
       "2467   218    전체연령가   총 32화  https://image-comic.pstatic.net/webtoon/22073/...  \n",
       "2468  4840  12세 이용가  총 706화  https://image-comic.pstatic.net/webtoon/15938/...  \n",
       "2469   737  12세 이용가   총 31화  https://image-comic.pstatic.net/webtoon/15569/...  "
      ]
     },
     "execution_count": 13,
     "metadata": {},
     "output_type": "execute_result"
    }
   ],
   "source": [
    "df.tail()"
   ]
  },
  {
   "cell_type": "code",
   "execution_count": 14,
   "id": "3f0dca33",
   "metadata": {},
   "outputs": [],
   "source": [
    "for i in range(len(df['작가'])):\n",
    "    if '/' in df.loc[i, '작가']:\n",
    "        df.loc[i, '글'] = df.loc[i, '작가'].split('/')[0]\n",
    "        df.loc[i, '그림'] = df.loc[i, '작가'].split('/')[1]\n",
    "    else:\n",
    "        df.loc[i, '글'] = df.loc[i, '작가']\n",
    "        df.loc[i, '그림'] = df.loc[i, '작가']"
   ]
  },
  {
   "cell_type": "code",
   "execution_count": 15,
   "id": "9c77083a",
   "metadata": {},
   "outputs": [
    {
     "data": {
      "text/html": [
       "<div>\n",
       "<style scoped>\n",
       "    .dataframe tbody tr th:only-of-type {\n",
       "        vertical-align: middle;\n",
       "    }\n",
       "\n",
       "    .dataframe tbody tr th {\n",
       "        vertical-align: top;\n",
       "    }\n",
       "\n",
       "    .dataframe thead th {\n",
       "        text-align: right;\n",
       "    }\n",
       "</style>\n",
       "<table border=\"1\" class=\"dataframe\">\n",
       "  <thead>\n",
       "    <tr style=\"text-align: right;\">\n",
       "      <th></th>\n",
       "      <th>내용링크</th>\n",
       "      <th>제목</th>\n",
       "      <th>작가</th>\n",
       "      <th>별점</th>\n",
       "      <th>줄거리</th>\n",
       "      <th>태그</th>\n",
       "      <th>관심</th>\n",
       "      <th>이용가</th>\n",
       "      <th>몇화</th>\n",
       "      <th>이미지링크</th>\n",
       "      <th>글</th>\n",
       "      <th>그림</th>\n",
       "    </tr>\n",
       "  </thead>\n",
       "  <tbody>\n",
       "    <tr>\n",
       "      <th>0</th>\n",
       "      <td>/webtoon/list?titleId=758037</td>\n",
       "      <td>참교육</td>\n",
       "      <td>채용택 / 한가람</td>\n",
       "      <td>9.87</td>\n",
       "      <td>무너진 교권을 지키기 위해 교권보호국 소속 나화진의 참교육이 시작된다!\\n&lt;부활남&gt;...</td>\n",
       "      <td>#액션#블루스트링#사이다#학원물#다크히어로#먼치킨</td>\n",
       "      <td>888507</td>\n",
       "      <td>15세 이용가</td>\n",
       "      <td>총 125화</td>\n",
       "      <td>https://image-comic.pstatic.net/webtoon/758037...</td>\n",
       "      <td>채용택</td>\n",
       "      <td>한가람</td>\n",
       "    </tr>\n",
       "    <tr>\n",
       "      <th>1</th>\n",
       "      <td>/webtoon/list?titleId=648419</td>\n",
       "      <td>뷰티풀 군바리</td>\n",
       "      <td>설이 / 윤성원</td>\n",
       "      <td>9.81</td>\n",
       "      <td>'여자도 군대에 간다면?'본격 여자도 군대 가는 만화!</td>\n",
       "      <td>#드라마#직업드라마#밀리터리</td>\n",
       "      <td>783219</td>\n",
       "      <td>15세 이용가</td>\n",
       "      <td>총 405화</td>\n",
       "      <td>https://image-comic.pstatic.net/webtoon/648419...</td>\n",
       "      <td>설이</td>\n",
       "      <td>윤성원</td>\n",
       "    </tr>\n",
       "    <tr>\n",
       "      <th>2</th>\n",
       "      <td>/webtoon/list?titleId=183559</td>\n",
       "      <td>신의 탑</td>\n",
       "      <td>SIU</td>\n",
       "      <td>9.88</td>\n",
       "      <td>자신의 모든 것이었던 소녀를 쫓아 탑에 들어온 소년\\n그리고 그런 소년을 시험하는 탑</td>\n",
       "      <td>#판타지#세계관#이능력배틀물#소년왕도물#먼치킨</td>\n",
       "      <td>1962263</td>\n",
       "      <td>12세 이용가</td>\n",
       "      <td>총 590화</td>\n",
       "      <td>https://image-comic.pstatic.net/webtoon/183559...</td>\n",
       "      <td>SIU</td>\n",
       "      <td>SIU</td>\n",
       "    </tr>\n",
       "    <tr>\n",
       "      <th>3</th>\n",
       "      <td>/webtoon/list?titleId=733074</td>\n",
       "      <td>백수세끼</td>\n",
       "      <td>치즈</td>\n",
       "      <td>9.85</td>\n",
       "      <td>백수 시절 내 곁을 지켜줬던 그녀... 돌아와 주면 안 되겠니?\\n음식 메뉴마다 담...</td>\n",
       "      <td>#드라마#음식&amp;요리#감성드라마</td>\n",
       "      <td>484825</td>\n",
       "      <td>전체연령가</td>\n",
       "      <td>총 177화</td>\n",
       "      <td>https://image-comic.pstatic.net/webtoon/733074...</td>\n",
       "      <td>치즈</td>\n",
       "      <td>치즈</td>\n",
       "    </tr>\n",
       "    <tr>\n",
       "      <th>4</th>\n",
       "      <td>/webtoon/list?titleId=774866</td>\n",
       "      <td>똑 닮은 딸</td>\n",
       "      <td>이담</td>\n",
       "      <td>9.98</td>\n",
       "      <td>'우리 엄마가 살인마인 것 같다.' \\n성적 우수, 품행 단정, 모범적인 자식인 길...</td>\n",
       "      <td>#스릴러#2020 지상최대공모전#서스펜스</td>\n",
       "      <td>495954</td>\n",
       "      <td>15세 이용가</td>\n",
       "      <td>총 104화</td>\n",
       "      <td>https://image-comic.pstatic.net/webtoon/774866...</td>\n",
       "      <td>이담</td>\n",
       "      <td>이담</td>\n",
       "    </tr>\n",
       "  </tbody>\n",
       "</table>\n",
       "</div>"
      ],
      "text/plain": [
       "                           내용링크       제목         작가    별점  \\\n",
       "0  /webtoon/list?titleId=758037      참교육  채용택 / 한가람  9.87   \n",
       "1  /webtoon/list?titleId=648419  뷰티풀 군바리   설이 / 윤성원  9.81   \n",
       "2  /webtoon/list?titleId=183559     신의 탑        SIU  9.88   \n",
       "3  /webtoon/list?titleId=733074     백수세끼         치즈  9.85   \n",
       "4  /webtoon/list?titleId=774866   똑 닮은 딸         이담  9.98   \n",
       "\n",
       "                                                 줄거리  \\\n",
       "0  무너진 교권을 지키기 위해 교권보호국 소속 나화진의 참교육이 시작된다!\\n<부활남>...   \n",
       "1                     '여자도 군대에 간다면?'본격 여자도 군대 가는 만화!   \n",
       "2    자신의 모든 것이었던 소녀를 쫓아 탑에 들어온 소년\\n그리고 그런 소년을 시험하는 탑   \n",
       "3  백수 시절 내 곁을 지켜줬던 그녀... 돌아와 주면 안 되겠니?\\n음식 메뉴마다 담...   \n",
       "4  '우리 엄마가 살인마인 것 같다.' \\n성적 우수, 품행 단정, 모범적인 자식인 길...   \n",
       "\n",
       "                            태그       관심      이용가      몇화  \\\n",
       "0  #액션#블루스트링#사이다#학원물#다크히어로#먼치킨   888507  15세 이용가  총 125화   \n",
       "1              #드라마#직업드라마#밀리터리   783219  15세 이용가  총 405화   \n",
       "2    #판타지#세계관#이능력배틀물#소년왕도물#먼치킨  1962263  12세 이용가  총 590화   \n",
       "3             #드라마#음식&요리#감성드라마   484825    전체연령가  총 177화   \n",
       "4       #스릴러#2020 지상최대공모전#서스펜스   495954  15세 이용가  총 104화   \n",
       "\n",
       "                                               이미지링크     글    그림  \n",
       "0  https://image-comic.pstatic.net/webtoon/758037...  채용택    한가람  \n",
       "1  https://image-comic.pstatic.net/webtoon/648419...   설이    윤성원  \n",
       "2  https://image-comic.pstatic.net/webtoon/183559...   SIU   SIU  \n",
       "3  https://image-comic.pstatic.net/webtoon/733074...    치즈    치즈  \n",
       "4  https://image-comic.pstatic.net/webtoon/774866...    이담    이담  "
      ]
     },
     "execution_count": 15,
     "metadata": {},
     "output_type": "execute_result"
    }
   ],
   "source": [
    "df.head()"
   ]
  },
  {
   "cell_type": "code",
   "execution_count": 16,
   "id": "c02238d1",
   "metadata": {},
   "outputs": [
    {
     "name": "stdout",
     "output_type": "stream",
     "text": [
      "(74, 12)\n"
     ]
    },
    {
     "data": {
      "text/html": [
       "<div>\n",
       "<style scoped>\n",
       "    .dataframe tbody tr th:only-of-type {\n",
       "        vertical-align: middle;\n",
       "    }\n",
       "\n",
       "    .dataframe tbody tr th {\n",
       "        vertical-align: top;\n",
       "    }\n",
       "\n",
       "    .dataframe thead th {\n",
       "        text-align: right;\n",
       "    }\n",
       "</style>\n",
       "<table border=\"1\" class=\"dataframe\">\n",
       "  <thead>\n",
       "    <tr style=\"text-align: right;\">\n",
       "      <th></th>\n",
       "      <th>내용링크</th>\n",
       "      <th>제목</th>\n",
       "      <th>작가</th>\n",
       "      <th>별점</th>\n",
       "      <th>줄거리</th>\n",
       "      <th>태그</th>\n",
       "      <th>관심</th>\n",
       "      <th>이용가</th>\n",
       "      <th>몇화</th>\n",
       "      <th>이미지링크</th>\n",
       "      <th>글</th>\n",
       "      <th>그림</th>\n",
       "    </tr>\n",
       "  </thead>\n",
       "  <tbody>\n",
       "    <tr>\n",
       "      <th>9</th>\n",
       "      <td>/webtoon/list?titleId=796867</td>\n",
       "      <td>버림받은 왕녀의 은밀한 침실</td>\n",
       "      <td>혜니 / 성혜림</td>\n",
       "      <td>9.96</td>\n",
       "      <td>연령확인필요</td>\n",
       "      <td>연령확인필요</td>\n",
       "      <td>연령확인필요</td>\n",
       "      <td>연령확인필요</td>\n",
       "      <td>연령확인필요</td>\n",
       "      <td>연령확인필요</td>\n",
       "      <td>혜니</td>\n",
       "      <td>성혜림</td>\n",
       "    </tr>\n",
       "    <tr>\n",
       "      <th>12</th>\n",
       "      <td>/webtoon/list?titleId=813552</td>\n",
       "      <td>우아한 욕망</td>\n",
       "      <td>김종건</td>\n",
       "      <td>9.91</td>\n",
       "      <td>연령확인필요</td>\n",
       "      <td>연령확인필요</td>\n",
       "      <td>연령확인필요</td>\n",
       "      <td>연령확인필요</td>\n",
       "      <td>연령확인필요</td>\n",
       "      <td>연령확인필요</td>\n",
       "      <td>김종건</td>\n",
       "      <td>김종건</td>\n",
       "    </tr>\n",
       "    <tr>\n",
       "      <th>111</th>\n",
       "      <td>/webtoon/list?titleId=812414</td>\n",
       "      <td>포 더 퀸덤</td>\n",
       "      <td>로즈옹</td>\n",
       "      <td>9.93</td>\n",
       "      <td>연령확인필요</td>\n",
       "      <td>연령확인필요</td>\n",
       "      <td>연령확인필요</td>\n",
       "      <td>연령확인필요</td>\n",
       "      <td>연령확인필요</td>\n",
       "      <td>연령확인필요</td>\n",
       "      <td>로즈옹</td>\n",
       "      <td>로즈옹</td>\n",
       "    </tr>\n",
       "    <tr>\n",
       "      <th>114</th>\n",
       "      <td>/webtoon/list?titleId=812161</td>\n",
       "      <td>도태교실</td>\n",
       "      <td>황준호</td>\n",
       "      <td>9.90</td>\n",
       "      <td>연령확인필요</td>\n",
       "      <td>연령확인필요</td>\n",
       "      <td>연령확인필요</td>\n",
       "      <td>연령확인필요</td>\n",
       "      <td>연령확인필요</td>\n",
       "      <td>연령확인필요</td>\n",
       "      <td>황준호</td>\n",
       "      <td>황준호</td>\n",
       "    </tr>\n",
       "    <tr>\n",
       "      <th>189</th>\n",
       "      <td>/webtoon/list?titleId=807859</td>\n",
       "      <td>성스러운 작가생활</td>\n",
       "      <td>이작가야</td>\n",
       "      <td>9.95</td>\n",
       "      <td>연령확인필요</td>\n",
       "      <td>연령확인필요</td>\n",
       "      <td>연령확인필요</td>\n",
       "      <td>연령확인필요</td>\n",
       "      <td>연령확인필요</td>\n",
       "      <td>연령확인필요</td>\n",
       "      <td>이작가야</td>\n",
       "      <td>이작가야</td>\n",
       "    </tr>\n",
       "  </tbody>\n",
       "</table>\n",
       "</div>"
      ],
      "text/plain": [
       "                             내용링크               제목        작가    별점     줄거리  \\\n",
       "9    /webtoon/list?titleId=796867  버림받은 왕녀의 은밀한 침실  혜니 / 성혜림  9.96  연령확인필요   \n",
       "12   /webtoon/list?titleId=813552           우아한 욕망       김종건  9.91  연령확인필요   \n",
       "111  /webtoon/list?titleId=812414           포 더 퀸덤       로즈옹  9.93  연령확인필요   \n",
       "114  /webtoon/list?titleId=812161             도태교실       황준호  9.90  연령확인필요   \n",
       "189  /webtoon/list?titleId=807859        성스러운 작가생활      이작가야  9.95  연령확인필요   \n",
       "\n",
       "         태그      관심     이용가      몇화   이미지링크     글    그림  \n",
       "9    연령확인필요  연령확인필요  연령확인필요  연령확인필요  연령확인필요   혜니    성혜림  \n",
       "12   연령확인필요  연령확인필요  연령확인필요  연령확인필요  연령확인필요   김종건   김종건  \n",
       "111  연령확인필요  연령확인필요  연령확인필요  연령확인필요  연령확인필요   로즈옹   로즈옹  \n",
       "114  연령확인필요  연령확인필요  연령확인필요  연령확인필요  연령확인필요   황준호   황준호  \n",
       "189  연령확인필요  연령확인필요  연령확인필요  연령확인필요  연령확인필요  이작가야  이작가야  "
      ]
     },
     "execution_count": 16,
     "metadata": {},
     "output_type": "execute_result"
    }
   ],
   "source": [
    "df_check = df[df['줄거리'] == '연령확인필요']\n",
    "print(df_check.shape)\n",
    "df_check.head()"
   ]
  },
  {
   "cell_type": "code",
   "execution_count": 21,
   "id": "3b81f3bd",
   "metadata": {},
   "outputs": [],
   "source": [
    "import pandas as pd\n",
    "import numpy as np\n",
    "from tqdm import trange\n",
    "from tqdm import tqdm\n",
    "import time\n",
    "\n",
    "from bs4 import BeautifulSoup\n",
    "from tqdm import tqdm_notebook\n",
    "from selenium import webdriver\n",
    "\n",
    "from selenium.webdriver.common.by import By\n",
    "from selenium.webdriver.support.ui import WebDriverWait\n",
    "from selenium.webdriver.support import expected_conditions as EC\n",
    "\n",
    "from selenium.webdriver.common.keys import Keys\n",
    "from selenium.webdriver.chrome.service import Service\n",
    "\n",
    "service = Service()\n",
    "driver = webdriver.Chrome(service=service)\n",
    "\n",
    "# 윈도우 화면 최대화\n",
    "driver.maximize_window()\n",
    "cnt = 0\n",
    "for i in range(0, len(df)):\n",
    "    if df.loc[i, '줄거리'] == '연령확인필요':\n",
    "        if cnt == 0:\n",
    "            url = 'https://comic.naver.com' + df.loc[i, '내용링크']\n",
    "            driver.get(url)\n",
    "            time.sleep(1)\n",
    "\n",
    "            # 아이디, 비밀번호를 각각 변수에 저장\n",
    "            my_id = 'hiraz43'\n",
    "            my_pw = 'dnfl0dnjsgkwk@'\n",
    "\n",
    "            # 아이디와 비밀번호 입력\n",
    "            driver.execute_script(\"document.getElementsByName('id')[0].value = \\'\" + my_id + \"\\'\")\n",
    "            driver.execute_script(\"document.getElementsByName('pw')[0].value = \\'\" + my_pw + \"\\'\")\n",
    "            time.sleep(1)\n",
    "\n",
    "            # 로그인 버튼 클릭\n",
    "            button = driver.find_element(By.ID, 'log.login')\n",
    "            button.click()\n",
    "            time.sleep(1)\n",
    "            cnt = 1\n",
    "            element = WebDriverWait(driver, 10).until(EC.presence_of_element_located((By.CSS_SELECTOR, \"#content > div.EpisodeListView__episode_list_wrap--q0VYg > ul > li:nth-child(1) > a > div.EpisodeListList__thumbnail_area--EL1aw > img\")))\n",
    "\n",
    "            \n",
    "            df.loc[i, '줄거리'] = driver.find_element(By.CSS_SELECTOR, '#content > div.EpisodeListInfo__comic_info--yRAu0 > div > div.EpisodeListInfo__summary_wrap--ZWNW5 > p').text\n",
    "            df.loc[i, '태그'] = driver.find_element(By.CSS_SELECTOR, 'div.TagGroup__tag_group--uUJza').text.replace('\\n','')\n",
    "            df.loc[i, '이용가'] = driver.find_element(By.CSS_SELECTOR, '#content > div.EpisodeListInfo__comic_info--yRAu0 > div > div.ContentMetaInfo__meta_info--GbTg4 > em').text.split('∙')[-1].replace('\\n','')\n",
    "            df.loc[i, '몇화'] = driver.find_element(By.CSS_SELECTOR, '#content > div.EpisodeListView__episode_list_wrap--q0VYg > div.EpisodeListView__episode_list_head--PapRv > div.EpisodeListView__count--fTMc5').text\n",
    "            df.loc[i, '관심'] = driver.find_element(By.CSS_SELECTOR, '#content > div.EpisodeListView__user_wrap--S_pYn > div > button.EpisodeListUser__item--Fjp4R.EpisodeListUser__favorite--DzoPt > span.EpisodeListUser__count--fNEWK').text.replace(',','')\n",
    "            df.loc[i, '이미지링크'] = driver.find_element(By.CSS_SELECTOR, '#content > div.EpisodeListView__episode_list_wrap--q0VYg > ul > li:nth-child(1) > a > div.EpisodeListList__thumbnail_area--EL1aw > img').get_attribute('src')\n",
    "        \n",
    "        else:\n",
    "            url = 'https://comic.naver.com' + df.loc[i, '내용링크']\n",
    "            driver.get(url)\n",
    "            time.sleep(1)\n",
    "            \n",
    "            df.loc[i, '줄거리'] = driver.find_element(By.CSS_SELECTOR, '#content > div.EpisodeListInfo__comic_info--yRAu0 > div > div.EpisodeListInfo__summary_wrap--ZWNW5 > p').text\n",
    "            df.loc[i, '태그'] = driver.find_element(By.CSS_SELECTOR, 'div.TagGroup__tag_group--uUJza').text.replace('\\n','')\n",
    "            df.loc[i, '이용가'] = driver.find_element(By.CSS_SELECTOR, '#content > div.EpisodeListInfo__comic_info--yRAu0 > div > div.ContentMetaInfo__meta_info--GbTg4 > em').text.split('∙')[-1].replace('\\n','')\n",
    "            df.loc[i, '몇화'] = driver.find_element(By.CSS_SELECTOR, '#content > div.EpisodeListView__episode_list_wrap--q0VYg > div.EpisodeListView__episode_list_head--PapRv > div.EpisodeListView__count--fTMc5').text\n",
    "            df.loc[i, '관심'] = driver.find_element(By.CSS_SELECTOR, '#content > div.EpisodeListView__user_wrap--S_pYn > div > button.EpisodeListUser__item--Fjp4R.EpisodeListUser__favorite--DzoPt > span.EpisodeListUser__count--fNEWK').text.replace(',','')\n",
    "            df.loc[i, '이미지링크'] = driver.find_element(By.CSS_SELECTOR, '#content > div.EpisodeListView__episode_list_wrap--q0VYg > ul > li:nth-child(1) > a > div.EpisodeListList__thumbnail_area--EL1aw > img').get_attribute('src')\n",
    "    else:\n",
    "        continue"
   ]
  },
  {
   "cell_type": "code",
   "execution_count": 22,
   "id": "2e09cfd7",
   "metadata": {},
   "outputs": [
    {
     "data": {
      "text/html": [
       "<div>\n",
       "<style scoped>\n",
       "    .dataframe tbody tr th:only-of-type {\n",
       "        vertical-align: middle;\n",
       "    }\n",
       "\n",
       "    .dataframe tbody tr th {\n",
       "        vertical-align: top;\n",
       "    }\n",
       "\n",
       "    .dataframe thead th {\n",
       "        text-align: right;\n",
       "    }\n",
       "</style>\n",
       "<table border=\"1\" class=\"dataframe\">\n",
       "  <thead>\n",
       "    <tr style=\"text-align: right;\">\n",
       "      <th></th>\n",
       "      <th>내용링크</th>\n",
       "      <th>제목</th>\n",
       "      <th>작가</th>\n",
       "      <th>별점</th>\n",
       "      <th>줄거리</th>\n",
       "      <th>태그</th>\n",
       "      <th>관심</th>\n",
       "      <th>이용가</th>\n",
       "      <th>몇화</th>\n",
       "      <th>이미지링크</th>\n",
       "      <th>글</th>\n",
       "      <th>그림</th>\n",
       "    </tr>\n",
       "  </thead>\n",
       "  <tbody>\n",
       "  </tbody>\n",
       "</table>\n",
       "</div>"
      ],
      "text/plain": [
       "Empty DataFrame\n",
       "Columns: [내용링크, 제목, 작가, 별점, 줄거리, 태그, 관심, 이용가, 몇화, 이미지링크, 글, 그림]\n",
       "Index: []"
      ]
     },
     "execution_count": 22,
     "metadata": {},
     "output_type": "execute_result"
    }
   ],
   "source": [
    "df[df['줄거리'] == '연령확인필요']"
   ]
  },
  {
   "cell_type": "code",
   "execution_count": 23,
   "id": "a4f5868a",
   "metadata": {},
   "outputs": [
    {
     "data": {
      "text/html": [
       "<div>\n",
       "<style scoped>\n",
       "    .dataframe tbody tr th:only-of-type {\n",
       "        vertical-align: middle;\n",
       "    }\n",
       "\n",
       "    .dataframe tbody tr th {\n",
       "        vertical-align: top;\n",
       "    }\n",
       "\n",
       "    .dataframe thead th {\n",
       "        text-align: right;\n",
       "    }\n",
       "</style>\n",
       "<table border=\"1\" class=\"dataframe\">\n",
       "  <thead>\n",
       "    <tr style=\"text-align: right;\">\n",
       "      <th></th>\n",
       "      <th>내용링크</th>\n",
       "      <th>제목</th>\n",
       "      <th>작가</th>\n",
       "      <th>별점</th>\n",
       "      <th>줄거리</th>\n",
       "      <th>태그</th>\n",
       "      <th>관심</th>\n",
       "      <th>이용가</th>\n",
       "      <th>몇화</th>\n",
       "      <th>이미지링크</th>\n",
       "      <th>글</th>\n",
       "      <th>그림</th>\n",
       "    </tr>\n",
       "  </thead>\n",
       "  <tbody>\n",
       "    <tr>\n",
       "      <th>9</th>\n",
       "      <td>/webtoon/list?titleId=796867</td>\n",
       "      <td>버림받은 왕녀의 은밀한 침실</td>\n",
       "      <td>혜니 / 성혜림</td>\n",
       "      <td>9.96</td>\n",
       "      <td>한때는 추앙받았지만 지금은 비참하게 버림받은 왕녀 르웰린. 아무도 보호해 주지 않는...</td>\n",
       "      <td>#로맨스#고자극로맨스#궁중로맨스#까칠남#소설원작#성인웹툰</td>\n",
       "      <td>292313</td>\n",
       "      <td>18세 이용가</td>\n",
       "      <td>총 69화</td>\n",
       "      <td>https://image-comic.pstatic.net/webtoon/796867...</td>\n",
       "      <td>혜니</td>\n",
       "      <td>성혜림</td>\n",
       "    </tr>\n",
       "    <tr>\n",
       "      <th>12</th>\n",
       "      <td>/webtoon/list?titleId=813552</td>\n",
       "      <td>우아한 욕망</td>\n",
       "      <td>김종건</td>\n",
       "      <td>9.91</td>\n",
       "      <td>늦은 밤 열린 호텔 엘리베이터.\\n그 안에는 오래 전 첫사랑이 중년 여성과 함께 있...</td>\n",
       "      <td>#로맨스#고자극로맨스#성인웹툰</td>\n",
       "      <td>80178</td>\n",
       "      <td>18세 이용가</td>\n",
       "      <td>총 13화</td>\n",
       "      <td>https://image-comic.pstatic.net/webtoon/813552...</td>\n",
       "      <td>김종건</td>\n",
       "      <td>김종건</td>\n",
       "    </tr>\n",
       "    <tr>\n",
       "      <th>111</th>\n",
       "      <td>/webtoon/list?titleId=812414</td>\n",
       "      <td>포 더 퀸덤</td>\n",
       "      <td>로즈옹</td>\n",
       "      <td>9.93</td>\n",
       "      <td>악마 아벨은 인간 여자 연리에게 사랑하는 형, 카인을 잃고 만다.\\n분노에 가득 차...</td>\n",
       "      <td>#로맨스#고자극로맨스#혐관로맨스#성인웹툰</td>\n",
       "      <td>87965</td>\n",
       "      <td>18세 이용가</td>\n",
       "      <td>총 16화</td>\n",
       "      <td>https://image-comic.pstatic.net/webtoon/812414...</td>\n",
       "      <td>로즈옹</td>\n",
       "      <td>로즈옹</td>\n",
       "    </tr>\n",
       "    <tr>\n",
       "      <th>114</th>\n",
       "      <td>/webtoon/list?titleId=812161</td>\n",
       "      <td>도태교실</td>\n",
       "      <td>황준호</td>\n",
       "      <td>9.90</td>\n",
       "      <td>같은 반 여학생을 스토킹했다는 누명을 쓰고 왕따가 된 소년 온유이. \\n지옥 같은 ...</td>\n",
       "      <td>#스릴러#복수극#성인웹툰</td>\n",
       "      <td>48495</td>\n",
       "      <td>18세 이용가</td>\n",
       "      <td>총 20화</td>\n",
       "      <td>https://image-comic.pstatic.net/webtoon/812161...</td>\n",
       "      <td>황준호</td>\n",
       "      <td>황준호</td>\n",
       "    </tr>\n",
       "    <tr>\n",
       "      <th>189</th>\n",
       "      <td>/webtoon/list?titleId=807859</td>\n",
       "      <td>성스러운 작가생활</td>\n",
       "      <td>이작가야</td>\n",
       "      <td>9.95</td>\n",
       "      <td>한 때 잘 나갔던 성인웹툰작가 하윤은\\n대차게 몰락했다. 밑바닥 노잼 작가로.\\n1...</td>\n",
       "      <td>#로맨스#요즘핫한추천작#로맨스코미디#직업드라마#전남친#까칠남#성인웹툰</td>\n",
       "      <td>184968</td>\n",
       "      <td>18세 이용가</td>\n",
       "      <td>총 31화</td>\n",
       "      <td>https://image-comic.pstatic.net/webtoon/807859...</td>\n",
       "      <td>이작가야</td>\n",
       "      <td>이작가야</td>\n",
       "    </tr>\n",
       "    <tr>\n",
       "      <th>...</th>\n",
       "      <td>...</td>\n",
       "      <td>...</td>\n",
       "      <td>...</td>\n",
       "      <td>...</td>\n",
       "      <td>...</td>\n",
       "      <td>...</td>\n",
       "      <td>...</td>\n",
       "      <td>...</td>\n",
       "      <td>...</td>\n",
       "      <td>...</td>\n",
       "      <td>...</td>\n",
       "      <td>...</td>\n",
       "    </tr>\n",
       "    <tr>\n",
       "      <th>2381</th>\n",
       "      <td>/webtoon/list?titleId=186813</td>\n",
       "      <td>증거</td>\n",
       "      <td>이승찬</td>\n",
       "      <td>9.81</td>\n",
       "      <td>가장 편안해야 할 공간인 자신의 집이\\n더 이상 자신만의 것이 아니게 되었다!</td>\n",
       "      <td>#스릴러#범죄#성인웹툰#완결스릴러</td>\n",
       "      <td>3838</td>\n",
       "      <td>18세 이용가</td>\n",
       "      <td>총 24화</td>\n",
       "      <td>https://image-comic.pstatic.net/webtoon/186813...</td>\n",
       "      <td>이승찬</td>\n",
       "      <td>이승찬</td>\n",
       "    </tr>\n",
       "    <tr>\n",
       "      <th>2382</th>\n",
       "      <td>/webtoon/list?titleId=137706</td>\n",
       "      <td>의령수</td>\n",
       "      <td>김우준</td>\n",
       "      <td>9.88</td>\n",
       "      <td>한국콘텐츠진흥원과 함께하는 2009 네이버 웹툰 공모전 우수상 수상작\\n끊임없이 일...</td>\n",
       "      <td>#스릴러#성인웹툰#완결스릴러</td>\n",
       "      <td>6586</td>\n",
       "      <td>18세 이용가</td>\n",
       "      <td>총 43화</td>\n",
       "      <td>https://image-comic.pstatic.net/webtoon/137706...</td>\n",
       "      <td>김우준</td>\n",
       "      <td>김우준</td>\n",
       "    </tr>\n",
       "    <tr>\n",
       "      <th>2400</th>\n",
       "      <td>/webtoon/list?titleId=89098</td>\n",
       "      <td>몽타주</td>\n",
       "      <td>단우</td>\n",
       "      <td>9.91</td>\n",
       "      <td>&lt;미스터리 호러 지하철&gt;의 단우가 스릴러로 돌아오다.\\n \\n사람의 얼굴을 기억하지...</td>\n",
       "      <td>#스릴러#성인웹툰#완결스릴러</td>\n",
       "      <td>21385</td>\n",
       "      <td>18세 이용가</td>\n",
       "      <td>총 32화</td>\n",
       "      <td>https://image-comic.pstatic.net/webtoon/89098/...</td>\n",
       "      <td>단우</td>\n",
       "      <td>단우</td>\n",
       "    </tr>\n",
       "    <tr>\n",
       "      <th>2405</th>\n",
       "      <td>/webtoon/list?titleId=94760</td>\n",
       "      <td>악연</td>\n",
       "      <td>황준호</td>\n",
       "      <td>9.90</td>\n",
       "      <td>싸이코패스.\\n연쇄살인범.\\n그리고 마주치는 사람들.</td>\n",
       "      <td>#스릴러#성인웹툰#완결스릴러</td>\n",
       "      <td>24564</td>\n",
       "      <td>18세 이용가</td>\n",
       "      <td>총 21화</td>\n",
       "      <td>https://image-comic.pstatic.net/webtoon/94760/...</td>\n",
       "      <td>황준호</td>\n",
       "      <td>황준호</td>\n",
       "    </tr>\n",
       "    <tr>\n",
       "      <th>2434</th>\n",
       "      <td>/webtoon/list?titleId=26115</td>\n",
       "      <td>고향의꽃</td>\n",
       "      <td>한(恨)</td>\n",
       "      <td>9.86</td>\n",
       "      <td>그곳의 비밀과 배신, 그리고 음모...7년 만에 찾은 고향에서 벌어지는 한 남자의 ...</td>\n",
       "      <td>#스릴러#성인웹툰#완결스릴러</td>\n",
       "      <td>9779</td>\n",
       "      <td>18세 이용가</td>\n",
       "      <td>총 52화</td>\n",
       "      <td>https://image-comic.pstatic.net/webtoon/26115/...</td>\n",
       "      <td>한(恨)</td>\n",
       "      <td>한(恨)</td>\n",
       "    </tr>\n",
       "  </tbody>\n",
       "</table>\n",
       "<p>74 rows × 12 columns</p>\n",
       "</div>"
      ],
      "text/plain": [
       "                              내용링크               제목        작가    별점  \\\n",
       "9     /webtoon/list?titleId=796867  버림받은 왕녀의 은밀한 침실  혜니 / 성혜림  9.96   \n",
       "12    /webtoon/list?titleId=813552           우아한 욕망       김종건  9.91   \n",
       "111   /webtoon/list?titleId=812414           포 더 퀸덤       로즈옹  9.93   \n",
       "114   /webtoon/list?titleId=812161             도태교실       황준호  9.90   \n",
       "189   /webtoon/list?titleId=807859        성스러운 작가생활      이작가야  9.95   \n",
       "...                            ...              ...       ...   ...   \n",
       "2381  /webtoon/list?titleId=186813               증거       이승찬  9.81   \n",
       "2382  /webtoon/list?titleId=137706              의령수       김우준  9.88   \n",
       "2400   /webtoon/list?titleId=89098              몽타주        단우  9.91   \n",
       "2405   /webtoon/list?titleId=94760               악연       황준호  9.90   \n",
       "2434   /webtoon/list?titleId=26115             고향의꽃      한(恨)  9.86   \n",
       "\n",
       "                                                    줄거리  \\\n",
       "9     한때는 추앙받았지만 지금은 비참하게 버림받은 왕녀 르웰린. 아무도 보호해 주지 않는...   \n",
       "12    늦은 밤 열린 호텔 엘리베이터.\\n그 안에는 오래 전 첫사랑이 중년 여성과 함께 있...   \n",
       "111   악마 아벨은 인간 여자 연리에게 사랑하는 형, 카인을 잃고 만다.\\n분노에 가득 차...   \n",
       "114   같은 반 여학생을 스토킹했다는 누명을 쓰고 왕따가 된 소년 온유이. \\n지옥 같은 ...   \n",
       "189   한 때 잘 나갔던 성인웹툰작가 하윤은\\n대차게 몰락했다. 밑바닥 노잼 작가로.\\n1...   \n",
       "...                                                 ...   \n",
       "2381        가장 편안해야 할 공간인 자신의 집이\\n더 이상 자신만의 것이 아니게 되었다!   \n",
       "2382  한국콘텐츠진흥원과 함께하는 2009 네이버 웹툰 공모전 우수상 수상작\\n끊임없이 일...   \n",
       "2400  <미스터리 호러 지하철>의 단우가 스릴러로 돌아오다.\\n \\n사람의 얼굴을 기억하지...   \n",
       "2405                      싸이코패스.\\n연쇄살인범.\\n그리고 마주치는 사람들.   \n",
       "2434  그곳의 비밀과 배신, 그리고 음모...7년 만에 찾은 고향에서 벌어지는 한 남자의 ...   \n",
       "\n",
       "                                          태그      관심      이용가     몇화  \\\n",
       "9            #로맨스#고자극로맨스#궁중로맨스#까칠남#소설원작#성인웹툰  292313  18세 이용가  총 69화   \n",
       "12                          #로맨스#고자극로맨스#성인웹툰   80178  18세 이용가  총 13화   \n",
       "111                   #로맨스#고자극로맨스#혐관로맨스#성인웹툰   87965  18세 이용가  총 16화   \n",
       "114                            #스릴러#복수극#성인웹툰   48495  18세 이용가  총 20화   \n",
       "189   #로맨스#요즘핫한추천작#로맨스코미디#직업드라마#전남친#까칠남#성인웹툰  184968  18세 이용가  총 31화   \n",
       "...                                      ...     ...      ...    ...   \n",
       "2381                      #스릴러#범죄#성인웹툰#완결스릴러    3838  18세 이용가  총 24화   \n",
       "2382                         #스릴러#성인웹툰#완결스릴러    6586  18세 이용가  총 43화   \n",
       "2400                         #스릴러#성인웹툰#완결스릴러   21385  18세 이용가  총 32화   \n",
       "2405                         #스릴러#성인웹툰#완결스릴러   24564  18세 이용가  총 21화   \n",
       "2434                         #스릴러#성인웹툰#완결스릴러    9779  18세 이용가  총 52화   \n",
       "\n",
       "                                                  이미지링크     글    그림  \n",
       "9     https://image-comic.pstatic.net/webtoon/796867...   혜니    성혜림  \n",
       "12    https://image-comic.pstatic.net/webtoon/813552...   김종건   김종건  \n",
       "111   https://image-comic.pstatic.net/webtoon/812414...   로즈옹   로즈옹  \n",
       "114   https://image-comic.pstatic.net/webtoon/812161...   황준호   황준호  \n",
       "189   https://image-comic.pstatic.net/webtoon/807859...  이작가야  이작가야  \n",
       "...                                                 ...   ...   ...  \n",
       "2381  https://image-comic.pstatic.net/webtoon/186813...   이승찬   이승찬  \n",
       "2382  https://image-comic.pstatic.net/webtoon/137706...   김우준   김우준  \n",
       "2400  https://image-comic.pstatic.net/webtoon/89098/...    단우    단우  \n",
       "2405  https://image-comic.pstatic.net/webtoon/94760/...   황준호   황준호  \n",
       "2434  https://image-comic.pstatic.net/webtoon/26115/...  한(恨)  한(恨)  \n",
       "\n",
       "[74 rows x 12 columns]"
      ]
     },
     "execution_count": 23,
     "metadata": {},
     "output_type": "execute_result"
    }
   ],
   "source": [
    "df.loc[df_check.index]"
   ]
  },
  {
   "cell_type": "code",
   "execution_count": 24,
   "id": "5370e358",
   "metadata": {},
   "outputs": [],
   "source": [
    "df['줄거리'] = df['줄거리'].str.replace('\\n', '')"
   ]
  },
  {
   "cell_type": "code",
   "execution_count": 25,
   "id": "55127499",
   "metadata": {},
   "outputs": [],
   "source": [
    "df['장르'] = df['태그'].str.split('#').str[1]"
   ]
  },
  {
   "cell_type": "code",
   "execution_count": 26,
   "id": "8cead2e0",
   "metadata": {},
   "outputs": [
    {
     "data": {
      "text/html": [
       "<div>\n",
       "<style scoped>\n",
       "    .dataframe tbody tr th:only-of-type {\n",
       "        vertical-align: middle;\n",
       "    }\n",
       "\n",
       "    .dataframe tbody tr th {\n",
       "        vertical-align: top;\n",
       "    }\n",
       "\n",
       "    .dataframe thead th {\n",
       "        text-align: right;\n",
       "    }\n",
       "</style>\n",
       "<table border=\"1\" class=\"dataframe\">\n",
       "  <thead>\n",
       "    <tr style=\"text-align: right;\">\n",
       "      <th></th>\n",
       "      <th>내용링크</th>\n",
       "      <th>제목</th>\n",
       "      <th>작가</th>\n",
       "      <th>별점</th>\n",
       "      <th>줄거리</th>\n",
       "      <th>태그</th>\n",
       "      <th>관심</th>\n",
       "      <th>이용가</th>\n",
       "      <th>몇화</th>\n",
       "      <th>이미지링크</th>\n",
       "      <th>글</th>\n",
       "      <th>그림</th>\n",
       "      <th>장르</th>\n",
       "    </tr>\n",
       "  </thead>\n",
       "  <tbody>\n",
       "    <tr>\n",
       "      <th>0</th>\n",
       "      <td>/webtoon/list?titleId=758037</td>\n",
       "      <td>참교육</td>\n",
       "      <td>채용택 / 한가람</td>\n",
       "      <td>9.87</td>\n",
       "      <td>무너진 교권을 지키기 위해 교권보호국 소속 나화진의 참교육이 시작된다!&lt;부활남&gt; 채...</td>\n",
       "      <td>#액션#블루스트링#사이다#학원물#다크히어로#먼치킨</td>\n",
       "      <td>888507</td>\n",
       "      <td>15세 이용가</td>\n",
       "      <td>총 125화</td>\n",
       "      <td>https://image-comic.pstatic.net/webtoon/758037...</td>\n",
       "      <td>채용택</td>\n",
       "      <td>한가람</td>\n",
       "      <td>액션</td>\n",
       "    </tr>\n",
       "    <tr>\n",
       "      <th>1</th>\n",
       "      <td>/webtoon/list?titleId=648419</td>\n",
       "      <td>뷰티풀 군바리</td>\n",
       "      <td>설이 / 윤성원</td>\n",
       "      <td>9.81</td>\n",
       "      <td>'여자도 군대에 간다면?'본격 여자도 군대 가는 만화!</td>\n",
       "      <td>#드라마#직업드라마#밀리터리</td>\n",
       "      <td>783219</td>\n",
       "      <td>15세 이용가</td>\n",
       "      <td>총 405화</td>\n",
       "      <td>https://image-comic.pstatic.net/webtoon/648419...</td>\n",
       "      <td>설이</td>\n",
       "      <td>윤성원</td>\n",
       "      <td>드라마</td>\n",
       "    </tr>\n",
       "    <tr>\n",
       "      <th>2</th>\n",
       "      <td>/webtoon/list?titleId=183559</td>\n",
       "      <td>신의 탑</td>\n",
       "      <td>SIU</td>\n",
       "      <td>9.88</td>\n",
       "      <td>자신의 모든 것이었던 소녀를 쫓아 탑에 들어온 소년그리고 그런 소년을 시험하는 탑</td>\n",
       "      <td>#판타지#세계관#이능력배틀물#소년왕도물#먼치킨</td>\n",
       "      <td>1962263</td>\n",
       "      <td>12세 이용가</td>\n",
       "      <td>총 590화</td>\n",
       "      <td>https://image-comic.pstatic.net/webtoon/183559...</td>\n",
       "      <td>SIU</td>\n",
       "      <td>SIU</td>\n",
       "      <td>판타지</td>\n",
       "    </tr>\n",
       "    <tr>\n",
       "      <th>3</th>\n",
       "      <td>/webtoon/list?titleId=733074</td>\n",
       "      <td>백수세끼</td>\n",
       "      <td>치즈</td>\n",
       "      <td>9.85</td>\n",
       "      <td>백수 시절 내 곁을 지켜줬던 그녀... 돌아와 주면 안 되겠니?음식 메뉴마다 담겨 ...</td>\n",
       "      <td>#드라마#음식&amp;요리#감성드라마</td>\n",
       "      <td>484825</td>\n",
       "      <td>전체연령가</td>\n",
       "      <td>총 177화</td>\n",
       "      <td>https://image-comic.pstatic.net/webtoon/733074...</td>\n",
       "      <td>치즈</td>\n",
       "      <td>치즈</td>\n",
       "      <td>드라마</td>\n",
       "    </tr>\n",
       "    <tr>\n",
       "      <th>4</th>\n",
       "      <td>/webtoon/list?titleId=774866</td>\n",
       "      <td>똑 닮은 딸</td>\n",
       "      <td>이담</td>\n",
       "      <td>9.98</td>\n",
       "      <td>'우리 엄마가 살인마인 것 같다.' 성적 우수, 품행 단정, 모범적인 자식인 길소명...</td>\n",
       "      <td>#스릴러#2020 지상최대공모전#서스펜스</td>\n",
       "      <td>495954</td>\n",
       "      <td>15세 이용가</td>\n",
       "      <td>총 104화</td>\n",
       "      <td>https://image-comic.pstatic.net/webtoon/774866...</td>\n",
       "      <td>이담</td>\n",
       "      <td>이담</td>\n",
       "      <td>스릴러</td>\n",
       "    </tr>\n",
       "  </tbody>\n",
       "</table>\n",
       "</div>"
      ],
      "text/plain": [
       "                           내용링크       제목         작가    별점  \\\n",
       "0  /webtoon/list?titleId=758037      참교육  채용택 / 한가람  9.87   \n",
       "1  /webtoon/list?titleId=648419  뷰티풀 군바리   설이 / 윤성원  9.81   \n",
       "2  /webtoon/list?titleId=183559     신의 탑        SIU  9.88   \n",
       "3  /webtoon/list?titleId=733074     백수세끼         치즈  9.85   \n",
       "4  /webtoon/list?titleId=774866   똑 닮은 딸         이담  9.98   \n",
       "\n",
       "                                                 줄거리  \\\n",
       "0  무너진 교권을 지키기 위해 교권보호국 소속 나화진의 참교육이 시작된다!<부활남> 채...   \n",
       "1                     '여자도 군대에 간다면?'본격 여자도 군대 가는 만화!   \n",
       "2      자신의 모든 것이었던 소녀를 쫓아 탑에 들어온 소년그리고 그런 소년을 시험하는 탑   \n",
       "3  백수 시절 내 곁을 지켜줬던 그녀... 돌아와 주면 안 되겠니?음식 메뉴마다 담겨 ...   \n",
       "4  '우리 엄마가 살인마인 것 같다.' 성적 우수, 품행 단정, 모범적인 자식인 길소명...   \n",
       "\n",
       "                            태그       관심      이용가      몇화  \\\n",
       "0  #액션#블루스트링#사이다#학원물#다크히어로#먼치킨   888507  15세 이용가  총 125화   \n",
       "1              #드라마#직업드라마#밀리터리   783219  15세 이용가  총 405화   \n",
       "2    #판타지#세계관#이능력배틀물#소년왕도물#먼치킨  1962263  12세 이용가  총 590화   \n",
       "3             #드라마#음식&요리#감성드라마   484825    전체연령가  총 177화   \n",
       "4       #스릴러#2020 지상최대공모전#서스펜스   495954  15세 이용가  총 104화   \n",
       "\n",
       "                                               이미지링크     글    그림   장르  \n",
       "0  https://image-comic.pstatic.net/webtoon/758037...  채용택    한가람   액션  \n",
       "1  https://image-comic.pstatic.net/webtoon/648419...   설이    윤성원  드라마  \n",
       "2  https://image-comic.pstatic.net/webtoon/183559...   SIU   SIU  판타지  \n",
       "3  https://image-comic.pstatic.net/webtoon/733074...    치즈    치즈  드라마  \n",
       "4  https://image-comic.pstatic.net/webtoon/774866...    이담    이담  스릴러  "
      ]
     },
     "execution_count": 26,
     "metadata": {},
     "output_type": "execute_result"
    }
   ],
   "source": [
    "df.head()"
   ]
  },
  {
   "cell_type": "code",
   "execution_count": 27,
   "id": "4c11590c",
   "metadata": {},
   "outputs": [],
   "source": [
    "df.to_csv('네이버웹툰_최종.csv', index=False)"
   ]
  },
  {
   "cell_type": "code",
   "execution_count": 28,
   "id": "dde39262",
   "metadata": {},
   "outputs": [
    {
     "data": {
      "text/html": [
       "<div>\n",
       "<style scoped>\n",
       "    .dataframe tbody tr th:only-of-type {\n",
       "        vertical-align: middle;\n",
       "    }\n",
       "\n",
       "    .dataframe tbody tr th {\n",
       "        vertical-align: top;\n",
       "    }\n",
       "\n",
       "    .dataframe thead th {\n",
       "        text-align: right;\n",
       "    }\n",
       "</style>\n",
       "<table border=\"1\" class=\"dataframe\">\n",
       "  <thead>\n",
       "    <tr style=\"text-align: right;\">\n",
       "      <th></th>\n",
       "      <th>내용링크</th>\n",
       "      <th>제목</th>\n",
       "      <th>작가</th>\n",
       "      <th>별점</th>\n",
       "      <th>줄거리</th>\n",
       "      <th>태그</th>\n",
       "      <th>관심</th>\n",
       "      <th>이용가</th>\n",
       "      <th>몇화</th>\n",
       "      <th>이미지링크</th>\n",
       "      <th>글</th>\n",
       "      <th>그림</th>\n",
       "      <th>장르</th>\n",
       "    </tr>\n",
       "  </thead>\n",
       "  <tbody>\n",
       "    <tr>\n",
       "      <th>0</th>\n",
       "      <td>/webtoon/list?titleId=758037</td>\n",
       "      <td>참교육</td>\n",
       "      <td>채용택 / 한가람</td>\n",
       "      <td>9.87</td>\n",
       "      <td>무너진 교권을 지키기 위해 교권보호국 소속 나화진의 참교육이 시작된다!&lt;부활남&gt; 채...</td>\n",
       "      <td>#액션#블루스트링#사이다#학원물#다크히어로#먼치킨</td>\n",
       "      <td>888507</td>\n",
       "      <td>15세 이용가</td>\n",
       "      <td>총 125화</td>\n",
       "      <td>https://image-comic.pstatic.net/webtoon/758037...</td>\n",
       "      <td>채용택</td>\n",
       "      <td>한가람</td>\n",
       "      <td>액션</td>\n",
       "    </tr>\n",
       "    <tr>\n",
       "      <th>1</th>\n",
       "      <td>/webtoon/list?titleId=648419</td>\n",
       "      <td>뷰티풀 군바리</td>\n",
       "      <td>설이 / 윤성원</td>\n",
       "      <td>9.81</td>\n",
       "      <td>'여자도 군대에 간다면?'본격 여자도 군대 가는 만화!</td>\n",
       "      <td>#드라마#직업드라마#밀리터리</td>\n",
       "      <td>783219</td>\n",
       "      <td>15세 이용가</td>\n",
       "      <td>총 405화</td>\n",
       "      <td>https://image-comic.pstatic.net/webtoon/648419...</td>\n",
       "      <td>설이</td>\n",
       "      <td>윤성원</td>\n",
       "      <td>드라마</td>\n",
       "    </tr>\n",
       "    <tr>\n",
       "      <th>2</th>\n",
       "      <td>/webtoon/list?titleId=183559</td>\n",
       "      <td>신의 탑</td>\n",
       "      <td>SIU</td>\n",
       "      <td>9.88</td>\n",
       "      <td>자신의 모든 것이었던 소녀를 쫓아 탑에 들어온 소년그리고 그런 소년을 시험하는 탑</td>\n",
       "      <td>#판타지#세계관#이능력배틀물#소년왕도물#먼치킨</td>\n",
       "      <td>1962263</td>\n",
       "      <td>12세 이용가</td>\n",
       "      <td>총 590화</td>\n",
       "      <td>https://image-comic.pstatic.net/webtoon/183559...</td>\n",
       "      <td>SIU</td>\n",
       "      <td>SIU</td>\n",
       "      <td>판타지</td>\n",
       "    </tr>\n",
       "    <tr>\n",
       "      <th>3</th>\n",
       "      <td>/webtoon/list?titleId=733074</td>\n",
       "      <td>백수세끼</td>\n",
       "      <td>치즈</td>\n",
       "      <td>9.85</td>\n",
       "      <td>백수 시절 내 곁을 지켜줬던 그녀... 돌아와 주면 안 되겠니?음식 메뉴마다 담겨 ...</td>\n",
       "      <td>#드라마#음식&amp;요리#감성드라마</td>\n",
       "      <td>484825</td>\n",
       "      <td>전체연령가</td>\n",
       "      <td>총 177화</td>\n",
       "      <td>https://image-comic.pstatic.net/webtoon/733074...</td>\n",
       "      <td>치즈</td>\n",
       "      <td>치즈</td>\n",
       "      <td>드라마</td>\n",
       "    </tr>\n",
       "    <tr>\n",
       "      <th>4</th>\n",
       "      <td>/webtoon/list?titleId=774866</td>\n",
       "      <td>똑 닮은 딸</td>\n",
       "      <td>이담</td>\n",
       "      <td>9.98</td>\n",
       "      <td>'우리 엄마가 살인마인 것 같다.' 성적 우수, 품행 단정, 모범적인 자식인 길소명...</td>\n",
       "      <td>#스릴러#2020 지상최대공모전#서스펜스</td>\n",
       "      <td>495954</td>\n",
       "      <td>15세 이용가</td>\n",
       "      <td>총 104화</td>\n",
       "      <td>https://image-comic.pstatic.net/webtoon/774866...</td>\n",
       "      <td>이담</td>\n",
       "      <td>이담</td>\n",
       "      <td>스릴러</td>\n",
       "    </tr>\n",
       "  </tbody>\n",
       "</table>\n",
       "</div>"
      ],
      "text/plain": [
       "                           내용링크       제목         작가    별점  \\\n",
       "0  /webtoon/list?titleId=758037      참교육  채용택 / 한가람  9.87   \n",
       "1  /webtoon/list?titleId=648419  뷰티풀 군바리   설이 / 윤성원  9.81   \n",
       "2  /webtoon/list?titleId=183559     신의 탑        SIU  9.88   \n",
       "3  /webtoon/list?titleId=733074     백수세끼         치즈  9.85   \n",
       "4  /webtoon/list?titleId=774866   똑 닮은 딸         이담  9.98   \n",
       "\n",
       "                                                 줄거리  \\\n",
       "0  무너진 교권을 지키기 위해 교권보호국 소속 나화진의 참교육이 시작된다!<부활남> 채...   \n",
       "1                     '여자도 군대에 간다면?'본격 여자도 군대 가는 만화!   \n",
       "2      자신의 모든 것이었던 소녀를 쫓아 탑에 들어온 소년그리고 그런 소년을 시험하는 탑   \n",
       "3  백수 시절 내 곁을 지켜줬던 그녀... 돌아와 주면 안 되겠니?음식 메뉴마다 담겨 ...   \n",
       "4  '우리 엄마가 살인마인 것 같다.' 성적 우수, 품행 단정, 모범적인 자식인 길소명...   \n",
       "\n",
       "                            태그       관심      이용가      몇화  \\\n",
       "0  #액션#블루스트링#사이다#학원물#다크히어로#먼치킨   888507  15세 이용가  총 125화   \n",
       "1              #드라마#직업드라마#밀리터리   783219  15세 이용가  총 405화   \n",
       "2    #판타지#세계관#이능력배틀물#소년왕도물#먼치킨  1962263  12세 이용가  총 590화   \n",
       "3             #드라마#음식&요리#감성드라마   484825    전체연령가  총 177화   \n",
       "4       #스릴러#2020 지상최대공모전#서스펜스   495954  15세 이용가  총 104화   \n",
       "\n",
       "                                               이미지링크     글    그림   장르  \n",
       "0  https://image-comic.pstatic.net/webtoon/758037...  채용택    한가람   액션  \n",
       "1  https://image-comic.pstatic.net/webtoon/648419...   설이    윤성원  드라마  \n",
       "2  https://image-comic.pstatic.net/webtoon/183559...   SIU   SIU  판타지  \n",
       "3  https://image-comic.pstatic.net/webtoon/733074...    치즈    치즈  드라마  \n",
       "4  https://image-comic.pstatic.net/webtoon/774866...    이담    이담  스릴러  "
      ]
     },
     "execution_count": 28,
     "metadata": {},
     "output_type": "execute_result"
    }
   ],
   "source": [
    "df.head()"
   ]
  },
  {
   "cell_type": "code",
   "execution_count": 29,
   "id": "99429e80",
   "metadata": {},
   "outputs": [],
   "source": [
    "import requests\n",
    "\n",
    "def download_image(url, save_path):\n",
    "    headers = {\n",
    "        'User-Agent': 'Mozilla/5.0 (Windows NT 10.0; Win64; x64) AppleWebKit/537.36 (KHTML, like Gecko) Chrome/91.0.4472.124 Safari/537.36'\n",
    "    }\n",
    "    response = requests.get(url, headers=headers)\n",
    "    if response.status_code == 200:\n",
    "        with open(save_path, 'wb') as file:\n",
    "            file.write(response.content)\n",
    "        print(f'이미지가 다운로드되었습니다.')\n",
    "    else:\n",
    "        print(f'이미지 다운로드에 실패했습니다. 상태 코드: {response.status_code}')"
   ]
  },
  {
   "cell_type": "code",
   "execution_count": 31,
   "id": "3944b492",
   "metadata": {
    "scrolled": true
   },
   "outputs": [
    {
     "name": "stderr",
     "output_type": "stream",
     "text": [
      "  0%|▏                                                                                | 4/2470 [00:00<02:07, 19.29it/s]"
     ]
    },
    {
     "name": "stdout",
     "output_type": "stream",
     "text": [
      "이미지가 다운로드되었습니다.\n",
      "이미지가 다운로드되었습니다.\n",
      "이미지가 다운로드되었습니다.\n",
      "이미지가 다운로드되었습니다.\n",
      "이미지가 다운로드되었습니다.\n"
     ]
    },
    {
     "name": "stderr",
     "output_type": "stream",
     "text": [
      "  0%|▎                                                                               | 10/2470 [00:00<01:54, 21.54it/s]"
     ]
    },
    {
     "name": "stdout",
     "output_type": "stream",
     "text": [
      "이미지가 다운로드되었습니다.\n",
      "이미지가 다운로드되었습니다.\n",
      "이미지가 다운로드되었습니다.\n",
      "이미지가 다운로드되었습니다.\n",
      "이미지가 다운로드되었습니다.\n"
     ]
    },
    {
     "name": "stderr",
     "output_type": "stream",
     "text": [
      "\r",
      "  1%|▍                                                                               | 13/2470 [00:00<01:52, 21.90it/s]"
     ]
    },
    {
     "name": "stdout",
     "output_type": "stream",
     "text": [
      "이미지가 다운로드되었습니다.\n",
      "이미지가 다운로드되었습니다.\n",
      "이미지가 다운로드되었습니다.\n",
      "이미지가 다운로드되었습니다.\n",
      "이미지가 다운로드되었습니다.\n"
     ]
    },
    {
     "name": "stderr",
     "output_type": "stream",
     "text": [
      "  1%|▌                                                                               | 18/2470 [00:00<02:17, 17.86it/s]"
     ]
    },
    {
     "name": "stdout",
     "output_type": "stream",
     "text": [
      "이미지가 다운로드되었습니다.\n",
      "이미지가 다운로드되었습니다.\n",
      "이미지가 다운로드되었습니다.\n",
      "이미지가 다운로드되었습니다.\n"
     ]
    },
    {
     "name": "stderr",
     "output_type": "stream",
     "text": [
      "  1%|▊                                                                               | 24/2470 [00:01<02:15, 18.09it/s]"
     ]
    },
    {
     "name": "stdout",
     "output_type": "stream",
     "text": [
      "이미지가 다운로드되었습니다.\n",
      "이미지가 다운로드되었습니다.\n",
      "이미지가 다운로드되었습니다.\n",
      "이미지가 다운로드되었습니다.\n",
      "이미지가 다운로드되었습니다.\n"
     ]
    },
    {
     "name": "stderr",
     "output_type": "stream",
     "text": [
      "  1%|▉                                                                               | 29/2470 [00:01<02:08, 19.00it/s]"
     ]
    },
    {
     "name": "stdout",
     "output_type": "stream",
     "text": [
      "이미지가 다운로드되었습니다.\n",
      "이미지가 다운로드되었습니다.\n",
      "이미지가 다운로드되었습니다.\n",
      "이미지가 다운로드되었습니다.\n",
      "이미지가 다운로드되었습니다.\n"
     ]
    },
    {
     "name": "stderr",
     "output_type": "stream",
     "text": [
      "\r",
      "  1%|█                                                                               | 32/2470 [00:01<02:05, 19.50it/s]"
     ]
    },
    {
     "name": "stdout",
     "output_type": "stream",
     "text": [
      "이미지가 다운로드되었습니다.\n",
      "이미지가 다운로드되었습니다.\n",
      "이미지가 다운로드되었습니다.\n",
      "이미지가 다운로드되었습니다.\n",
      "이미지가 다운로드되었습니다.\n"
     ]
    },
    {
     "name": "stderr",
     "output_type": "stream",
     "text": [
      "  2%|█▏                                                                              | 38/2470 [00:02<02:07, 19.00it/s]"
     ]
    },
    {
     "name": "stdout",
     "output_type": "stream",
     "text": [
      "이미지가 다운로드되었습니다.\n",
      "이미지가 다운로드되었습니다.\n",
      "이미지가 다운로드되었습니다.\n",
      "이미지가 다운로드되었습니다.\n"
     ]
    },
    {
     "name": "stderr",
     "output_type": "stream",
     "text": [
      "  2%|█▍                                                                              | 43/2470 [00:02<02:02, 19.78it/s]"
     ]
    },
    {
     "name": "stdout",
     "output_type": "stream",
     "text": [
      "이미지가 다운로드되었습니다.\n",
      "이미지가 다운로드되었습니다.\n",
      "이미지가 다운로드되었습니다.\n",
      "이미지가 다운로드되었습니다.\n",
      "이미지가 다운로드되었습니다.\n"
     ]
    },
    {
     "name": "stderr",
     "output_type": "stream",
     "text": [
      "\r",
      "  2%|█▍                                                                              | 46/2470 [00:02<02:01, 19.94it/s]"
     ]
    },
    {
     "name": "stdout",
     "output_type": "stream",
     "text": [
      "이미지가 다운로드되었습니다.\n",
      "이미지가 다운로드되었습니다.\n",
      "이미지가 다운로드되었습니다.\n",
      "이미지가 다운로드되었습니다.\n",
      "이미지가 다운로드되었습니다.\n"
     ]
    },
    {
     "name": "stderr",
     "output_type": "stream",
     "text": [
      "  2%|█▋                                                                              | 52/2470 [00:02<01:57, 20.54it/s]"
     ]
    },
    {
     "name": "stdout",
     "output_type": "stream",
     "text": [
      "이미지가 다운로드되었습니다.\n",
      "이미지가 다운로드되었습니다.\n",
      "이미지가 다운로드되었습니다.\n",
      "이미지가 다운로드되었습니다.\n",
      "이미지가 다운로드되었습니다.\n"
     ]
    },
    {
     "name": "stderr",
     "output_type": "stream",
     "text": [
      "  2%|█▉                                                                              | 58/2470 [00:02<01:56, 20.68it/s]"
     ]
    },
    {
     "name": "stdout",
     "output_type": "stream",
     "text": [
      "이미지가 다운로드되었습니다.\n",
      "이미지가 다운로드되었습니다.\n",
      "이미지가 다운로드되었습니다.\n",
      "이미지가 다운로드되었습니다.\n",
      "이미지가 다운로드되었습니다.\n"
     ]
    },
    {
     "name": "stderr",
     "output_type": "stream",
     "text": [
      "\r",
      "  2%|█▉                                                                              | 61/2470 [00:03<01:53, 21.30it/s]"
     ]
    },
    {
     "name": "stdout",
     "output_type": "stream",
     "text": [
      "이미지가 다운로드되었습니다.\n",
      "이미지가 다운로드되었습니다.\n",
      "이미지가 다운로드되었습니다.\n",
      "이미지가 다운로드되었습니다.\n",
      "이미지가 다운로드되었습니다.\n"
     ]
    },
    {
     "name": "stderr",
     "output_type": "stream",
     "text": [
      "  3%|██▏                                                                             | 67/2470 [00:03<01:54, 20.91it/s]"
     ]
    },
    {
     "name": "stdout",
     "output_type": "stream",
     "text": [
      "이미지가 다운로드되었습니다.\n",
      "이미지가 다운로드되었습니다.\n",
      "이미지가 다운로드되었습니다.\n",
      "이미지가 다운로드되었습니다.\n",
      "이미지가 다운로드되었습니다.\n"
     ]
    },
    {
     "name": "stderr",
     "output_type": "stream",
     "text": [
      "  3%|██▎                                                                             | 73/2470 [00:03<01:56, 20.56it/s]"
     ]
    },
    {
     "name": "stdout",
     "output_type": "stream",
     "text": [
      "이미지가 다운로드되었습니다.\n",
      "이미지가 다운로드되었습니다.\n",
      "이미지가 다운로드되었습니다.\n",
      "이미지가 다운로드되었습니다.\n",
      "이미지가 다운로드되었습니다.\n"
     ]
    },
    {
     "name": "stderr",
     "output_type": "stream",
     "text": [
      "\r",
      "  3%|██▍                                                                             | 76/2470 [00:03<01:57, 20.33it/s]"
     ]
    },
    {
     "name": "stdout",
     "output_type": "stream",
     "text": [
      "이미지가 다운로드되었습니다.\n",
      "이미지가 다운로드되었습니다.\n",
      "이미지가 다운로드되었습니다.\n",
      "이미지가 다운로드되었습니다.\n"
     ]
    },
    {
     "name": "stderr",
     "output_type": "stream",
     "text": [
      "  3%|██▋                                                                             | 82/2470 [00:04<02:02, 19.56it/s]"
     ]
    },
    {
     "name": "stdout",
     "output_type": "stream",
     "text": [
      "이미지가 다운로드되었습니다.\n",
      "이미지가 다운로드되었습니다.\n",
      "이미지가 다운로드되었습니다.\n",
      "이미지가 다운로드되었습니다.\n",
      "이미지가 다운로드되었습니다.\n"
     ]
    },
    {
     "name": "stderr",
     "output_type": "stream",
     "text": [
      "  4%|██▊                                                                             | 87/2470 [00:04<01:59, 19.92it/s]"
     ]
    },
    {
     "name": "stdout",
     "output_type": "stream",
     "text": [
      "이미지가 다운로드되었습니다.\n",
      "이미지가 다운로드되었습니다.\n",
      "이미지가 다운로드되었습니다.\n",
      "이미지가 다운로드되었습니다.\n",
      "이미지가 다운로드되었습니다.\n"
     ]
    },
    {
     "name": "stderr",
     "output_type": "stream",
     "text": [
      "  4%|██▉                                                                             | 91/2470 [00:04<02:09, 18.31it/s]"
     ]
    },
    {
     "name": "stdout",
     "output_type": "stream",
     "text": [
      "이미지가 다운로드되었습니다.\n",
      "이미지가 다운로드되었습니다.\n",
      "이미지가 다운로드되었습니다.\n",
      "이미지가 다운로드되었습니다.\n"
     ]
    },
    {
     "name": "stderr",
     "output_type": "stream",
     "text": [
      "  4%|███                                                                             | 95/2470 [00:04<02:08, 18.52it/s]"
     ]
    },
    {
     "name": "stdout",
     "output_type": "stream",
     "text": [
      "이미지가 다운로드되었습니다.\n",
      "이미지가 다운로드되었습니다.\n",
      "이미지가 다운로드되었습니다.\n",
      "이미지가 다운로드되었습니다.\n"
     ]
    },
    {
     "name": "stderr",
     "output_type": "stream",
     "text": [
      "  4%|███▏                                                                           | 100/2470 [00:05<02:04, 18.97it/s]"
     ]
    },
    {
     "name": "stdout",
     "output_type": "stream",
     "text": [
      "이미지가 다운로드되었습니다.\n",
      "이미지가 다운로드되었습니다.\n",
      "이미지가 다운로드되었습니다.\n",
      "이미지가 다운로드되었습니다.\n",
      "이미지가 다운로드되었습니다.\n"
     ]
    },
    {
     "name": "stderr",
     "output_type": "stream",
     "text": [
      "  4%|███▎                                                                           | 105/2470 [00:05<02:01, 19.54it/s]"
     ]
    },
    {
     "name": "stdout",
     "output_type": "stream",
     "text": [
      "이미지가 다운로드되었습니다.\n",
      "이미지가 다운로드되었습니다.\n",
      "이미지가 다운로드되었습니다.\n",
      "이미지가 다운로드되었습니다.\n",
      "이미지가 다운로드되었습니다.\n"
     ]
    },
    {
     "name": "stderr",
     "output_type": "stream",
     "text": [
      "\r",
      "  4%|███▍                                                                           | 108/2470 [00:05<01:55, 20.50it/s]"
     ]
    },
    {
     "name": "stdout",
     "output_type": "stream",
     "text": [
      "이미지가 다운로드되었습니다.\n",
      "이미지가 다운로드되었습니다.\n",
      "이미지가 다운로드되었습니다.\n",
      "이미지가 다운로드되었습니다.\n",
      "이미지가 다운로드되었습니다.\n"
     ]
    },
    {
     "name": "stderr",
     "output_type": "stream",
     "text": [
      "  5%|███▋                                                                           | 114/2470 [00:05<01:53, 20.84it/s]"
     ]
    },
    {
     "name": "stdout",
     "output_type": "stream",
     "text": [
      "이미지가 다운로드되었습니다.\n",
      "이미지가 다운로드되었습니다.\n",
      "이미지가 다운로드되었습니다.\n",
      "이미지가 다운로드되었습니다.\n"
     ]
    },
    {
     "name": "stderr",
     "output_type": "stream",
     "text": [
      "\r",
      "  5%|███▋                                                                           | 117/2470 [00:05<02:00, 19.53it/s]"
     ]
    },
    {
     "name": "stdout",
     "output_type": "stream",
     "text": [
      "이미지가 다운로드되었습니다.\n",
      "이미지가 다운로드되었습니다.\n",
      "이미지가 다운로드되었습니다.\n",
      "이미지가 다운로드되었습니다.\n",
      "이미지가 다운로드되었습니다.\n"
     ]
    },
    {
     "name": "stderr",
     "output_type": "stream",
     "text": [
      "  5%|███▉                                                                           | 123/2470 [00:06<01:57, 20.05it/s]"
     ]
    },
    {
     "name": "stdout",
     "output_type": "stream",
     "text": [
      "이미지가 다운로드되었습니다.\n",
      "이미지가 다운로드되었습니다.\n",
      "이미지가 다운로드되었습니다.\n",
      "이미지가 다운로드되었습니다.\n",
      "이미지가 다운로드되었습니다.\n"
     ]
    },
    {
     "name": "stderr",
     "output_type": "stream",
     "text": [
      "\r",
      "  5%|████                                                                           | 126/2470 [00:06<01:58, 19.78it/s]"
     ]
    },
    {
     "name": "stdout",
     "output_type": "stream",
     "text": [
      "이미지가 다운로드되었습니다.\n",
      "이미지가 다운로드되었습니다.\n",
      "이미지가 다운로드되었습니다.\n",
      "이미지가 다운로드되었습니다.\n"
     ]
    },
    {
     "name": "stderr",
     "output_type": "stream",
     "text": [
      "  5%|████▏                                                                          | 132/2470 [00:06<01:58, 19.80it/s]"
     ]
    },
    {
     "name": "stdout",
     "output_type": "stream",
     "text": [
      "이미지가 다운로드되었습니다.\n",
      "이미지가 다운로드되었습니다.\n",
      "이미지가 다운로드되었습니다.\n",
      "이미지가 다운로드되었습니다.\n"
     ]
    },
    {
     "name": "stderr",
     "output_type": "stream",
     "text": [
      "  6%|████▎                                                                          | 136/2470 [00:06<02:04, 18.77it/s]"
     ]
    },
    {
     "name": "stdout",
     "output_type": "stream",
     "text": [
      "이미지가 다운로드되었습니다.\n",
      "이미지가 다운로드되었습니다.\n",
      "이미지가 다운로드되었습니다.\n",
      "이미지가 다운로드되었습니다.\n"
     ]
    },
    {
     "name": "stderr",
     "output_type": "stream",
     "text": [
      "  6%|████▍                                                                          | 140/2470 [00:07<02:06, 18.43it/s]"
     ]
    },
    {
     "name": "stdout",
     "output_type": "stream",
     "text": [
      "이미지가 다운로드되었습니다.\n",
      "이미지가 다운로드되었습니다.\n",
      "이미지가 다운로드되었습니다.\n",
      "이미지가 다운로드되었습니다.\n"
     ]
    },
    {
     "name": "stderr",
     "output_type": "stream",
     "text": [
      "  6%|████▌                                                                          | 144/2470 [00:07<02:07, 18.31it/s]"
     ]
    },
    {
     "name": "stdout",
     "output_type": "stream",
     "text": [
      "이미지가 다운로드되었습니다.\n",
      "이미지가 다운로드되었습니다.\n",
      "이미지가 다운로드되었습니다.\n",
      "이미지가 다운로드되었습니다.\n",
      "이미지가 다운로드되었습니다.\n"
     ]
    },
    {
     "name": "stderr",
     "output_type": "stream",
     "text": [
      "  6%|████▊                                                                          | 150/2470 [00:07<01:57, 19.80it/s]"
     ]
    },
    {
     "name": "stdout",
     "output_type": "stream",
     "text": [
      "이미지가 다운로드되었습니다.\n",
      "이미지가 다운로드되었습니다.\n",
      "이미지가 다운로드되었습니다.\n",
      "이미지가 다운로드되었습니다.\n",
      "이미지가 다운로드되었습니다.\n"
     ]
    },
    {
     "name": "stderr",
     "output_type": "stream",
     "text": [
      "  6%|████▉                                                                          | 155/2470 [00:07<01:55, 20.13it/s]"
     ]
    },
    {
     "name": "stdout",
     "output_type": "stream",
     "text": [
      "이미지가 다운로드되었습니다.\n",
      "이미지가 다운로드되었습니다.\n",
      "이미지가 다운로드되었습니다.\n",
      "이미지가 다운로드되었습니다.\n",
      "이미지가 다운로드되었습니다.\n"
     ]
    },
    {
     "name": "stderr",
     "output_type": "stream",
     "text": [
      "\r",
      "  6%|█████                                                                          | 158/2470 [00:08<01:50, 20.84it/s]"
     ]
    },
    {
     "name": "stdout",
     "output_type": "stream",
     "text": [
      "이미지가 다운로드되었습니다.\n",
      "이미지가 다운로드되었습니다.\n",
      "이미지가 다운로드되었습니다.\n",
      "이미지가 다운로드되었습니다.\n",
      "이미지가 다운로드되었습니다.\n"
     ]
    },
    {
     "name": "stderr",
     "output_type": "stream",
     "text": [
      "  7%|█████▏                                                                         | 164/2470 [00:08<01:57, 19.57it/s]"
     ]
    },
    {
     "name": "stdout",
     "output_type": "stream",
     "text": [
      "이미지가 다운로드되었습니다.\n",
      "이미지가 다운로드되었습니다.\n",
      "이미지가 다운로드되었습니다.\n",
      "이미지가 다운로드되었습니다.\n"
     ]
    },
    {
     "name": "stderr",
     "output_type": "stream",
     "text": [
      "  7%|█████▍                                                                         | 169/2470 [00:08<01:54, 20.08it/s]"
     ]
    },
    {
     "name": "stdout",
     "output_type": "stream",
     "text": [
      "이미지가 다운로드되었습니다.\n",
      "이미지가 다운로드되었습니다.\n",
      "이미지가 다운로드되었습니다.\n",
      "이미지가 다운로드되었습니다.\n",
      "이미지가 다운로드되었습니다.\n"
     ]
    },
    {
     "name": "stderr",
     "output_type": "stream",
     "text": [
      "\r",
      "  7%|█████▌                                                                         | 172/2470 [00:08<01:55, 19.90it/s]"
     ]
    },
    {
     "name": "stdout",
     "output_type": "stream",
     "text": [
      "이미지가 다운로드되었습니다.\n",
      "이미지가 다운로드되었습니다.\n",
      "이미지가 다운로드되었습니다.\n",
      "이미지가 다운로드되었습니다.\n"
     ]
    },
    {
     "name": "stderr",
     "output_type": "stream",
     "text": [
      "  7%|█████▋                                                                         | 176/2470 [00:08<02:02, 18.79it/s]"
     ]
    },
    {
     "name": "stdout",
     "output_type": "stream",
     "text": [
      "이미지가 다운로드되었습니다.\n",
      "이미지가 다운로드되었습니다.\n",
      "이미지가 다운로드되었습니다.\n",
      "이미지가 다운로드되었습니다.\n"
     ]
    },
    {
     "name": "stderr",
     "output_type": "stream",
     "text": [
      "  7%|█████▊                                                                         | 182/2470 [00:09<02:00, 18.97it/s]"
     ]
    },
    {
     "name": "stdout",
     "output_type": "stream",
     "text": [
      "이미지가 다운로드되었습니다.\n",
      "이미지가 다운로드되었습니다.\n",
      "이미지가 다운로드되었습니다.\n",
      "이미지가 다운로드되었습니다.\n",
      "이미지가 다운로드되었습니다.\n"
     ]
    },
    {
     "name": "stderr",
     "output_type": "stream",
     "text": [
      "\r",
      "  7%|█████▉                                                                         | 185/2470 [00:09<01:58, 19.34it/s]"
     ]
    },
    {
     "name": "stdout",
     "output_type": "stream",
     "text": [
      "이미지가 다운로드되었습니다.\n",
      "이미지가 다운로드되었습니다.\n",
      "이미지가 다운로드되었습니다.\n",
      "이미지가 다운로드되었습니다.\n",
      "이미지가 다운로드되었습니다.\n"
     ]
    },
    {
     "name": "stderr",
     "output_type": "stream",
     "text": [
      "  8%|██████                                                                         | 191/2470 [00:09<01:48, 21.02it/s]"
     ]
    },
    {
     "name": "stdout",
     "output_type": "stream",
     "text": [
      "이미지가 다운로드되었습니다.\n",
      "이미지가 다운로드되었습니다.\n",
      "이미지가 다운로드되었습니다.\n",
      "이미지가 다운로드되었습니다.\n",
      "이미지가 다운로드되었습니다.\n"
     ]
    },
    {
     "name": "stderr",
     "output_type": "stream",
     "text": [
      "  8%|██████▎                                                                        | 197/2470 [00:10<01:50, 20.61it/s]"
     ]
    },
    {
     "name": "stdout",
     "output_type": "stream",
     "text": [
      "이미지가 다운로드되었습니다.\n",
      "이미지가 다운로드되었습니다.\n",
      "이미지가 다운로드되었습니다.\n",
      "이미지가 다운로드되었습니다.\n",
      "이미지가 다운로드되었습니다.\n"
     ]
    },
    {
     "name": "stderr",
     "output_type": "stream",
     "text": [
      "\r",
      "  8%|██████▍                                                                        | 200/2470 [00:10<01:51, 20.28it/s]"
     ]
    },
    {
     "name": "stdout",
     "output_type": "stream",
     "text": [
      "이미지가 다운로드되었습니다.\n",
      "이미지가 다운로드되었습니다.\n",
      "이미지가 다운로드되었습니다.\n",
      "이미지가 다운로드되었습니다.\n",
      "이미지가 다운로드되었습니다.\n"
     ]
    },
    {
     "name": "stderr",
     "output_type": "stream",
     "text": [
      "  8%|██████▌                                                                        | 206/2470 [00:10<01:48, 20.84it/s]"
     ]
    },
    {
     "name": "stdout",
     "output_type": "stream",
     "text": [
      "이미지가 다운로드되었습니다.\n",
      "이미지가 다운로드되었습니다.\n",
      "이미지가 다운로드되었습니다.\n",
      "이미지가 다운로드되었습니다.\n",
      "이미지가 다운로드되었습니다.\n"
     ]
    },
    {
     "name": "stderr",
     "output_type": "stream",
     "text": [
      "  9%|██████▊                                                                        | 212/2470 [00:10<01:46, 21.21it/s]"
     ]
    },
    {
     "name": "stdout",
     "output_type": "stream",
     "text": [
      "이미지가 다운로드되었습니다.\n",
      "이미지가 다운로드되었습니다.\n",
      "이미지가 다운로드되었습니다.\n",
      "이미지가 다운로드되었습니다.\n",
      "이미지가 다운로드되었습니다.\n"
     ]
    },
    {
     "name": "stderr",
     "output_type": "stream",
     "text": [
      "\r",
      "  9%|██████▉                                                                        | 215/2470 [00:10<01:47, 20.92it/s]"
     ]
    },
    {
     "name": "stdout",
     "output_type": "stream",
     "text": [
      "이미지가 다운로드되었습니다.\n",
      "이미지가 다운로드되었습니다.\n",
      "이미지가 다운로드되었습니다.\n",
      "이미지가 다운로드되었습니다.\n"
     ]
    },
    {
     "name": "stderr",
     "output_type": "stream",
     "text": [
      "  9%|███████                                                                        | 221/2470 [00:11<01:46, 21.04it/s]"
     ]
    },
    {
     "name": "stdout",
     "output_type": "stream",
     "text": [
      "이미지가 다운로드되었습니다.\n",
      "이미지가 다운로드되었습니다.\n",
      "이미지가 다운로드되었습니다.\n",
      "이미지가 다운로드되었습니다.\n",
      "이미지가 다운로드되었습니다.\n"
     ]
    },
    {
     "name": "stderr",
     "output_type": "stream",
     "text": [
      "\r",
      "  9%|███████▏                                                                       | 224/2470 [00:11<01:46, 21.09it/s]"
     ]
    },
    {
     "name": "stdout",
     "output_type": "stream",
     "text": [
      "이미지가 다운로드되었습니다.\n",
      "이미지가 다운로드되었습니다.\n",
      "이미지가 다운로드되었습니다.\n",
      "이미지가 다운로드되었습니다.\n",
      "이미지가 다운로드되었습니다.\n"
     ]
    },
    {
     "name": "stderr",
     "output_type": "stream",
     "text": [
      "  9%|███████▎                                                                       | 230/2470 [00:11<01:40, 22.25it/s]"
     ]
    },
    {
     "name": "stdout",
     "output_type": "stream",
     "text": [
      "이미지가 다운로드되었습니다.\n",
      "이미지가 다운로드되었습니다.\n",
      "이미지가 다운로드되었습니다.\n",
      "이미지가 다운로드되었습니다.\n",
      "이미지가 다운로드되었습니다.\n"
     ]
    },
    {
     "name": "stderr",
     "output_type": "stream",
     "text": [
      " 10%|███████▌                                                                       | 236/2470 [00:11<01:43, 21.69it/s]"
     ]
    },
    {
     "name": "stdout",
     "output_type": "stream",
     "text": [
      "이미지가 다운로드되었습니다.\n",
      "이미지가 다운로드되었습니다.\n",
      "이미지가 다운로드되었습니다.\n",
      "이미지가 다운로드되었습니다.\n",
      "이미지가 다운로드되었습니다.\n"
     ]
    },
    {
     "name": "stderr",
     "output_type": "stream",
     "text": [
      "\r",
      " 10%|███████▋                                                                       | 239/2470 [00:11<01:42, 21.73it/s]"
     ]
    },
    {
     "name": "stdout",
     "output_type": "stream",
     "text": [
      "이미지가 다운로드되었습니다.\n",
      "이미지가 다운로드되었습니다.\n",
      "이미지가 다운로드되었습니다.\n",
      "이미지가 다운로드되었습니다.\n",
      "이미지가 다운로드되었습니다.\n"
     ]
    },
    {
     "name": "stderr",
     "output_type": "stream",
     "text": [
      " 10%|███████▊                                                                       | 245/2470 [00:12<01:46, 20.97it/s]"
     ]
    },
    {
     "name": "stdout",
     "output_type": "stream",
     "text": [
      "이미지가 다운로드되었습니다.\n",
      "이미지가 다운로드되었습니다.\n",
      "이미지가 다운로드되었습니다.\n",
      "이미지가 다운로드되었습니다.\n",
      "이미지가 다운로드되었습니다.\n"
     ]
    },
    {
     "name": "stderr",
     "output_type": "stream",
     "text": [
      " 10%|████████                                                                       | 251/2470 [00:12<01:46, 20.83it/s]"
     ]
    },
    {
     "name": "stdout",
     "output_type": "stream",
     "text": [
      "이미지가 다운로드되었습니다.\n",
      "이미지가 다운로드되었습니다.\n",
      "이미지가 다운로드되었습니다.\n",
      "이미지가 다운로드되었습니다.\n",
      "이미지가 다운로드되었습니다.\n"
     ]
    },
    {
     "name": "stderr",
     "output_type": "stream",
     "text": [
      "\r",
      " 10%|████████                                                                       | 254/2470 [00:12<01:45, 21.09it/s]"
     ]
    },
    {
     "name": "stdout",
     "output_type": "stream",
     "text": [
      "이미지가 다운로드되었습니다.\n",
      "이미지가 다운로드되었습니다.\n",
      "이미지가 다운로드되었습니다.\n",
      "이미지가 다운로드되었습니다.\n",
      "이미지가 다운로드되었습니다.\n"
     ]
    },
    {
     "name": "stderr",
     "output_type": "stream",
     "text": [
      " 11%|████████▎                                                                      | 260/2470 [00:13<01:53, 19.40it/s]"
     ]
    },
    {
     "name": "stdout",
     "output_type": "stream",
     "text": [
      "이미지가 다운로드되었습니다.\n",
      "이미지가 다운로드되었습니다.\n",
      "이미지가 다운로드되었습니다.\n",
      "이미지가 다운로드되었습니다.\n"
     ]
    },
    {
     "name": "stderr",
     "output_type": "stream",
     "text": [
      " 11%|████████▍                                                                      | 265/2470 [00:13<01:51, 19.75it/s]"
     ]
    },
    {
     "name": "stdout",
     "output_type": "stream",
     "text": [
      "이미지가 다운로드되었습니다.\n",
      "이미지가 다운로드되었습니다.\n",
      "이미지가 다운로드되었습니다.\n",
      "이미지가 다운로드되었습니다.\n",
      "이미지가 다운로드되었습니다.\n"
     ]
    },
    {
     "name": "stderr",
     "output_type": "stream",
     "text": [
      " 11%|████████▌                                                                      | 269/2470 [00:13<01:57, 18.76it/s]"
     ]
    },
    {
     "name": "stdout",
     "output_type": "stream",
     "text": [
      "이미지가 다운로드되었습니다.\n",
      "이미지가 다운로드되었습니다.\n",
      "이미지가 다운로드되었습니다.\n",
      "이미지가 다운로드되었습니다.\n"
     ]
    },
    {
     "name": "stderr",
     "output_type": "stream",
     "text": [
      " 11%|████████▊                                                                      | 274/2470 [00:13<01:50, 19.78it/s]"
     ]
    },
    {
     "name": "stdout",
     "output_type": "stream",
     "text": [
      "이미지가 다운로드되었습니다.\n",
      "이미지가 다운로드되었습니다.\n",
      "이미지가 다운로드되었습니다.\n",
      "이미지가 다운로드되었습니다.\n",
      "이미지가 다운로드되었습니다.\n"
     ]
    },
    {
     "name": "stderr",
     "output_type": "stream",
     "text": [
      " 11%|████████▉                                                                      | 278/2470 [00:13<01:52, 19.54it/s]"
     ]
    },
    {
     "name": "stdout",
     "output_type": "stream",
     "text": [
      "이미지가 다운로드되었습니다.\n",
      "이미지가 다운로드되었습니다.\n",
      "이미지가 다운로드되었습니다.\n",
      "이미지가 다운로드되었습니다.\n"
     ]
    },
    {
     "name": "stderr",
     "output_type": "stream",
     "text": [
      " 11%|█████████                                                                      | 283/2470 [00:14<01:53, 19.19it/s]"
     ]
    },
    {
     "name": "stdout",
     "output_type": "stream",
     "text": [
      "이미지가 다운로드되었습니다.\n",
      "이미지가 다운로드되었습니다.\n",
      "이미지가 다운로드되었습니다.\n",
      "이미지가 다운로드되었습니다.\n",
      "이미지가 다운로드되었습니다.\n"
     ]
    },
    {
     "name": "stderr",
     "output_type": "stream",
     "text": [
      " 12%|█████████▏                                                                     | 287/2470 [00:14<01:55, 18.98it/s]"
     ]
    },
    {
     "name": "stdout",
     "output_type": "stream",
     "text": [
      "이미지가 다운로드되었습니다.\n",
      "이미지가 다운로드되었습니다.\n",
      "이미지가 다운로드되었습니다.\n",
      "이미지가 다운로드되었습니다.\n"
     ]
    },
    {
     "name": "stderr",
     "output_type": "stream",
     "text": [
      "\r",
      " 12%|█████████▏                                                                     | 289/2470 [00:14<02:05, 17.41it/s]"
     ]
    },
    {
     "name": "stdout",
     "output_type": "stream",
     "text": [
      "이미지가 다운로드되었습니다.\n",
      "이미지가 다운로드되었습니다.\n",
      "이미지가 다운로드되었습니다.\n",
      "이미지가 다운로드되었습니다.\n"
     ]
    },
    {
     "name": "stderr",
     "output_type": "stream",
     "text": [
      " 12%|█████████▍                                                                     | 295/2470 [00:14<01:46, 20.42it/s]"
     ]
    },
    {
     "name": "stdout",
     "output_type": "stream",
     "text": [
      "이미지가 다운로드되었습니다.\n",
      "이미지가 다운로드되었습니다.\n",
      "이미지가 다운로드되었습니다.\n",
      "이미지가 다운로드되었습니다.\n",
      "이미지가 다운로드되었습니다.\n"
     ]
    },
    {
     "name": "stderr",
     "output_type": "stream",
     "text": [
      " 12%|█████████▋                                                                     | 301/2470 [00:15<01:45, 20.60it/s]"
     ]
    },
    {
     "name": "stdout",
     "output_type": "stream",
     "text": [
      "이미지가 다운로드되었습니다.\n",
      "이미지가 다운로드되었습니다.\n",
      "이미지가 다운로드되었습니다.\n",
      "이미지가 다운로드되었습니다.\n",
      "이미지가 다운로드되었습니다.\n"
     ]
    },
    {
     "name": "stderr",
     "output_type": "stream",
     "text": [
      " 12%|█████████▊                                                                     | 307/2470 [00:15<01:39, 21.69it/s]"
     ]
    },
    {
     "name": "stdout",
     "output_type": "stream",
     "text": [
      "이미지가 다운로드되었습니다.\n",
      "이미지가 다운로드되었습니다.\n",
      "이미지가 다운로드되었습니다.\n",
      "이미지가 다운로드되었습니다.\n",
      "이미지가 다운로드되었습니다.\n",
      "이미지가 다운로드되었습니다.\n"
     ]
    },
    {
     "name": "stderr",
     "output_type": "stream",
     "text": [
      "\r",
      " 13%|█████████▉                                                                     | 310/2470 [00:15<01:40, 21.52it/s]"
     ]
    },
    {
     "name": "stdout",
     "output_type": "stream",
     "text": [
      "이미지가 다운로드되었습니다.\n",
      "이미지가 다운로드되었습니다.\n",
      "이미지가 다운로드되었습니다.\n",
      "이미지가 다운로드되었습니다.\n",
      "이미지가 다운로드되었습니다.\n"
     ]
    },
    {
     "name": "stderr",
     "output_type": "stream",
     "text": [
      " 13%|██████████                                                                     | 316/2470 [00:15<01:43, 20.84it/s]"
     ]
    },
    {
     "name": "stdout",
     "output_type": "stream",
     "text": [
      "이미지가 다운로드되었습니다.\n",
      "이미지가 다운로드되었습니다.\n",
      "이미지가 다운로드되었습니다.\n",
      "이미지가 다운로드되었습니다.\n",
      "이미지가 다운로드되었습니다.\n"
     ]
    },
    {
     "name": "stderr",
     "output_type": "stream",
     "text": [
      " 13%|██████████▎                                                                    | 322/2470 [00:16<01:44, 20.63it/s]"
     ]
    },
    {
     "name": "stdout",
     "output_type": "stream",
     "text": [
      "이미지가 다운로드되었습니다.\n",
      "이미지가 다운로드되었습니다.\n",
      "이미지가 다운로드되었습니다.\n",
      "이미지가 다운로드되었습니다.\n",
      "이미지가 다운로드되었습니다.\n"
     ]
    },
    {
     "name": "stderr",
     "output_type": "stream",
     "text": [
      "\r",
      " 13%|██████████▍                                                                    | 325/2470 [00:16<01:43, 20.75it/s]"
     ]
    },
    {
     "name": "stdout",
     "output_type": "stream",
     "text": [
      "이미지가 다운로드되었습니다.\n",
      "이미지가 다운로드되었습니다.\n",
      "이미지가 다운로드되었습니다.\n",
      "이미지가 다운로드되었습니다.\n",
      "이미지가 다운로드되었습니다.\n"
     ]
    },
    {
     "name": "stderr",
     "output_type": "stream",
     "text": [
      " 13%|██████████▌                                                                    | 331/2470 [00:16<01:43, 20.65it/s]"
     ]
    },
    {
     "name": "stdout",
     "output_type": "stream",
     "text": [
      "이미지가 다운로드되었습니다.\n",
      "이미지가 다운로드되었습니다.\n",
      "이미지가 다운로드되었습니다.\n",
      "이미지가 다운로드되었습니다.\n",
      "이미지가 다운로드되었습니다.\n"
     ]
    },
    {
     "name": "stderr",
     "output_type": "stream",
     "text": [
      " 14%|██████████▋                                                                    | 336/2470 [00:16<01:49, 19.55it/s]"
     ]
    },
    {
     "name": "stdout",
     "output_type": "stream",
     "text": [
      "이미지가 다운로드되었습니다.\n",
      "이미지가 다운로드되었습니다.\n",
      "이미지가 다운로드되었습니다.\n",
      "이미지가 다운로드되었습니다.\n"
     ]
    },
    {
     "name": "stderr",
     "output_type": "stream",
     "text": [
      "\r",
      " 14%|██████████▊                                                                    | 339/2470 [00:16<01:44, 20.48it/s]"
     ]
    },
    {
     "name": "stdout",
     "output_type": "stream",
     "text": [
      "이미지가 다운로드되었습니다.\n",
      "이미지가 다운로드되었습니다.\n",
      "이미지가 다운로드되었습니다.\n",
      "이미지가 다운로드되었습니다.\n",
      "이미지가 다운로드되었습니다.\n"
     ]
    },
    {
     "name": "stderr",
     "output_type": "stream",
     "text": [
      " 14%|███████████                                                                    | 345/2470 [00:17<01:47, 19.85it/s]"
     ]
    },
    {
     "name": "stdout",
     "output_type": "stream",
     "text": [
      "이미지가 다운로드되었습니다.\n",
      "이미지가 다운로드되었습니다.\n",
      "이미지가 다운로드되었습니다.\n",
      "이미지가 다운로드되었습니다.\n"
     ]
    },
    {
     "name": "stderr",
     "output_type": "stream",
     "text": [
      "\r",
      " 14%|███████████▏                                                                   | 348/2470 [00:17<01:42, 20.61it/s]"
     ]
    },
    {
     "name": "stdout",
     "output_type": "stream",
     "text": [
      "이미지가 다운로드되었습니다.\n",
      "이미지가 다운로드되었습니다.\n",
      "이미지가 다운로드되었습니다.\n",
      "이미지가 다운로드되었습니다.\n",
      "이미지가 다운로드되었습니다.\n"
     ]
    },
    {
     "name": "stderr",
     "output_type": "stream",
     "text": [
      " 14%|███████████▎                                                                   | 354/2470 [00:17<01:46, 19.86it/s]"
     ]
    },
    {
     "name": "stdout",
     "output_type": "stream",
     "text": [
      "이미지가 다운로드되었습니다.\n",
      "이미지가 다운로드되었습니다.\n",
      "이미지가 다운로드되었습니다.\n",
      "이미지가 다운로드되었습니다.\n"
     ]
    },
    {
     "name": "stderr",
     "output_type": "stream",
     "text": [
      "\r",
      " 14%|███████████▍                                                                   | 357/2470 [00:17<01:45, 20.01it/s]"
     ]
    },
    {
     "name": "stdout",
     "output_type": "stream",
     "text": [
      "이미지가 다운로드되었습니다.\n",
      "이미지가 다운로드되었습니다.\n",
      "이미지가 다운로드되었습니다.\n",
      "이미지가 다운로드되었습니다.\n",
      "이미지가 다운로드되었습니다.\n"
     ]
    },
    {
     "name": "stderr",
     "output_type": "stream",
     "text": [
      " 15%|███████████▌                                                                   | 362/2470 [00:18<01:48, 19.49it/s]"
     ]
    },
    {
     "name": "stdout",
     "output_type": "stream",
     "text": [
      "이미지가 다운로드되었습니다.\n",
      "이미지가 다운로드되었습니다.\n",
      "이미지가 다운로드되었습니다.\n",
      "이미지가 다운로드되었습니다.\n"
     ]
    },
    {
     "name": "stderr",
     "output_type": "stream",
     "text": [
      " 15%|███████████▋                                                                   | 367/2470 [00:18<01:53, 18.51it/s]"
     ]
    },
    {
     "name": "stdout",
     "output_type": "stream",
     "text": [
      "이미지가 다운로드되었습니다.\n",
      "이미지가 다운로드되었습니다.\n",
      "이미지가 다운로드되었습니다.\n",
      "이미지가 다운로드되었습니다.\n",
      "이미지가 다운로드되었습니다.\n"
     ]
    },
    {
     "name": "stderr",
     "output_type": "stream",
     "text": [
      " 15%|███████████▉                                                                   | 373/2470 [00:18<01:46, 19.73it/s]"
     ]
    },
    {
     "name": "stdout",
     "output_type": "stream",
     "text": [
      "이미지가 다운로드되었습니다.\n",
      "이미지가 다운로드되었습니다.\n",
      "이미지가 다운로드되었습니다.\n",
      "이미지가 다운로드되었습니다.\n",
      "이미지가 다운로드되었습니다.\n"
     ]
    },
    {
     "name": "stderr",
     "output_type": "stream",
     "text": [
      "\r",
      " 15%|████████████                                                                   | 376/2470 [00:18<01:40, 20.82it/s]"
     ]
    },
    {
     "name": "stdout",
     "output_type": "stream",
     "text": [
      "이미지가 다운로드되었습니다.\n",
      "이미지가 다운로드되었습니다.\n",
      "이미지가 다운로드되었습니다.\n",
      "이미지가 다운로드되었습니다.\n",
      "이미지가 다운로드되었습니다.\n"
     ]
    },
    {
     "name": "stderr",
     "output_type": "stream",
     "text": [
      " 15%|████████████▏                                                                  | 382/2470 [00:19<01:45, 19.80it/s]"
     ]
    },
    {
     "name": "stdout",
     "output_type": "stream",
     "text": [
      "이미지가 다운로드되었습니다.\n",
      "이미지가 다운로드되었습니다.\n",
      "이미지가 다운로드되었습니다.\n",
      "이미지가 다운로드되었습니다.\n"
     ]
    },
    {
     "name": "stderr",
     "output_type": "stream",
     "text": [
      "\r",
      " 16%|████████████▎                                                                  | 385/2470 [00:19<01:43, 20.12it/s]"
     ]
    },
    {
     "name": "stdout",
     "output_type": "stream",
     "text": [
      "이미지가 다운로드되었습니다.\n",
      "이미지가 다운로드되었습니다.\n",
      "이미지가 다운로드되었습니다.\n",
      "이미지가 다운로드되었습니다.\n",
      "이미지가 다운로드되었습니다.\n"
     ]
    },
    {
     "name": "stderr",
     "output_type": "stream",
     "text": [
      " 16%|████████████▍                                                                  | 390/2470 [00:19<01:45, 19.63it/s]"
     ]
    },
    {
     "name": "stdout",
     "output_type": "stream",
     "text": [
      "이미지가 다운로드되었습니다.\n",
      "이미지가 다운로드되었습니다.\n",
      "이미지가 다운로드되었습니다.\n",
      "이미지가 다운로드되었습니다.\n",
      "이미지가 다운로드되었습니다.\n"
     ]
    },
    {
     "name": "stderr",
     "output_type": "stream",
     "text": [
      " 16%|████████████▋                                                                  | 395/2470 [00:19<01:49, 18.97it/s]"
     ]
    },
    {
     "name": "stdout",
     "output_type": "stream",
     "text": [
      "이미지가 다운로드되었습니다.\n",
      "이미지가 다운로드되었습니다.\n",
      "이미지가 다운로드되었습니다.\n",
      "이미지가 다운로드되었습니다.\n",
      "이미지가 다운로드되었습니다.\n"
     ]
    },
    {
     "name": "stderr",
     "output_type": "stream",
     "text": [
      " 16%|████████████▊                                                                  | 401/2470 [00:20<01:39, 20.88it/s]"
     ]
    },
    {
     "name": "stdout",
     "output_type": "stream",
     "text": [
      "이미지가 다운로드되었습니다.\n",
      "이미지가 다운로드되었습니다.\n",
      "이미지가 다운로드되었습니다.\n",
      "이미지가 다운로드되었습니다.\n",
      "이미지가 다운로드되었습니다.\n"
     ]
    },
    {
     "name": "stderr",
     "output_type": "stream",
     "text": [
      " 16%|█████████████                                                                  | 407/2470 [00:20<01:37, 21.07it/s]"
     ]
    },
    {
     "name": "stdout",
     "output_type": "stream",
     "text": [
      "이미지가 다운로드되었습니다.\n",
      "이미지가 다운로드되었습니다.\n",
      "이미지가 다운로드되었습니다.\n",
      "이미지가 다운로드되었습니다.\n",
      "이미지가 다운로드되었습니다.\n"
     ]
    },
    {
     "name": "stderr",
     "output_type": "stream",
     "text": [
      "\r",
      " 17%|█████████████                                                                  | 410/2470 [00:20<01:39, 20.79it/s]"
     ]
    },
    {
     "name": "stdout",
     "output_type": "stream",
     "text": [
      "이미지가 다운로드되었습니다.\n",
      "이미지가 다운로드되었습니다.\n",
      "이미지가 다운로드되었습니다.\n",
      "이미지가 다운로드되었습니다.\n",
      "이미지가 다운로드되었습니다.\n"
     ]
    },
    {
     "name": "stderr",
     "output_type": "stream",
     "text": [
      " 17%|█████████████▎                                                                 | 416/2470 [00:20<01:45, 19.55it/s]"
     ]
    },
    {
     "name": "stdout",
     "output_type": "stream",
     "text": [
      "이미지가 다운로드되었습니다.\n",
      "이미지가 다운로드되었습니다.\n",
      "이미지가 다운로드되었습니다.\n",
      "이미지가 다운로드되었습니다.\n"
     ]
    },
    {
     "name": "stderr",
     "output_type": "stream",
     "text": [
      "\r",
      " 17%|█████████████▍                                                                 | 419/2470 [00:21<01:45, 19.51it/s]"
     ]
    },
    {
     "name": "stdout",
     "output_type": "stream",
     "text": [
      "이미지가 다운로드되었습니다.\n",
      "이미지가 다운로드되었습니다.\n",
      "이미지가 다운로드되었습니다.\n",
      "이미지가 다운로드되었습니다.\n"
     ]
    },
    {
     "name": "stderr",
     "output_type": "stream",
     "text": [
      " 17%|█████████████▌                                                                 | 423/2470 [00:21<01:45, 19.44it/s]"
     ]
    },
    {
     "name": "stdout",
     "output_type": "stream",
     "text": [
      "이미지가 다운로드되었습니다.\n",
      "이미지가 다운로드되었습니다.\n",
      "이미지가 다운로드되었습니다.\n",
      "이미지가 다운로드되었습니다.\n"
     ]
    },
    {
     "name": "stderr",
     "output_type": "stream",
     "text": [
      " 17%|█████████████▋                                                                 | 428/2470 [00:21<01:45, 19.41it/s]"
     ]
    },
    {
     "name": "stdout",
     "output_type": "stream",
     "text": [
      "이미지가 다운로드되었습니다.\n",
      "이미지가 다운로드되었습니다.\n",
      "이미지가 다운로드되었습니다.\n",
      "이미지가 다운로드되었습니다.\n",
      "이미지가 다운로드되었습니다.\n"
     ]
    },
    {
     "name": "stderr",
     "output_type": "stream",
     "text": [
      " 18%|█████████████▊                                                                 | 433/2470 [00:21<01:41, 20.05it/s]"
     ]
    },
    {
     "name": "stdout",
     "output_type": "stream",
     "text": [
      "이미지가 다운로드되었습니다.\n",
      "이미지가 다운로드되었습니다.\n",
      "이미지가 다운로드되었습니다.\n",
      "이미지가 다운로드되었습니다.\n",
      "이미지가 다운로드되었습니다.\n"
     ]
    },
    {
     "name": "stderr",
     "output_type": "stream",
     "text": [
      " 18%|█████████████▉                                                                 | 437/2470 [00:21<01:45, 19.30it/s]"
     ]
    },
    {
     "name": "stdout",
     "output_type": "stream",
     "text": [
      "이미지가 다운로드되었습니다.\n",
      "이미지가 다운로드되었습니다.\n",
      "이미지가 다운로드되었습니다.\n",
      "이미지가 다운로드되었습니다.\n"
     ]
    },
    {
     "name": "stderr",
     "output_type": "stream",
     "text": [
      " 18%|██████████████▏                                                                | 443/2470 [00:22<01:40, 20.25it/s]"
     ]
    },
    {
     "name": "stdout",
     "output_type": "stream",
     "text": [
      "이미지가 다운로드되었습니다.\n",
      "이미지가 다운로드되었습니다.\n",
      "이미지가 다운로드되었습니다.\n",
      "이미지가 다운로드되었습니다.\n",
      "이미지가 다운로드되었습니다.\n"
     ]
    },
    {
     "name": "stderr",
     "output_type": "stream",
     "text": [
      "\r",
      " 18%|██████████████▎                                                                | 446/2470 [00:22<01:43, 19.55it/s]"
     ]
    },
    {
     "name": "stdout",
     "output_type": "stream",
     "text": [
      "이미지가 다운로드되었습니다.\n",
      "이미지가 다운로드되었습니다.\n",
      "이미지가 다운로드되었습니다.\n",
      "이미지가 다운로드되었습니다.\n"
     ]
    },
    {
     "name": "stderr",
     "output_type": "stream",
     "text": [
      " 18%|██████████████▍                                                                | 450/2470 [00:22<01:49, 18.47it/s]"
     ]
    },
    {
     "name": "stdout",
     "output_type": "stream",
     "text": [
      "이미지가 다운로드되었습니다.\n",
      "이미지가 다운로드되었습니다.\n",
      "이미지가 다운로드되었습니다.\n",
      "이미지가 다운로드되었습니다.\n"
     ]
    },
    {
     "name": "stderr",
     "output_type": "stream",
     "text": [
      " 18%|██████████████▌                                                                | 454/2470 [00:22<01:51, 18.02it/s]"
     ]
    },
    {
     "name": "stdout",
     "output_type": "stream",
     "text": [
      "이미지가 다운로드되었습니다.\n",
      "이미지가 다운로드되었습니다.\n",
      "이미지가 다운로드되었습니다.\n",
      "이미지가 다운로드되었습니다.\n"
     ]
    },
    {
     "name": "stderr",
     "output_type": "stream",
     "text": [
      " 19%|██████████████▋                                                                | 458/2470 [00:23<01:52, 17.95it/s]"
     ]
    },
    {
     "name": "stdout",
     "output_type": "stream",
     "text": [
      "이미지가 다운로드되었습니다.\n",
      "이미지가 다운로드되었습니다.\n",
      "이미지가 다운로드되었습니다.\n",
      "이미지가 다운로드되었습니다.\n",
      "이미지가 다운로드되었습니다.\n"
     ]
    },
    {
     "name": "stderr",
     "output_type": "stream",
     "text": [
      " 19%|██████████████▊                                                                | 464/2470 [00:23<01:40, 19.94it/s]"
     ]
    },
    {
     "name": "stdout",
     "output_type": "stream",
     "text": [
      "이미지가 다운로드되었습니다.\n",
      "이미지가 다운로드되었습니다.\n",
      "이미지가 다운로드되었습니다.\n",
      "이미지가 다운로드되었습니다.\n",
      "이미지가 다운로드되었습니다.\n"
     ]
    },
    {
     "name": "stderr",
     "output_type": "stream",
     "text": [
      " 19%|███████████████                                                                | 470/2470 [00:23<01:36, 20.75it/s]"
     ]
    },
    {
     "name": "stdout",
     "output_type": "stream",
     "text": [
      "이미지가 다운로드되었습니다.\n",
      "이미지가 다운로드되었습니다.\n",
      "이미지가 다운로드되었습니다.\n",
      "이미지가 다운로드되었습니다.\n",
      "이미지가 다운로드되었습니다.\n"
     ]
    },
    {
     "name": "stderr",
     "output_type": "stream",
     "text": [
      "\r",
      " 19%|███████████████▏                                                               | 473/2470 [00:23<01:34, 21.23it/s]"
     ]
    },
    {
     "name": "stdout",
     "output_type": "stream",
     "text": [
      "이미지가 다운로드되었습니다.\n",
      "이미지가 다운로드되었습니다.\n",
      "이미지가 다운로드되었습니다.\n",
      "이미지가 다운로드되었습니다.\n",
      "이미지가 다운로드되었습니다.\n"
     ]
    },
    {
     "name": "stderr",
     "output_type": "stream",
     "text": [
      " 19%|███████████████▎                                                               | 479/2470 [00:24<01:37, 20.40it/s]"
     ]
    },
    {
     "name": "stdout",
     "output_type": "stream",
     "text": [
      "이미지가 다운로드되었습니다.\n",
      "이미지가 다운로드되었습니다.\n",
      "이미지가 다운로드되었습니다.\n",
      "이미지가 다운로드되었습니다.\n",
      "이미지가 다운로드되었습니다.\n"
     ]
    },
    {
     "name": "stderr",
     "output_type": "stream",
     "text": [
      " 20%|███████████████▌                                                               | 485/2470 [00:24<01:32, 21.41it/s]"
     ]
    },
    {
     "name": "stdout",
     "output_type": "stream",
     "text": [
      "이미지가 다운로드되었습니다.\n",
      "이미지가 다운로드되었습니다.\n",
      "이미지가 다운로드되었습니다.\n",
      "이미지가 다운로드되었습니다.\n",
      "이미지가 다운로드되었습니다.\n"
     ]
    },
    {
     "name": "stderr",
     "output_type": "stream",
     "text": [
      "\r",
      " 20%|███████████████▌                                                               | 488/2470 [00:24<01:32, 21.37it/s]"
     ]
    },
    {
     "name": "stdout",
     "output_type": "stream",
     "text": [
      "이미지가 다운로드되었습니다.\n",
      "이미지가 다운로드되었습니다.\n",
      "이미지가 다운로드되었습니다.\n",
      "이미지가 다운로드되었습니다.\n",
      "이미지가 다운로드되었습니다.\n"
     ]
    },
    {
     "name": "stderr",
     "output_type": "stream",
     "text": [
      " 20%|███████████████▊                                                               | 494/2470 [00:24<01:33, 21.11it/s]"
     ]
    },
    {
     "name": "stdout",
     "output_type": "stream",
     "text": [
      "이미지가 다운로드되었습니다.\n",
      "이미지가 다운로드되었습니다.\n",
      "이미지가 다운로드되었습니다.\n",
      "이미지가 다운로드되었습니다.\n",
      "이미지가 다운로드되었습니다.\n"
     ]
    },
    {
     "name": "stderr",
     "output_type": "stream",
     "text": [
      "\r",
      " 20%|███████████████▉                                                               | 497/2470 [00:24<01:33, 21.12it/s]"
     ]
    },
    {
     "name": "stdout",
     "output_type": "stream",
     "text": [
      "이미지가 다운로드되었습니다.\n",
      "이미지가 다운로드되었습니다.\n",
      "이미지가 다운로드되었습니다.\n",
      "이미지가 다운로드되었습니다.\n"
     ]
    },
    {
     "name": "stderr",
     "output_type": "stream",
     "text": [
      " 20%|████████████████                                                               | 502/2470 [00:25<01:43, 19.10it/s]"
     ]
    },
    {
     "name": "stdout",
     "output_type": "stream",
     "text": [
      "이미지가 다운로드되었습니다.\n",
      "이미지가 다운로드되었습니다.\n",
      "이미지가 다운로드되었습니다.\n",
      "이미지가 다운로드되었습니다.\n"
     ]
    },
    {
     "name": "stderr",
     "output_type": "stream",
     "text": [
      " 21%|████████████████▏                                                              | 507/2470 [00:25<01:40, 19.49it/s]"
     ]
    },
    {
     "name": "stdout",
     "output_type": "stream",
     "text": [
      "이미지가 다운로드되었습니다.\n",
      "이미지가 다운로드되었습니다.\n",
      "이미지가 다운로드되었습니다.\n",
      "이미지가 다운로드되었습니다.\n"
     ]
    },
    {
     "name": "stderr",
     "output_type": "stream",
     "text": [
      " 21%|████████████████▎                                                              | 511/2470 [00:25<01:42, 19.09it/s]"
     ]
    },
    {
     "name": "stdout",
     "output_type": "stream",
     "text": [
      "이미지가 다운로드되었습니다.\n",
      "이미지가 다운로드되었습니다.\n",
      "이미지가 다운로드되었습니다.\n",
      "이미지가 다운로드되었습니다.\n"
     ]
    },
    {
     "name": "stderr",
     "output_type": "stream",
     "text": [
      "\r",
      " 21%|████████████████▍                                                              | 514/2470 [00:25<01:41, 19.35it/s]"
     ]
    },
    {
     "name": "stdout",
     "output_type": "stream",
     "text": [
      "이미지가 다운로드되었습니다.\n",
      "이미지가 다운로드되었습니다.\n",
      "이미지가 다운로드되었습니다.\n",
      "이미지가 다운로드되었습니다.\n"
     ]
    },
    {
     "name": "stderr",
     "output_type": "stream",
     "text": [
      " 21%|████████████████▌                                                              | 518/2470 [00:26<01:41, 19.19it/s]"
     ]
    },
    {
     "name": "stdout",
     "output_type": "stream",
     "text": [
      "이미지가 다운로드되었습니다.\n",
      "이미지가 다운로드되었습니다.\n",
      "이미지가 다운로드되었습니다.\n",
      "이미지가 다운로드되었습니다.\n"
     ]
    },
    {
     "name": "stderr",
     "output_type": "stream",
     "text": [
      " 21%|████████████████▋                                                              | 523/2470 [00:26<01:37, 19.97it/s]"
     ]
    },
    {
     "name": "stdout",
     "output_type": "stream",
     "text": [
      "이미지가 다운로드되었습니다.\n",
      "이미지가 다운로드되었습니다.\n",
      "이미지가 다운로드되었습니다.\n",
      "이미지가 다운로드되었습니다.\n",
      "이미지가 다운로드되었습니다.\n"
     ]
    },
    {
     "name": "stderr",
     "output_type": "stream",
     "text": [
      " 21%|████████████████▉                                                              | 529/2470 [00:26<01:34, 20.45it/s]"
     ]
    },
    {
     "name": "stdout",
     "output_type": "stream",
     "text": [
      "이미지가 다운로드되었습니다.\n",
      "이미지가 다운로드되었습니다.\n",
      "이미지가 다운로드되었습니다.\n",
      "이미지가 다운로드되었습니다.\n",
      "이미지가 다운로드되었습니다.\n"
     ]
    },
    {
     "name": "stderr",
     "output_type": "stream",
     "text": [
      "\r",
      " 22%|█████████████████                                                              | 532/2470 [00:26<01:34, 20.46it/s]"
     ]
    },
    {
     "name": "stdout",
     "output_type": "stream",
     "text": [
      "이미지가 다운로드되었습니다.\n",
      "이미지가 다운로드되었습니다.\n",
      "이미지가 다운로드되었습니다.\n",
      "이미지가 다운로드되었습니다.\n",
      "이미지가 다운로드되었습니다.\n"
     ]
    },
    {
     "name": "stderr",
     "output_type": "stream",
     "text": [
      " 22%|█████████████████▏                                                             | 538/2470 [00:26<01:33, 20.62it/s]"
     ]
    },
    {
     "name": "stdout",
     "output_type": "stream",
     "text": [
      "이미지가 다운로드되었습니다.\n",
      "이미지가 다운로드되었습니다.\n",
      "이미지가 다운로드되었습니다.\n",
      "이미지가 다운로드되었습니다.\n",
      "이미지가 다운로드되었습니다.\n"
     ]
    },
    {
     "name": "stderr",
     "output_type": "stream",
     "text": [
      " 22%|█████████████████▍                                                             | 544/2470 [00:27<01:30, 21.17it/s]"
     ]
    },
    {
     "name": "stdout",
     "output_type": "stream",
     "text": [
      "이미지가 다운로드되었습니다.\n",
      "이미지가 다운로드되었습니다.\n",
      "이미지가 다운로드되었습니다.\n",
      "이미지가 다운로드되었습니다.\n",
      "이미지가 다운로드되었습니다.\n"
     ]
    },
    {
     "name": "stderr",
     "output_type": "stream",
     "text": [
      "\r",
      " 22%|█████████████████▍                                                             | 547/2470 [00:27<01:29, 21.52it/s]"
     ]
    },
    {
     "name": "stdout",
     "output_type": "stream",
     "text": [
      "이미지가 다운로드되었습니다.\n",
      "이미지가 다운로드되었습니다.\n",
      "이미지가 다운로드되었습니다.\n",
      "이미지가 다운로드되었습니다.\n",
      "이미지가 다운로드되었습니다.\n"
     ]
    },
    {
     "name": "stderr",
     "output_type": "stream",
     "text": [
      " 22%|█████████████████▋                                                             | 553/2470 [00:27<01:30, 21.08it/s]"
     ]
    },
    {
     "name": "stdout",
     "output_type": "stream",
     "text": [
      "이미지가 다운로드되었습니다.\n",
      "이미지가 다운로드되었습니다.\n",
      "이미지가 다운로드되었습니다.\n",
      "이미지가 다운로드되었습니다.\n",
      "이미지가 다운로드되었습니다.\n"
     ]
    },
    {
     "name": "stderr",
     "output_type": "stream",
     "text": [
      "\r",
      " 23%|█████████████████▊                                                             | 556/2470 [00:27<01:28, 21.51it/s]"
     ]
    },
    {
     "name": "stdout",
     "output_type": "stream",
     "text": [
      "이미지가 다운로드되었습니다.\n",
      "이미지가 다운로드되었습니다.\n",
      "이미지가 다운로드되었습니다.\n",
      "이미지가 다운로드되었습니다.\n"
     ]
    },
    {
     "name": "stderr",
     "output_type": "stream",
     "text": [
      " 23%|█████████████████▉                                                             | 562/2470 [00:28<01:34, 20.24it/s]"
     ]
    },
    {
     "name": "stdout",
     "output_type": "stream",
     "text": [
      "이미지가 다운로드되었습니다.\n",
      "이미지가 다운로드되었습니다.\n",
      "이미지가 다운로드되었습니다.\n",
      "이미지가 다운로드되었습니다.\n",
      "이미지가 다운로드되었습니다.\n"
     ]
    },
    {
     "name": "stderr",
     "output_type": "stream",
     "text": [
      " 23%|██████████████████▏                                                            | 568/2470 [00:28<01:32, 20.64it/s]"
     ]
    },
    {
     "name": "stdout",
     "output_type": "stream",
     "text": [
      "이미지가 다운로드되었습니다.\n",
      "이미지가 다운로드되었습니다.\n",
      "이미지가 다운로드되었습니다.\n",
      "이미지가 다운로드되었습니다.\n",
      "이미지가 다운로드되었습니다.\n"
     ]
    },
    {
     "name": "stderr",
     "output_type": "stream",
     "text": [
      "\r",
      " 23%|██████████████████▎                                                            | 571/2470 [00:28<01:34, 20.17it/s]"
     ]
    },
    {
     "name": "stdout",
     "output_type": "stream",
     "text": [
      "이미지가 다운로드되었습니다.\n",
      "이미지가 다운로드되었습니다.\n",
      "이미지가 다운로드되었습니다.\n",
      "이미지가 다운로드되었습니다.\n"
     ]
    },
    {
     "name": "stderr",
     "output_type": "stream",
     "text": [
      " 23%|██████████████████▍                                                            | 576/2470 [00:28<01:40, 18.79it/s]"
     ]
    },
    {
     "name": "stdout",
     "output_type": "stream",
     "text": [
      "이미지가 다운로드되었습니다.\n",
      "이미지가 다운로드되었습니다.\n",
      "이미지가 다운로드되었습니다.\n",
      "이미지가 다운로드되었습니다.\n"
     ]
    },
    {
     "name": "stderr",
     "output_type": "stream",
     "text": [
      " 23%|██████████████████▌                                                            | 580/2470 [00:29<01:39, 19.06it/s]"
     ]
    },
    {
     "name": "stdout",
     "output_type": "stream",
     "text": [
      "이미지가 다운로드되었습니다.\n",
      "이미지가 다운로드되었습니다.\n",
      "이미지가 다운로드되었습니다.\n",
      "이미지가 다운로드되었습니다.\n",
      "이미지가 다운로드되었습니다.\n"
     ]
    },
    {
     "name": "stderr",
     "output_type": "stream",
     "text": [
      " 24%|██████████████████▋                                                            | 586/2470 [00:29<01:29, 20.98it/s]"
     ]
    },
    {
     "name": "stdout",
     "output_type": "stream",
     "text": [
      "이미지가 다운로드되었습니다.\n",
      "이미지가 다운로드되었습니다.\n",
      "이미지가 다운로드되었습니다.\n",
      "이미지가 다운로드되었습니다.\n",
      "이미지가 다운로드되었습니다.\n"
     ]
    },
    {
     "name": "stderr",
     "output_type": "stream",
     "text": [
      "\r",
      " 24%|██████████████████▊                                                            | 589/2470 [00:29<01:30, 20.77it/s]"
     ]
    },
    {
     "name": "stdout",
     "output_type": "stream",
     "text": [
      "이미지가 다운로드되었습니다.\n",
      "이미지가 다운로드되었습니다.\n",
      "이미지가 다운로드되었습니다.\n",
      "이미지가 다운로드되었습니다.\n"
     ]
    },
    {
     "name": "stderr",
     "output_type": "stream",
     "text": [
      " 24%|███████████████████                                                            | 595/2470 [00:29<01:31, 20.47it/s]"
     ]
    },
    {
     "name": "stdout",
     "output_type": "stream",
     "text": [
      "이미지가 다운로드되었습니다.\n",
      "이미지가 다운로드되었습니다.\n",
      "이미지가 다운로드되었습니다.\n",
      "이미지가 다운로드되었습니다.\n",
      "이미지가 다운로드되었습니다.\n"
     ]
    },
    {
     "name": "stderr",
     "output_type": "stream",
     "text": [
      "\r",
      " 24%|███████████████████▏                                                           | 598/2470 [00:29<01:33, 20.05it/s]"
     ]
    },
    {
     "name": "stdout",
     "output_type": "stream",
     "text": [
      "이미지가 다운로드되었습니다.\n",
      "이미지가 다운로드되었습니다.\n",
      "이미지가 다운로드되었습니다.\n",
      "이미지가 다운로드되었습니다.\n"
     ]
    },
    {
     "name": "stderr",
     "output_type": "stream",
     "text": [
      " 24%|███████████████████▎                                                           | 604/2470 [00:30<01:34, 19.68it/s]"
     ]
    },
    {
     "name": "stdout",
     "output_type": "stream",
     "text": [
      "이미지가 다운로드되었습니다.\n",
      "이미지가 다운로드되었습니다.\n",
      "이미지가 다운로드되었습니다.\n",
      "이미지가 다운로드되었습니다.\n",
      "이미지가 다운로드되었습니다.\n"
     ]
    },
    {
     "name": "stderr",
     "output_type": "stream",
     "text": [
      " 25%|███████████████████▍                                                           | 608/2470 [00:30<01:39, 18.70it/s]"
     ]
    },
    {
     "name": "stdout",
     "output_type": "stream",
     "text": [
      "이미지가 다운로드되었습니다.\n",
      "이미지가 다운로드되었습니다.\n",
      "이미지가 다운로드되었습니다.\n",
      "이미지가 다운로드되었습니다.\n"
     ]
    },
    {
     "name": "stderr",
     "output_type": "stream",
     "text": [
      " 25%|███████████████████▌                                                           | 613/2470 [00:30<01:37, 19.03it/s]"
     ]
    },
    {
     "name": "stdout",
     "output_type": "stream",
     "text": [
      "이미지가 다운로드되었습니다.\n",
      "이미지가 다운로드되었습니다.\n",
      "이미지가 다운로드되었습니다.\n",
      "이미지가 다운로드되었습니다.\n",
      "이미지가 다운로드되었습니다.\n"
     ]
    },
    {
     "name": "stderr",
     "output_type": "stream",
     "text": [
      " 25%|███████████████████▋                                                           | 617/2470 [00:30<01:38, 18.77it/s]"
     ]
    },
    {
     "name": "stdout",
     "output_type": "stream",
     "text": [
      "이미지가 다운로드되었습니다.\n",
      "이미지가 다운로드되었습니다.\n",
      "이미지가 다운로드되었습니다.\n",
      "이미지가 다운로드되었습니다.\n"
     ]
    },
    {
     "name": "stderr",
     "output_type": "stream",
     "text": [
      "\r",
      " 25%|███████████████████▊                                                           | 620/2470 [00:31<01:32, 19.94it/s]"
     ]
    },
    {
     "name": "stdout",
     "output_type": "stream",
     "text": [
      "이미지가 다운로드되었습니다.\n",
      "이미지가 다운로드되었습니다.\n",
      "이미지가 다운로드되었습니다.\n",
      "이미지가 다운로드되었습니다.\n",
      "이미지가 다운로드되었습니다.\n"
     ]
    },
    {
     "name": "stderr",
     "output_type": "stream",
     "text": [
      " 25%|████████████████████                                                           | 626/2470 [00:31<01:31, 20.21it/s]"
     ]
    },
    {
     "name": "stdout",
     "output_type": "stream",
     "text": [
      "이미지가 다운로드되었습니다.\n",
      "이미지가 다운로드되었습니다.\n",
      "이미지가 다운로드되었습니다.\n",
      "이미지가 다운로드되었습니다.\n",
      "이미지가 다운로드되었습니다.\n"
     ]
    },
    {
     "name": "stderr",
     "output_type": "stream",
     "text": [
      " 26%|████████████████████▏                                                          | 632/2470 [00:31<01:31, 20.10it/s]"
     ]
    },
    {
     "name": "stdout",
     "output_type": "stream",
     "text": [
      "이미지가 다운로드되었습니다.\n",
      "이미지가 다운로드되었습니다.\n",
      "이미지가 다운로드되었습니다.\n",
      "이미지가 다운로드되었습니다.\n",
      "이미지가 다운로드되었습니다.\n"
     ]
    },
    {
     "name": "stderr",
     "output_type": "stream",
     "text": [
      "\r",
      " 26%|████████████████████▎                                                          | 635/2470 [00:31<01:28, 20.63it/s]"
     ]
    },
    {
     "name": "stdout",
     "output_type": "stream",
     "text": [
      "이미지가 다운로드되었습니다.\n",
      "이미지가 다운로드되었습니다.\n",
      "이미지가 다운로드되었습니다.\n",
      "이미지가 다운로드되었습니다.\n"
     ]
    },
    {
     "name": "stderr",
     "output_type": "stream",
     "text": [
      " 26%|████████████████████▍                                                          | 640/2470 [00:32<01:34, 19.37it/s]"
     ]
    },
    {
     "name": "stdout",
     "output_type": "stream",
     "text": [
      "이미지가 다운로드되었습니다.\n",
      "이미지가 다운로드되었습니다.\n",
      "이미지가 다운로드되었습니다.\n",
      "이미지가 다운로드되었습니다.\n"
     ]
    },
    {
     "name": "stderr",
     "output_type": "stream",
     "text": [
      " 26%|████████████████████▋                                                          | 645/2470 [00:32<01:31, 20.02it/s]"
     ]
    },
    {
     "name": "stdout",
     "output_type": "stream",
     "text": [
      "이미지가 다운로드되었습니다.\n",
      "이미지가 다운로드되었습니다.\n",
      "이미지가 다운로드되었습니다.\n",
      "이미지가 다운로드되었습니다.\n",
      "이미지가 다운로드되었습니다.\n"
     ]
    },
    {
     "name": "stderr",
     "output_type": "stream",
     "text": [
      "\r",
      " 26%|████████████████████▋                                                          | 648/2470 [00:32<01:35, 19.17it/s]"
     ]
    },
    {
     "name": "stdout",
     "output_type": "stream",
     "text": [
      "이미지가 다운로드되었습니다.\n",
      "이미지가 다운로드되었습니다.\n",
      "이미지가 다운로드되었습니다.\n",
      "이미지가 다운로드되었습니다.\n"
     ]
    },
    {
     "name": "stderr",
     "output_type": "stream",
     "text": [
      " 26%|████████████████████▉                                                          | 653/2470 [00:32<01:33, 19.49it/s]"
     ]
    },
    {
     "name": "stdout",
     "output_type": "stream",
     "text": [
      "이미지가 다운로드되었습니다.\n",
      "이미지가 다운로드되었습니다.\n",
      "이미지가 다운로드되었습니다.\n",
      "이미지가 다운로드되었습니다.\n",
      "이미지가 다운로드되었습니다.\n"
     ]
    },
    {
     "name": "stderr",
     "output_type": "stream",
     "text": [
      " 27%|█████████████████████                                                          | 659/2470 [00:33<01:29, 20.35it/s]"
     ]
    },
    {
     "name": "stdout",
     "output_type": "stream",
     "text": [
      "이미지가 다운로드되었습니다.\n",
      "이미지가 다운로드되었습니다.\n",
      "이미지가 다운로드되었습니다.\n",
      "이미지가 다운로드되었습니다.\n",
      "이미지가 다운로드되었습니다.\n"
     ]
    },
    {
     "name": "stderr",
     "output_type": "stream",
     "text": [
      "\r",
      " 27%|█████████████████████▏                                                         | 662/2470 [00:33<01:26, 20.89it/s]"
     ]
    },
    {
     "name": "stdout",
     "output_type": "stream",
     "text": [
      "이미지가 다운로드되었습니다.\n",
      "이미지가 다운로드되었습니다.\n",
      "이미지가 다운로드되었습니다.\n",
      "이미지가 다운로드되었습니다.\n",
      "이미지가 다운로드되었습니다.\n"
     ]
    },
    {
     "name": "stderr",
     "output_type": "stream",
     "text": [
      " 27%|█████████████████████▎                                                         | 668/2470 [00:33<01:24, 21.22it/s]"
     ]
    },
    {
     "name": "stdout",
     "output_type": "stream",
     "text": [
      "이미지가 다운로드되었습니다.\n",
      "이미지가 다운로드되었습니다.\n",
      "이미지가 다운로드되었습니다.\n",
      "이미지가 다운로드되었습니다.\n",
      "이미지가 다운로드되었습니다.\n"
     ]
    },
    {
     "name": "stderr",
     "output_type": "stream",
     "text": [
      " 27%|█████████████████████▌                                                         | 674/2470 [00:33<01:22, 21.77it/s]"
     ]
    },
    {
     "name": "stdout",
     "output_type": "stream",
     "text": [
      "이미지가 다운로드되었습니다.\n",
      "이미지가 다운로드되었습니다.\n",
      "이미지가 다운로드되었습니다.\n",
      "이미지가 다운로드되었습니다.\n",
      "이미지가 다운로드되었습니다.\n"
     ]
    },
    {
     "name": "stderr",
     "output_type": "stream",
     "text": [
      "\r",
      " 27%|█████████████████████▋                                                         | 677/2470 [00:33<01:24, 21.29it/s]"
     ]
    },
    {
     "name": "stdout",
     "output_type": "stream",
     "text": [
      "이미지가 다운로드되었습니다.\n",
      "이미지가 다운로드되었습니다.\n",
      "이미지가 다운로드되었습니다.\n",
      "이미지가 다운로드되었습니다.\n"
     ]
    },
    {
     "name": "stderr",
     "output_type": "stream",
     "text": [
      " 28%|█████████████████████▊                                                         | 683/2470 [00:34<01:28, 20.10it/s]"
     ]
    },
    {
     "name": "stdout",
     "output_type": "stream",
     "text": [
      "이미지가 다운로드되었습니다.\n",
      "이미지가 다운로드되었습니다.\n",
      "이미지가 다운로드되었습니다.\n",
      "이미지가 다운로드되었습니다.\n",
      "이미지가 다운로드되었습니다.\n"
     ]
    },
    {
     "name": "stderr",
     "output_type": "stream",
     "text": [
      "\r",
      " 28%|█████████████████████▉                                                         | 686/2470 [00:34<01:24, 21.17it/s]"
     ]
    },
    {
     "name": "stdout",
     "output_type": "stream",
     "text": [
      "이미지가 다운로드되었습니다.\n",
      "이미지가 다운로드되었습니다.\n",
      "이미지가 다운로드되었습니다.\n",
      "이미지가 다운로드되었습니다.\n"
     ]
    },
    {
     "name": "stderr",
     "output_type": "stream",
     "text": [
      " 28%|██████████████████████▏                                                        | 692/2470 [00:34<01:23, 21.38it/s]"
     ]
    },
    {
     "name": "stdout",
     "output_type": "stream",
     "text": [
      "이미지가 다운로드되었습니다.\n",
      "이미지가 다운로드되었습니다.\n",
      "이미지가 다운로드되었습니다.\n",
      "이미지가 다운로드되었습니다.\n",
      "이미지가 다운로드되었습니다.\n"
     ]
    },
    {
     "name": "stderr",
     "output_type": "stream",
     "text": [
      "\r",
      " 28%|██████████████████████▏                                                        | 695/2470 [00:34<01:26, 20.42it/s]"
     ]
    },
    {
     "name": "stdout",
     "output_type": "stream",
     "text": [
      "이미지가 다운로드되었습니다.\n",
      "이미지가 다운로드되었습니다.\n",
      "이미지가 다운로드되었습니다.\n",
      "이미지가 다운로드되었습니다.\n",
      "이미지가 다운로드되었습니다.\n"
     ]
    },
    {
     "name": "stderr",
     "output_type": "stream",
     "text": [
      " 28%|██████████████████████▍                                                        | 701/2470 [00:35<01:23, 21.06it/s]"
     ]
    },
    {
     "name": "stdout",
     "output_type": "stream",
     "text": [
      "이미지가 다운로드되었습니다.\n",
      "이미지가 다운로드되었습니다.\n",
      "이미지가 다운로드되었습니다.\n",
      "이미지가 다운로드되었습니다.\n",
      "이미지가 다운로드되었습니다.\n"
     ]
    },
    {
     "name": "stderr",
     "output_type": "stream",
     "text": [
      " 29%|██████████████████████▌                                                        | 707/2470 [00:35<01:23, 21.18it/s]"
     ]
    },
    {
     "name": "stdout",
     "output_type": "stream",
     "text": [
      "이미지가 다운로드되었습니다.\n",
      "이미지가 다운로드되었습니다.\n",
      "이미지가 다운로드되었습니다.\n",
      "이미지가 다운로드되었습니다.\n",
      "이미지가 다운로드되었습니다.\n"
     ]
    },
    {
     "name": "stderr",
     "output_type": "stream",
     "text": [
      "\r",
      " 29%|██████████████████████▋                                                        | 710/2470 [00:35<01:25, 20.61it/s]"
     ]
    },
    {
     "name": "stdout",
     "output_type": "stream",
     "text": [
      "이미지가 다운로드되었습니다.\n",
      "이미지가 다운로드되었습니다.\n",
      "이미지가 다운로드되었습니다.\n",
      "이미지가 다운로드되었습니다.\n"
     ]
    },
    {
     "name": "stderr",
     "output_type": "stream",
     "text": [
      "\r",
      " 29%|██████████████████████▊                                                        | 713/2470 [00:35<01:27, 20.13it/s]"
     ]
    },
    {
     "name": "stdout",
     "output_type": "stream",
     "text": [
      "이미지가 다운로드되었습니다.\n",
      "이미지가 다운로드되었습니다.\n",
      "이미지가 다운로드되었습니다.\n",
      "이미지가 다운로드되었습니다.\n"
     ]
    },
    {
     "name": "stderr",
     "output_type": "stream",
     "text": [
      " 29%|██████████████████████▉                                                        | 719/2470 [00:35<01:29, 19.65it/s]"
     ]
    },
    {
     "name": "stdout",
     "output_type": "stream",
     "text": [
      "이미지가 다운로드되었습니다.\n",
      "이미지가 다운로드되었습니다.\n",
      "이미지가 다운로드되었습니다.\n",
      "이미지가 다운로드되었습니다.\n",
      "이미지가 다운로드되었습니다.\n"
     ]
    },
    {
     "name": "stderr",
     "output_type": "stream",
     "text": [
      " 29%|███████████████████████▏                                                       | 724/2470 [00:36<01:25, 20.32it/s]"
     ]
    },
    {
     "name": "stdout",
     "output_type": "stream",
     "text": [
      "이미지가 다운로드되었습니다.\n",
      "이미지가 다운로드되었습니다.\n",
      "이미지가 다운로드되었습니다.\n",
      "이미지가 다운로드되었습니다.\n",
      "이미지가 다운로드되었습니다.\n"
     ]
    },
    {
     "name": "stderr",
     "output_type": "stream",
     "text": [
      " 30%|███████████████████████▎                                                       | 730/2470 [00:36<01:24, 20.61it/s]"
     ]
    },
    {
     "name": "stdout",
     "output_type": "stream",
     "text": [
      "이미지가 다운로드되었습니다.\n",
      "이미지가 다운로드되었습니다.\n",
      "이미지가 다운로드되었습니다.\n",
      "이미지가 다운로드되었습니다.\n",
      "이미지가 다운로드되었습니다.\n"
     ]
    },
    {
     "name": "stderr",
     "output_type": "stream",
     "text": [
      "\r",
      " 30%|███████████████████████▍                                                       | 733/2470 [00:36<01:22, 21.18it/s]"
     ]
    },
    {
     "name": "stdout",
     "output_type": "stream",
     "text": [
      "이미지가 다운로드되었습니다.\n",
      "이미지가 다운로드되었습니다.\n",
      "이미지가 다운로드되었습니다.\n",
      "이미지가 다운로드되었습니다.\n",
      "이미지가 다운로드되었습니다.\n"
     ]
    },
    {
     "name": "stderr",
     "output_type": "stream",
     "text": [
      " 30%|███████████████████████▋                                                       | 739/2470 [00:36<01:23, 20.79it/s]"
     ]
    },
    {
     "name": "stdout",
     "output_type": "stream",
     "text": [
      "이미지가 다운로드되었습니다.\n",
      "이미지가 다운로드되었습니다.\n",
      "이미지가 다운로드되었습니다.\n",
      "이미지가 다운로드되었습니다.\n",
      "이미지가 다운로드되었습니다.\n"
     ]
    },
    {
     "name": "stderr",
     "output_type": "stream",
     "text": [
      "\r",
      " 30%|███████████████████████▋                                                       | 742/2470 [00:37<01:22, 20.89it/s]"
     ]
    },
    {
     "name": "stdout",
     "output_type": "stream",
     "text": [
      "이미지가 다운로드되었습니다.\n",
      "이미지가 다운로드되었습니다.\n",
      "이미지가 다운로드되었습니다.\n",
      "이미지가 다운로드되었습니다.\n"
     ]
    },
    {
     "name": "stderr",
     "output_type": "stream",
     "text": [
      " 30%|███████████████████████▉                                                       | 748/2470 [00:37<01:25, 20.03it/s]"
     ]
    },
    {
     "name": "stdout",
     "output_type": "stream",
     "text": [
      "이미지가 다운로드되었습니다.\n",
      "이미지가 다운로드되었습니다.\n",
      "이미지가 다운로드되었습니다.\n",
      "이미지가 다운로드되었습니다.\n",
      "이미지가 다운로드되었습니다.\n"
     ]
    },
    {
     "name": "stderr",
     "output_type": "stream",
     "text": [
      " 31%|████████████████████████                                                       | 754/2470 [00:37<01:23, 20.58it/s]"
     ]
    },
    {
     "name": "stdout",
     "output_type": "stream",
     "text": [
      "이미지가 다운로드되었습니다.\n",
      "이미지가 다운로드되었습니다.\n",
      "이미지가 다운로드되었습니다.\n",
      "이미지가 다운로드되었습니다.\n",
      "이미지가 다운로드되었습니다.\n"
     ]
    },
    {
     "name": "stderr",
     "output_type": "stream",
     "text": [
      "\r",
      " 31%|████████████████████████▏                                                      | 757/2470 [00:37<01:24, 20.37it/s]"
     ]
    },
    {
     "name": "stdout",
     "output_type": "stream",
     "text": [
      "이미지가 다운로드되었습니다.\n",
      "이미지가 다운로드되었습니다.\n",
      "이미지가 다운로드되었습니다.\n",
      "이미지가 다운로드되었습니다.\n"
     ]
    },
    {
     "name": "stderr",
     "output_type": "stream",
     "text": [
      " 31%|████████████████████████▎                                                      | 762/2470 [00:38<01:31, 18.72it/s]"
     ]
    },
    {
     "name": "stdout",
     "output_type": "stream",
     "text": [
      "이미지가 다운로드되었습니다.\n",
      "이미지가 다운로드되었습니다.\n",
      "이미지가 다운로드되었습니다.\n",
      "이미지가 다운로드되었습니다.\n"
     ]
    },
    {
     "name": "stderr",
     "output_type": "stream",
     "text": [
      " 31%|████████████████████████▍                                                      | 766/2470 [00:38<01:31, 18.69it/s]"
     ]
    },
    {
     "name": "stdout",
     "output_type": "stream",
     "text": [
      "이미지가 다운로드되었습니다.\n",
      "이미지가 다운로드되었습니다.\n",
      "이미지가 다운로드되었습니다.\n",
      "이미지가 다운로드되었습니다.\n",
      "이미지가 다운로드되었습니다.\n"
     ]
    },
    {
     "name": "stderr",
     "output_type": "stream",
     "text": [
      " 31%|████████████████████████▋                                                      | 771/2470 [00:38<01:28, 19.18it/s]"
     ]
    },
    {
     "name": "stdout",
     "output_type": "stream",
     "text": [
      "이미지가 다운로드되었습니다.\n",
      "이미지가 다운로드되었습니다.\n",
      "이미지가 다운로드되었습니다.\n",
      "이미지가 다운로드되었습니다.\n"
     ]
    },
    {
     "name": "stderr",
     "output_type": "stream",
     "text": [
      " 31%|████████████████████████▊                                                      | 775/2470 [00:38<01:29, 19.02it/s]"
     ]
    },
    {
     "name": "stdout",
     "output_type": "stream",
     "text": [
      "이미지가 다운로드되었습니다.\n",
      "이미지가 다운로드되었습니다.\n",
      "이미지가 다운로드되었습니다.\n",
      "이미지가 다운로드되었습니다.\n",
      "이미지가 다운로드되었습니다.\n"
     ]
    },
    {
     "name": "stderr",
     "output_type": "stream",
     "text": [
      " 32%|████████████████████████▉                                                      | 780/2470 [00:39<01:27, 19.33it/s]"
     ]
    },
    {
     "name": "stdout",
     "output_type": "stream",
     "text": [
      "이미지가 다운로드되었습니다.\n",
      "이미지가 다운로드되었습니다.\n",
      "이미지가 다운로드되었습니다.\n",
      "이미지가 다운로드되었습니다.\n",
      "이미지가 다운로드되었습니다.\n"
     ]
    },
    {
     "name": "stderr",
     "output_type": "stream",
     "text": [
      " 32%|█████████████████████████                                                      | 784/2470 [00:39<01:28, 19.00it/s]"
     ]
    },
    {
     "name": "stdout",
     "output_type": "stream",
     "text": [
      "이미지가 다운로드되었습니다.\n",
      "이미지가 다운로드되었습니다.\n",
      "이미지가 다운로드되었습니다.\n",
      "이미지가 다운로드되었습니다.\n",
      "이미지가 다운로드되었습니다.\n"
     ]
    },
    {
     "name": "stderr",
     "output_type": "stream",
     "text": [
      " 32%|█████████████████████████▎                                                     | 790/2470 [00:39<01:27, 19.23it/s]"
     ]
    },
    {
     "name": "stdout",
     "output_type": "stream",
     "text": [
      "이미지가 다운로드되었습니다.\n",
      "이미지가 다운로드되었습니다.\n",
      "이미지가 다운로드되었습니다.\n",
      "이미지가 다운로드되었습니다.\n"
     ]
    },
    {
     "name": "stderr",
     "output_type": "stream",
     "text": [
      " 32%|█████████████████████████▍                                                     | 795/2470 [00:39<01:26, 19.40it/s]"
     ]
    },
    {
     "name": "stdout",
     "output_type": "stream",
     "text": [
      "이미지가 다운로드되었습니다.\n",
      "이미지가 다운로드되었습니다.\n",
      "이미지가 다운로드되었습니다.\n",
      "이미지가 다운로드되었습니다.\n",
      "이미지가 다운로드되었습니다.\n"
     ]
    },
    {
     "name": "stderr",
     "output_type": "stream",
     "text": [
      "\r",
      " 32%|█████████████████████████▌                                                     | 798/2470 [00:39<01:23, 20.03it/s]"
     ]
    },
    {
     "name": "stdout",
     "output_type": "stream",
     "text": [
      "이미지가 다운로드되었습니다.\n",
      "이미지가 다운로드되었습니다.\n",
      "이미지가 다운로드되었습니다.\n",
      "이미지가 다운로드되었습니다.\n",
      "이미지가 다운로드되었습니다.\n"
     ]
    },
    {
     "name": "stderr",
     "output_type": "stream",
     "text": [
      " 33%|█████████████████████████▋                                                     | 804/2470 [00:40<01:21, 20.35it/s]"
     ]
    },
    {
     "name": "stdout",
     "output_type": "stream",
     "text": [
      "이미지가 다운로드되었습니다.\n",
      "이미지가 다운로드되었습니다.\n",
      "이미지가 다운로드되었습니다.\n",
      "이미지가 다운로드되었습니다.\n",
      "이미지가 다운로드되었습니다.\n"
     ]
    },
    {
     "name": "stderr",
     "output_type": "stream",
     "text": [
      " 33%|█████████████████████████▉                                                     | 810/2470 [00:40<01:18, 21.15it/s]"
     ]
    },
    {
     "name": "stdout",
     "output_type": "stream",
     "text": [
      "이미지가 다운로드되었습니다.\n",
      "이미지가 다운로드되었습니다.\n",
      "이미지가 다운로드되었습니다.\n",
      "이미지가 다운로드되었습니다.\n",
      "이미지가 다운로드되었습니다.\n"
     ]
    },
    {
     "name": "stderr",
     "output_type": "stream",
     "text": [
      "\r",
      " 33%|██████████████████████████                                                     | 813/2470 [00:40<01:20, 20.62it/s]"
     ]
    },
    {
     "name": "stdout",
     "output_type": "stream",
     "text": [
      "이미지가 다운로드되었습니다.\n",
      "이미지가 다운로드되었습니다.\n",
      "이미지가 다운로드되었습니다.\n",
      "이미지가 다운로드되었습니다.\n",
      "이미지가 다운로드되었습니다.\n"
     ]
    },
    {
     "name": "stderr",
     "output_type": "stream",
     "text": [
      " 33%|██████████████████████████▏                                                    | 819/2470 [00:40<01:20, 20.41it/s]"
     ]
    },
    {
     "name": "stdout",
     "output_type": "stream",
     "text": [
      "이미지가 다운로드되었습니다.\n",
      "이미지가 다운로드되었습니다.\n",
      "이미지가 다운로드되었습니다.\n",
      "이미지가 다운로드되었습니다.\n",
      "이미지가 다운로드되었습니다.\n"
     ]
    },
    {
     "name": "stderr",
     "output_type": "stream",
     "text": [
      "\r",
      " 33%|██████████████████████████▎                                                    | 822/2470 [00:41<01:19, 20.61it/s]"
     ]
    },
    {
     "name": "stdout",
     "output_type": "stream",
     "text": [
      "이미지가 다운로드되었습니다.\n",
      "이미지가 다운로드되었습니다.\n",
      "이미지가 다운로드되었습니다.\n",
      "이미지가 다운로드되었습니다.\n"
     ]
    },
    {
     "name": "stderr",
     "output_type": "stream",
     "text": [
      " 34%|██████████████████████████▍                                                    | 828/2470 [00:41<01:22, 19.86it/s]"
     ]
    },
    {
     "name": "stdout",
     "output_type": "stream",
     "text": [
      "이미지가 다운로드되었습니다.\n",
      "이미지가 다운로드되었습니다.\n",
      "이미지가 다운로드되었습니다.\n",
      "이미지가 다운로드되었습니다.\n",
      "이미지가 다운로드되었습니다.\n"
     ]
    },
    {
     "name": "stderr",
     "output_type": "stream",
     "text": [
      " 34%|██████████████████████████▋                                                    | 833/2470 [00:41<01:22, 19.94it/s]"
     ]
    },
    {
     "name": "stdout",
     "output_type": "stream",
     "text": [
      "이미지가 다운로드되었습니다.\n",
      "이미지가 다운로드되었습니다.\n",
      "이미지가 다운로드되었습니다.\n",
      "이미지가 다운로드되었습니다.\n",
      "이미지가 다운로드되었습니다.\n"
     ]
    },
    {
     "name": "stderr",
     "output_type": "stream",
     "text": [
      " 34%|██████████████████████████▊                                                    | 839/2470 [00:41<01:16, 21.35it/s]"
     ]
    },
    {
     "name": "stdout",
     "output_type": "stream",
     "text": [
      "이미지가 다운로드되었습니다.\n",
      "이미지가 다운로드되었습니다.\n",
      "이미지가 다운로드되었습니다.\n",
      "이미지가 다운로드되었습니다.\n",
      "이미지가 다운로드되었습니다.\n"
     ]
    },
    {
     "name": "stderr",
     "output_type": "stream",
     "text": [
      "\r",
      " 34%|██████████████████████████▉                                                    | 842/2470 [00:42<01:17, 20.91it/s]"
     ]
    },
    {
     "name": "stdout",
     "output_type": "stream",
     "text": [
      "이미지가 다운로드되었습니다.\n",
      "이미지가 다운로드되었습니다.\n",
      "이미지가 다운로드되었습니다.\n",
      "이미지가 다운로드되었습니다.\n",
      "이미지가 다운로드되었습니다.\n"
     ]
    },
    {
     "name": "stderr",
     "output_type": "stream",
     "text": [
      " 34%|███████████████████████████                                                    | 848/2470 [00:42<01:16, 21.19it/s]"
     ]
    },
    {
     "name": "stdout",
     "output_type": "stream",
     "text": [
      "이미지가 다운로드되었습니다.\n",
      "이미지가 다운로드되었습니다.\n",
      "이미지가 다운로드되었습니다.\n",
      "이미지가 다운로드되었습니다.\n",
      "이미지가 다운로드되었습니다.\n"
     ]
    },
    {
     "name": "stderr",
     "output_type": "stream",
     "text": [
      "\r",
      " 34%|███████████████████████████▏                                                   | 851/2470 [00:42<01:14, 21.60it/s]"
     ]
    },
    {
     "name": "stdout",
     "output_type": "stream",
     "text": [
      "이미지가 다운로드되었습니다.\n",
      "이미지가 다운로드되었습니다.\n",
      "이미지가 다운로드되었습니다.\n",
      "이미지가 다운로드되었습니다.\n"
     ]
    },
    {
     "name": "stderr",
     "output_type": "stream",
     "text": [
      " 35%|███████████████████████████▍                                                   | 857/2470 [00:42<01:17, 20.72it/s]"
     ]
    },
    {
     "name": "stdout",
     "output_type": "stream",
     "text": [
      "이미지가 다운로드되었습니다.\n",
      "이미지가 다운로드되었습니다.\n",
      "이미지가 다운로드되었습니다.\n",
      "이미지가 다운로드되었습니다.\n",
      "이미지가 다운로드되었습니다.\n"
     ]
    },
    {
     "name": "stderr",
     "output_type": "stream",
     "text": [
      "\r",
      " 35%|███████████████████████████▌                                                   | 860/2470 [00:42<01:18, 20.64it/s]"
     ]
    },
    {
     "name": "stdout",
     "output_type": "stream",
     "text": [
      "이미지가 다운로드되었습니다.\n",
      "이미지가 다운로드되었습니다.\n",
      "이미지가 다운로드되었습니다.\n",
      "이미지가 다운로드되었습니다.\n"
     ]
    },
    {
     "name": "stderr",
     "output_type": "stream",
     "text": [
      " 35%|███████████████████████████▋                                                   | 867/2470 [00:43<01:21, 19.59it/s]"
     ]
    },
    {
     "name": "stdout",
     "output_type": "stream",
     "text": [
      "이미지가 다운로드되었습니다.\n",
      "이미지가 다운로드되었습니다.\n",
      "이미지가 다운로드되었습니다.\n",
      "이미지가 다운로드되었습니다.\n",
      "이미지가 다운로드되었습니다.\n"
     ]
    },
    {
     "name": "stderr",
     "output_type": "stream",
     "text": [
      "\r",
      " 35%|███████████████████████████▊                                                   | 870/2470 [00:43<01:16, 20.96it/s]"
     ]
    },
    {
     "name": "stdout",
     "output_type": "stream",
     "text": [
      "이미지가 다운로드되었습니다.\n",
      "이미지가 다운로드되었습니다.\n",
      "이미지가 다운로드되었습니다.\n",
      "이미지가 다운로드되었습니다.\n",
      "이미지가 다운로드되었습니다.\n"
     ]
    },
    {
     "name": "stderr",
     "output_type": "stream",
     "text": [
      " 35%|████████████████████████████                                                   | 876/2470 [00:43<01:17, 20.65it/s]"
     ]
    },
    {
     "name": "stdout",
     "output_type": "stream",
     "text": [
      "이미지가 다운로드되었습니다.\n",
      "이미지가 다운로드되었습니다.\n",
      "이미지가 다운로드되었습니다.\n",
      "이미지가 다운로드되었습니다.\n",
      "이미지가 다운로드되었습니다.\n"
     ]
    },
    {
     "name": "stderr",
     "output_type": "stream",
     "text": [
      "\r",
      " 36%|████████████████████████████                                                   | 879/2470 [00:43<01:17, 20.65it/s]"
     ]
    },
    {
     "name": "stdout",
     "output_type": "stream",
     "text": [
      "이미지가 다운로드되었습니다.\n",
      "이미지가 다운로드되었습니다.\n",
      "이미지가 다운로드되었습니다.\n",
      "이미지가 다운로드되었습니다.\n"
     ]
    },
    {
     "name": "stderr",
     "output_type": "stream",
     "text": [
      " 36%|████████████████████████████▎                                                  | 885/2470 [00:44<01:14, 21.30it/s]"
     ]
    },
    {
     "name": "stdout",
     "output_type": "stream",
     "text": [
      "이미지가 다운로드되었습니다.\n",
      "이미지가 다운로드되었습니다.\n",
      "이미지가 다운로드되었습니다.\n",
      "이미지가 다운로드되었습니다.\n",
      "이미지가 다운로드되었습니다.\n"
     ]
    },
    {
     "name": "stderr",
     "output_type": "stream",
     "text": [
      " 36%|████████████████████████████▍                                                  | 891/2470 [00:44<01:14, 21.27it/s]"
     ]
    },
    {
     "name": "stdout",
     "output_type": "stream",
     "text": [
      "이미지가 다운로드되었습니다.\n",
      "이미지가 다운로드되었습니다.\n",
      "이미지가 다운로드되었습니다.\n",
      "이미지가 다운로드되었습니다.\n",
      "이미지가 다운로드되었습니다.\n"
     ]
    },
    {
     "name": "stderr",
     "output_type": "stream",
     "text": [
      "\r",
      " 36%|████████████████████████████▌                                                  | 894/2470 [00:44<01:15, 20.86it/s]"
     ]
    },
    {
     "name": "stdout",
     "output_type": "stream",
     "text": [
      "이미지가 다운로드되었습니다.\n",
      "이미지가 다운로드되었습니다.\n",
      "이미지가 다운로드되었습니다.\n",
      "이미지가 다운로드되었습니다.\n",
      "이미지가 다운로드되었습니다.\n"
     ]
    },
    {
     "name": "stderr",
     "output_type": "stream",
     "text": [
      " 36%|████████████████████████████▊                                                  | 900/2470 [00:44<01:13, 21.30it/s]"
     ]
    },
    {
     "name": "stdout",
     "output_type": "stream",
     "text": [
      "이미지가 다운로드되었습니다.\n",
      "이미지가 다운로드되었습니다.\n",
      "이미지가 다운로드되었습니다.\n",
      "이미지가 다운로드되었습니다.\n",
      "이미지가 다운로드되었습니다.\n"
     ]
    },
    {
     "name": "stderr",
     "output_type": "stream",
     "text": [
      "\r",
      " 37%|████████████████████████████▉                                                  | 903/2470 [00:44<01:12, 21.68it/s]"
     ]
    },
    {
     "name": "stdout",
     "output_type": "stream",
     "text": [
      "이미지가 다운로드되었습니다.\n",
      "이미지가 다운로드되었습니다.\n",
      "이미지가 다운로드되었습니다.\n",
      "이미지가 다운로드되었습니다.\n"
     ]
    },
    {
     "name": "stderr",
     "output_type": "stream",
     "text": [
      " 37%|█████████████████████████████                                                  | 909/2470 [00:45<01:15, 20.75it/s]"
     ]
    },
    {
     "name": "stdout",
     "output_type": "stream",
     "text": [
      "이미지가 다운로드되었습니다.\n",
      "이미지가 다운로드되었습니다.\n",
      "이미지가 다운로드되었습니다.\n",
      "이미지가 다운로드되었습니다.\n",
      "이미지가 다운로드되었습니다.\n"
     ]
    },
    {
     "name": "stderr",
     "output_type": "stream",
     "text": [
      " 37%|█████████████████████████████▎                                                 | 915/2470 [00:45<01:14, 20.89it/s]"
     ]
    },
    {
     "name": "stdout",
     "output_type": "stream",
     "text": [
      "이미지가 다운로드되었습니다.\n",
      "이미지가 다운로드되었습니다.\n",
      "이미지가 다운로드되었습니다.\n",
      "이미지가 다운로드되었습니다.\n",
      "이미지가 다운로드되었습니다.\n"
     ]
    },
    {
     "name": "stderr",
     "output_type": "stream",
     "text": [
      "\r",
      " 37%|█████████████████████████████▎                                                 | 918/2470 [00:45<01:17, 20.00it/s]"
     ]
    },
    {
     "name": "stdout",
     "output_type": "stream",
     "text": [
      "이미지가 다운로드되었습니다.\n",
      "이미지가 다운로드되었습니다.\n",
      "이미지가 다운로드되었습니다.\n",
      "이미지가 다운로드되었습니다.\n"
     ]
    },
    {
     "name": "stderr",
     "output_type": "stream",
     "text": [
      " 37%|█████████████████████████████▌                                                 | 924/2470 [00:46<01:15, 20.56it/s]"
     ]
    },
    {
     "name": "stdout",
     "output_type": "stream",
     "text": [
      "이미지가 다운로드되었습니다.\n",
      "이미지가 다운로드되었습니다.\n",
      "이미지가 다운로드되었습니다.\n",
      "이미지가 다운로드되었습니다.\n",
      "이미지가 다운로드되었습니다.\n"
     ]
    },
    {
     "name": "stderr",
     "output_type": "stream",
     "text": [
      "\r",
      " 38%|█████████████████████████████▋                                                 | 927/2470 [00:46<01:18, 19.62it/s]"
     ]
    },
    {
     "name": "stdout",
     "output_type": "stream",
     "text": [
      "이미지가 다운로드되었습니다.\n",
      "이미지가 다운로드되었습니다.\n",
      "이미지가 다운로드되었습니다.\n",
      "이미지가 다운로드되었습니다.\n"
     ]
    },
    {
     "name": "stderr",
     "output_type": "stream",
     "text": [
      " 38%|█████████████████████████████▊                                                 | 932/2470 [00:46<01:17, 19.77it/s]"
     ]
    },
    {
     "name": "stdout",
     "output_type": "stream",
     "text": [
      "이미지가 다운로드되었습니다.\n",
      "이미지가 다운로드되었습니다.\n",
      "이미지가 다운로드되었습니다.\n",
      "이미지가 다운로드되었습니다.\n"
     ]
    },
    {
     "name": "stderr",
     "output_type": "stream",
     "text": [
      "\r",
      " 38%|█████████████████████████████▊                                                 | 934/2470 [00:46<01:23, 18.32it/s]"
     ]
    },
    {
     "name": "stdout",
     "output_type": "stream",
     "text": [
      "이미지가 다운로드되었습니다.\n",
      "이미지가 다운로드되었습니다.\n",
      "이미지가 다운로드되었습니다.\n",
      "이미지가 다운로드되었습니다.\n"
     ]
    },
    {
     "name": "stderr",
     "output_type": "stream",
     "text": [
      " 38%|██████████████████████████████                                                 | 939/2470 [00:46<01:28, 17.25it/s]"
     ]
    },
    {
     "name": "stdout",
     "output_type": "stream",
     "text": [
      "이미지가 다운로드되었습니다.\n",
      "이미지가 다운로드되었습니다.\n",
      "이미지가 다운로드되었습니다.\n",
      "이미지가 다운로드되었습니다.\n",
      "이미지가 다운로드되었습니다.\n"
     ]
    },
    {
     "name": "stderr",
     "output_type": "stream",
     "text": [
      " 38%|██████████████████████████████▏                                                | 945/2470 [00:47<01:16, 19.82it/s]"
     ]
    },
    {
     "name": "stdout",
     "output_type": "stream",
     "text": [
      "이미지가 다운로드되었습니다.\n",
      "이미지가 다운로드되었습니다.\n",
      "이미지가 다운로드되었습니다.\n",
      "이미지가 다운로드되었습니다.\n"
     ]
    },
    {
     "name": "stderr",
     "output_type": "stream",
     "text": [
      "\r",
      " 38%|██████████████████████████████▎                                                | 948/2470 [00:47<01:22, 18.39it/s]"
     ]
    },
    {
     "name": "stdout",
     "output_type": "stream",
     "text": [
      "이미지가 다운로드되었습니다.\n",
      "이미지가 다운로드되었습니다.\n",
      "이미지가 다운로드되었습니다.\n",
      "이미지가 다운로드되었습니다.\n",
      "이미지가 다운로드되었습니다.\n"
     ]
    },
    {
     "name": "stderr",
     "output_type": "stream",
     "text": [
      " 39%|██████████████████████████████▌                                                | 954/2470 [00:47<01:12, 21.01it/s]"
     ]
    },
    {
     "name": "stdout",
     "output_type": "stream",
     "text": [
      "이미지가 다운로드되었습니다.\n",
      "이미지가 다운로드되었습니다.\n",
      "이미지가 다운로드되었습니다.\n",
      "이미지가 다운로드되었습니다.\n",
      "이미지가 다운로드되었습니다.\n"
     ]
    },
    {
     "name": "stderr",
     "output_type": "stream",
     "text": [
      " 39%|██████████████████████████████▋                                                | 960/2470 [00:47<01:11, 21.11it/s]"
     ]
    },
    {
     "name": "stdout",
     "output_type": "stream",
     "text": [
      "이미지가 다운로드되었습니다.\n",
      "이미지가 다운로드되었습니다.\n",
      "이미지가 다운로드되었습니다.\n",
      "이미지가 다운로드되었습니다.\n",
      "이미지가 다운로드되었습니다.\n",
      "이미지가 다운로드되었습니다.\n"
     ]
    },
    {
     "name": "stderr",
     "output_type": "stream",
     "text": [
      " 39%|██████████████████████████████▉                                                | 966/2470 [00:48<02:05, 12.01it/s]"
     ]
    },
    {
     "name": "stdout",
     "output_type": "stream",
     "text": [
      "이미지가 다운로드되었습니다.\n",
      "이미지가 다운로드되었습니다.\n",
      "이미지가 다운로드되었습니다.\n",
      "이미지가 다운로드되었습니다.\n",
      "이미지가 다운로드되었습니다.\n"
     ]
    },
    {
     "name": "stderr",
     "output_type": "stream",
     "text": [
      "\r",
      " 39%|██████████████████████████████▉                                                | 969/2470 [00:48<01:48, 13.84it/s]"
     ]
    },
    {
     "name": "stdout",
     "output_type": "stream",
     "text": [
      "이미지가 다운로드되었습니다.\n",
      "이미지가 다운로드되었습니다.\n",
      "이미지가 다운로드되었습니다.\n",
      "이미지가 다운로드되었습니다.\n",
      "이미지가 다운로드되었습니다.\n"
     ]
    },
    {
     "name": "stderr",
     "output_type": "stream",
     "text": [
      " 39%|███████████████████████████████▏                                               | 974/2470 [00:49<01:32, 16.16it/s]"
     ]
    },
    {
     "name": "stdout",
     "output_type": "stream",
     "text": [
      "이미지가 다운로드되었습니다.\n",
      "이미지가 다운로드되었습니다.\n",
      "이미지가 다운로드되었습니다.\n",
      "이미지가 다운로드되었습니다.\n"
     ]
    },
    {
     "name": "stderr",
     "output_type": "stream",
     "text": [
      " 40%|███████████████████████████████▎                                               | 979/2470 [00:49<01:22, 17.98it/s]"
     ]
    },
    {
     "name": "stdout",
     "output_type": "stream",
     "text": [
      "이미지가 다운로드되었습니다.\n",
      "이미지가 다운로드되었습니다.\n",
      "이미지가 다운로드되었습니다.\n",
      "이미지가 다운로드되었습니다.\n",
      "이미지가 다운로드되었습니다.\n"
     ]
    },
    {
     "name": "stderr",
     "output_type": "stream",
     "text": [
      " 40%|███████████████████████████████▌                                               | 985/2470 [00:49<01:15, 19.76it/s]"
     ]
    },
    {
     "name": "stdout",
     "output_type": "stream",
     "text": [
      "이미지가 다운로드되었습니다.\n",
      "이미지가 다운로드되었습니다.\n",
      "이미지가 다운로드되었습니다.\n",
      "이미지가 다운로드되었습니다.\n",
      "이미지가 다운로드되었습니다.\n"
     ]
    },
    {
     "name": "stderr",
     "output_type": "stream",
     "text": [
      "\r",
      " 40%|███████████████████████████████▌                                               | 988/2470 [00:49<01:13, 20.24it/s]"
     ]
    },
    {
     "name": "stdout",
     "output_type": "stream",
     "text": [
      "이미지가 다운로드되었습니다.\n",
      "이미지가 다운로드되었습니다.\n",
      "이미지가 다운로드되었습니다.\n",
      "이미지가 다운로드되었습니다.\n",
      "이미지가 다운로드되었습니다.\n"
     ]
    },
    {
     "name": "stderr",
     "output_type": "stream",
     "text": [
      " 40%|███████████████████████████████▊                                               | 994/2470 [00:50<01:10, 21.00it/s]"
     ]
    },
    {
     "name": "stdout",
     "output_type": "stream",
     "text": [
      "이미지가 다운로드되었습니다.\n",
      "이미지가 다운로드되었습니다.\n",
      "이미지가 다운로드되었습니다.\n",
      "이미지가 다운로드되었습니다.\n",
      "이미지가 다운로드되었습니다.\n"
     ]
    },
    {
     "name": "stderr",
     "output_type": "stream",
     "text": [
      "\r",
      " 40%|███████████████████████████████▉                                               | 997/2470 [00:50<01:10, 20.90it/s]"
     ]
    },
    {
     "name": "stdout",
     "output_type": "stream",
     "text": [
      "이미지가 다운로드되었습니다.\n",
      "이미지가 다운로드되었습니다.\n",
      "이미지가 다운로드되었습니다.\n",
      "이미지가 다운로드되었습니다.\n"
     ]
    },
    {
     "name": "stderr",
     "output_type": "stream",
     "text": [
      " 41%|███████████████████████████████▋                                              | 1003/2470 [00:50<01:11, 20.55it/s]"
     ]
    },
    {
     "name": "stdout",
     "output_type": "stream",
     "text": [
      "이미지가 다운로드되었습니다.\n",
      "이미지가 다운로드되었습니다.\n",
      "이미지가 다운로드되었습니다.\n",
      "이미지가 다운로드되었습니다.\n",
      "이미지가 다운로드되었습니다.\n"
     ]
    },
    {
     "name": "stderr",
     "output_type": "stream",
     "text": [
      " 41%|███████████████████████████████▊                                              | 1009/2470 [00:50<01:06, 21.85it/s]"
     ]
    },
    {
     "name": "stdout",
     "output_type": "stream",
     "text": [
      "이미지가 다운로드되었습니다.\n",
      "이미지가 다운로드되었습니다.\n",
      "이미지가 다운로드되었습니다.\n",
      "이미지가 다운로드되었습니다.\n",
      "이미지가 다운로드되었습니다.\n"
     ]
    },
    {
     "name": "stderr",
     "output_type": "stream",
     "text": [
      "\r",
      " 41%|███████████████████████████████▉                                              | 1012/2470 [00:50<01:08, 21.40it/s]"
     ]
    },
    {
     "name": "stdout",
     "output_type": "stream",
     "text": [
      "이미지가 다운로드되었습니다.\n",
      "이미지가 다운로드되었습니다.\n",
      "이미지가 다운로드되었습니다.\n",
      "이미지가 다운로드되었습니다.\n"
     ]
    },
    {
     "name": "stderr",
     "output_type": "stream",
     "text": [
      " 41%|████████████████████████████████▏                                             | 1018/2470 [00:51<01:06, 21.73it/s]"
     ]
    },
    {
     "name": "stdout",
     "output_type": "stream",
     "text": [
      "이미지가 다운로드되었습니다.\n",
      "이미지가 다운로드되었습니다.\n",
      "이미지가 다운로드되었습니다.\n",
      "이미지가 다운로드되었습니다.\n",
      "이미지가 다운로드되었습니다.\n"
     ]
    },
    {
     "name": "stderr",
     "output_type": "stream",
     "text": [
      "\r",
      " 41%|████████████████████████████████▏                                             | 1021/2470 [00:51<01:11, 20.36it/s]"
     ]
    },
    {
     "name": "stdout",
     "output_type": "stream",
     "text": [
      "이미지가 다운로드되었습니다.\n",
      "이미지가 다운로드되었습니다.\n",
      "이미지가 다운로드되었습니다.\n",
      "이미지가 다운로드되었습니다.\n"
     ]
    },
    {
     "name": "stderr",
     "output_type": "stream",
     "text": [
      " 42%|████████████████████████████████▍                                             | 1027/2470 [00:51<01:09, 20.69it/s]"
     ]
    },
    {
     "name": "stdout",
     "output_type": "stream",
     "text": [
      "이미지가 다운로드되었습니다.\n",
      "이미지가 다운로드되었습니다.\n",
      "이미지가 다운로드되었습니다.\n",
      "이미지가 다운로드되었습니다.\n",
      "이미지가 다운로드되었습니다.\n"
     ]
    },
    {
     "name": "stderr",
     "output_type": "stream",
     "text": [
      "\r",
      " 42%|████████████████████████████████▌                                             | 1030/2470 [00:51<01:11, 20.08it/s]"
     ]
    },
    {
     "name": "stdout",
     "output_type": "stream",
     "text": [
      "이미지가 다운로드되었습니다.\n",
      "이미지가 다운로드되었습니다.\n",
      "이미지가 다운로드되었습니다.\n",
      "이미지가 다운로드되었습니다.\n",
      "이미지가 다운로드되었습니다.\n"
     ]
    },
    {
     "name": "stderr",
     "output_type": "stream",
     "text": [
      " 42%|████████████████████████████████▋                                             | 1036/2470 [00:52<01:07, 21.26it/s]"
     ]
    },
    {
     "name": "stdout",
     "output_type": "stream",
     "text": [
      "이미지가 다운로드되었습니다.\n",
      "이미지가 다운로드되었습니다.\n",
      "이미지가 다운로드되었습니다.\n",
      "이미지가 다운로드되었습니다.\n",
      "이미지가 다운로드되었습니다.\n"
     ]
    },
    {
     "name": "stderr",
     "output_type": "stream",
     "text": [
      "\r",
      " 42%|████████████████████████████████▊                                             | 1039/2470 [00:52<01:10, 20.39it/s]"
     ]
    },
    {
     "name": "stdout",
     "output_type": "stream",
     "text": [
      "이미지가 다운로드되었습니다.\n",
      "이미지가 다운로드되었습니다.\n",
      "이미지가 다운로드되었습니다.\n",
      "이미지가 다운로드되었습니다.\n"
     ]
    },
    {
     "name": "stderr",
     "output_type": "stream",
     "text": [
      " 42%|█████████████████████████████████                                             | 1045/2470 [00:52<01:08, 20.73it/s]"
     ]
    },
    {
     "name": "stdout",
     "output_type": "stream",
     "text": [
      "이미지가 다운로드되었습니다.\n",
      "이미지가 다운로드되었습니다.\n",
      "이미지가 다운로드되었습니다.\n",
      "이미지가 다운로드되었습니다.\n",
      "이미지가 다운로드되었습니다.\n"
     ]
    },
    {
     "name": "stderr",
     "output_type": "stream",
     "text": [
      "\r",
      " 42%|█████████████████████████████████                                             | 1048/2470 [00:52<01:09, 20.54it/s]"
     ]
    },
    {
     "name": "stdout",
     "output_type": "stream",
     "text": [
      "이미지가 다운로드되었습니다.\n",
      "이미지가 다운로드되었습니다.\n",
      "이미지가 다운로드되었습니다.\n",
      "이미지가 다운로드되었습니다.\n"
     ]
    },
    {
     "name": "stderr",
     "output_type": "stream",
     "text": [
      " 43%|█████████████████████████████████▎                                            | 1054/2470 [00:52<01:07, 20.83it/s]"
     ]
    },
    {
     "name": "stdout",
     "output_type": "stream",
     "text": [
      "이미지가 다운로드되었습니다.\n",
      "이미지가 다운로드되었습니다.\n",
      "이미지가 다운로드되었습니다.\n",
      "이미지가 다운로드되었습니다.\n",
      "이미지가 다운로드되었습니다.\n"
     ]
    },
    {
     "name": "stderr",
     "output_type": "stream",
     "text": [
      " 43%|█████████████████████████████████▍                                            | 1060/2470 [00:53<01:06, 21.19it/s]"
     ]
    },
    {
     "name": "stdout",
     "output_type": "stream",
     "text": [
      "이미지가 다운로드되었습니다.\n",
      "이미지가 다운로드되었습니다.\n",
      "이미지가 다운로드되었습니다.\n",
      "이미지가 다운로드되었습니다.\n",
      "이미지가 다운로드되었습니다.\n"
     ]
    },
    {
     "name": "stderr",
     "output_type": "stream",
     "text": [
      "\r",
      " 43%|█████████████████████████████████▌                                            | 1063/2470 [00:53<01:08, 20.57it/s]"
     ]
    },
    {
     "name": "stdout",
     "output_type": "stream",
     "text": [
      "이미지가 다운로드되었습니다.\n",
      "이미지가 다운로드되었습니다.\n",
      "이미지가 다운로드되었습니다.\n",
      "이미지가 다운로드되었습니다.\n",
      "이미지가 다운로드되었습니다.\n"
     ]
    },
    {
     "name": "stderr",
     "output_type": "stream",
     "text": [
      " 43%|█████████████████████████████████▊                                            | 1069/2470 [00:53<01:05, 21.42it/s]"
     ]
    },
    {
     "name": "stdout",
     "output_type": "stream",
     "text": [
      "이미지가 다운로드되었습니다.\n",
      "이미지가 다운로드되었습니다.\n",
      "이미지가 다운로드되었습니다.\n",
      "이미지가 다운로드되었습니다.\n",
      "이미지가 다운로드되었습니다.\n"
     ]
    },
    {
     "name": "stderr",
     "output_type": "stream",
     "text": [
      " 44%|█████████████████████████████████▉                                            | 1075/2470 [00:53<01:03, 22.02it/s]"
     ]
    },
    {
     "name": "stdout",
     "output_type": "stream",
     "text": [
      "이미지가 다운로드되었습니다.\n",
      "이미지가 다운로드되었습니다.\n",
      "이미지가 다운로드되었습니다.\n",
      "이미지가 다운로드되었습니다.\n",
      "이미지가 다운로드되었습니다.\n"
     ]
    },
    {
     "name": "stderr",
     "output_type": "stream",
     "text": [
      "\r",
      " 44%|██████████████████████████████████                                            | 1078/2470 [00:54<01:04, 21.59it/s]"
     ]
    },
    {
     "name": "stdout",
     "output_type": "stream",
     "text": [
      "이미지가 다운로드되었습니다.\n",
      "이미지가 다운로드되었습니다.\n",
      "이미지가 다운로드되었습니다.\n",
      "이미지가 다운로드되었습니다.\n",
      "이미지가 다운로드되었습니다.\n"
     ]
    },
    {
     "name": "stderr",
     "output_type": "stream",
     "text": [
      " 44%|██████████████████████████████████▏                                           | 1084/2470 [00:54<01:01, 22.36it/s]"
     ]
    },
    {
     "name": "stdout",
     "output_type": "stream",
     "text": [
      "이미지가 다운로드되었습니다.\n",
      "이미지가 다운로드되었습니다.\n",
      "이미지가 다운로드되었습니다.\n",
      "이미지가 다운로드되었습니다.\n",
      "이미지가 다운로드되었습니다.\n",
      "이미지가 다운로드되었습니다.\n"
     ]
    },
    {
     "name": "stderr",
     "output_type": "stream",
     "text": [
      " 44%|██████████████████████████████████▍                                           | 1090/2470 [00:54<01:00, 22.98it/s]"
     ]
    },
    {
     "name": "stdout",
     "output_type": "stream",
     "text": [
      "이미지가 다운로드되었습니다.\n",
      "이미지가 다운로드되었습니다.\n",
      "이미지가 다운로드되었습니다.\n",
      "이미지가 다운로드되었습니다.\n",
      "이미지가 다운로드되었습니다.\n"
     ]
    },
    {
     "name": "stderr",
     "output_type": "stream",
     "text": [
      " 44%|██████████████████████████████████▌                                           | 1096/2470 [00:54<01:00, 22.66it/s]"
     ]
    },
    {
     "name": "stdout",
     "output_type": "stream",
     "text": [
      "이미지가 다운로드되었습니다.\n",
      "이미지가 다운로드되었습니다.\n",
      "이미지가 다운로드되었습니다.\n",
      "이미지가 다운로드되었습니다.\n",
      "이미지가 다운로드되었습니다.\n"
     ]
    },
    {
     "name": "stderr",
     "output_type": "stream",
     "text": [
      "\r",
      " 44%|██████████████████████████████████▋                                           | 1099/2470 [00:54<01:02, 21.96it/s]"
     ]
    },
    {
     "name": "stdout",
     "output_type": "stream",
     "text": [
      "이미지가 다운로드되었습니다.\n",
      "이미지가 다운로드되었습니다.\n",
      "이미지가 다운로드되었습니다.\n",
      "이미지가 다운로드되었습니다.\n",
      "이미지가 다운로드되었습니다.\n"
     ]
    },
    {
     "name": "stderr",
     "output_type": "stream",
     "text": [
      " 45%|██████████████████████████████████▉                                           | 1105/2470 [00:55<01:03, 21.36it/s]"
     ]
    },
    {
     "name": "stdout",
     "output_type": "stream",
     "text": [
      "이미지가 다운로드되었습니다.\n",
      "이미지가 다운로드되었습니다.\n",
      "이미지가 다운로드되었습니다.\n",
      "이미지가 다운로드되었습니다.\n",
      "이미지가 다운로드되었습니다.\n"
     ]
    },
    {
     "name": "stderr",
     "output_type": "stream",
     "text": [
      " 45%|███████████████████████████████████                                           | 1111/2470 [00:55<01:04, 21.01it/s]"
     ]
    },
    {
     "name": "stdout",
     "output_type": "stream",
     "text": [
      "이미지가 다운로드되었습니다.\n",
      "이미지가 다운로드되었습니다.\n",
      "이미지가 다운로드되었습니다.\n",
      "이미지가 다운로드되었습니다.\n",
      "이미지가 다운로드되었습니다.\n"
     ]
    },
    {
     "name": "stderr",
     "output_type": "stream",
     "text": [
      "\r",
      " 45%|███████████████████████████████████▏                                          | 1114/2470 [00:55<01:04, 21.09it/s]"
     ]
    },
    {
     "name": "stdout",
     "output_type": "stream",
     "text": [
      "이미지가 다운로드되었습니다.\n",
      "이미지가 다운로드되었습니다.\n",
      "이미지가 다운로드되었습니다.\n",
      "이미지가 다운로드되었습니다.\n",
      "이미지가 다운로드되었습니다.\n"
     ]
    },
    {
     "name": "stderr",
     "output_type": "stream",
     "text": [
      " 45%|███████████████████████████████████▎                                          | 1120/2470 [00:55<01:01, 21.96it/s]"
     ]
    },
    {
     "name": "stdout",
     "output_type": "stream",
     "text": [
      "이미지가 다운로드되었습니다.\n",
      "이미지가 다운로드되었습니다.\n",
      "이미지가 다운로드되었습니다.\n",
      "이미지가 다운로드되었습니다.\n",
      "이미지가 다운로드되었습니다.\n"
     ]
    },
    {
     "name": "stderr",
     "output_type": "stream",
     "text": [
      " 46%|███████████████████████████████████▌                                          | 1126/2470 [00:56<01:01, 21.89it/s]"
     ]
    },
    {
     "name": "stdout",
     "output_type": "stream",
     "text": [
      "이미지가 다운로드되었습니다.\n",
      "이미지가 다운로드되었습니다.\n",
      "이미지가 다운로드되었습니다.\n",
      "이미지가 다운로드되었습니다.\n",
      "이미지가 다운로드되었습니다.\n"
     ]
    },
    {
     "name": "stderr",
     "output_type": "stream",
     "text": [
      "\r",
      " 46%|███████████████████████████████████▋                                          | 1129/2470 [00:56<01:03, 21.11it/s]"
     ]
    },
    {
     "name": "stdout",
     "output_type": "stream",
     "text": [
      "이미지가 다운로드되었습니다.\n",
      "이미지가 다운로드되었습니다.\n",
      "이미지가 다운로드되었습니다.\n",
      "이미지가 다운로드되었습니다.\n"
     ]
    },
    {
     "name": "stderr",
     "output_type": "stream",
     "text": [
      " 46%|███████████████████████████████████▊                                          | 1135/2470 [00:56<01:03, 20.98it/s]"
     ]
    },
    {
     "name": "stdout",
     "output_type": "stream",
     "text": [
      "이미지가 다운로드되었습니다.\n",
      "이미지가 다운로드되었습니다.\n",
      "이미지가 다운로드되었습니다.\n",
      "이미지가 다운로드되었습니다.\n",
      "이미지가 다운로드되었습니다.\n"
     ]
    },
    {
     "name": "stderr",
     "output_type": "stream",
     "text": [
      "\r",
      " 46%|███████████████████████████████████▉                                          | 1138/2470 [00:56<01:04, 20.79it/s]"
     ]
    },
    {
     "name": "stdout",
     "output_type": "stream",
     "text": [
      "이미지가 다운로드되었습니다.\n",
      "이미지가 다운로드되었습니다.\n",
      "이미지가 다운로드되었습니다.\n",
      "이미지가 다운로드되었습니다.\n"
     ]
    },
    {
     "name": "stderr",
     "output_type": "stream",
     "text": [
      " 46%|████████████████████████████████████▏                                         | 1144/2470 [00:57<01:04, 20.50it/s]"
     ]
    },
    {
     "name": "stdout",
     "output_type": "stream",
     "text": [
      "이미지가 다운로드되었습니다.\n",
      "이미지가 다운로드되었습니다.\n",
      "이미지가 다운로드되었습니다.\n",
      "이미지가 다운로드되었습니다.\n",
      "이미지가 다운로드되었습니다.\n"
     ]
    },
    {
     "name": "stderr",
     "output_type": "stream",
     "text": [
      "\r",
      " 46%|████████████████████████████████████▏                                         | 1147/2470 [00:57<01:07, 19.55it/s]"
     ]
    },
    {
     "name": "stdout",
     "output_type": "stream",
     "text": [
      "이미지가 다운로드되었습니다.\n",
      "이미지가 다운로드되었습니다.\n",
      "이미지가 다운로드되었습니다.\n",
      "이미지가 다운로드되었습니다.\n",
      "이미지가 다운로드되었습니다.\n"
     ]
    },
    {
     "name": "stderr",
     "output_type": "stream",
     "text": [
      " 47%|████████████████████████████████████▍                                         | 1152/2470 [00:57<01:10, 18.81it/s]"
     ]
    },
    {
     "name": "stdout",
     "output_type": "stream",
     "text": [
      "이미지가 다운로드되었습니다.\n",
      "이미지가 다운로드되었습니다.\n",
      "이미지가 다운로드되었습니다.\n",
      "이미지가 다운로드되었습니다.\n"
     ]
    },
    {
     "name": "stderr",
     "output_type": "stream",
     "text": [
      " 47%|████████████████████████████████████▌                                         | 1157/2470 [00:57<01:03, 20.58it/s]"
     ]
    },
    {
     "name": "stdout",
     "output_type": "stream",
     "text": [
      "이미지가 다운로드되었습니다.\n",
      "이미지가 다운로드되었습니다.\n",
      "이미지가 다운로드되었습니다.\n",
      "이미지가 다운로드되었습니다.\n"
     ]
    },
    {
     "name": "stderr",
     "output_type": "stream",
     "text": [
      "\r",
      " 47%|████████████████████████████████████▋                                         | 1160/2470 [00:58<01:17, 16.90it/s]"
     ]
    },
    {
     "name": "stdout",
     "output_type": "stream",
     "text": [
      "이미지가 다운로드되었습니다.\n",
      "이미지가 다운로드되었습니다.\n",
      "이미지가 다운로드되었습니다.\n",
      "이미지가 다운로드되었습니다.\n",
      "이미지가 다운로드되었습니다.\n"
     ]
    },
    {
     "name": "stderr",
     "output_type": "stream",
     "text": [
      " 47%|████████████████████████████████████▊                                         | 1166/2470 [00:58<01:06, 19.69it/s]"
     ]
    },
    {
     "name": "stdout",
     "output_type": "stream",
     "text": [
      "이미지가 다운로드되었습니다.\n",
      "이미지가 다운로드되었습니다.\n",
      "이미지가 다운로드되었습니다.\n",
      "이미지가 다운로드되었습니다.\n",
      "이미지가 다운로드되었습니다.\n"
     ]
    },
    {
     "name": "stderr",
     "output_type": "stream",
     "text": [
      " 47%|█████████████████████████████████████                                         | 1172/2470 [00:58<01:05, 19.92it/s]"
     ]
    },
    {
     "name": "stdout",
     "output_type": "stream",
     "text": [
      "이미지가 다운로드되었습니다.\n",
      "이미지가 다운로드되었습니다.\n",
      "이미지가 다운로드되었습니다.\n",
      "이미지가 다운로드되었습니다.\n",
      "이미지가 다운로드되었습니다.\n"
     ]
    },
    {
     "name": "stderr",
     "output_type": "stream",
     "text": [
      "\r",
      " 48%|█████████████████████████████████████                                         | 1175/2470 [00:58<01:02, 20.86it/s]"
     ]
    },
    {
     "name": "stdout",
     "output_type": "stream",
     "text": [
      "이미지가 다운로드되었습니다.\n",
      "이미지가 다운로드되었습니다.\n",
      "이미지가 다운로드되었습니다.\n",
      "이미지가 다운로드되었습니다.\n",
      "이미지가 다운로드되었습니다.\n"
     ]
    },
    {
     "name": "stderr",
     "output_type": "stream",
     "text": [
      " 48%|█████████████████████████████████████▎                                        | 1181/2470 [00:59<01:04, 20.11it/s]"
     ]
    },
    {
     "name": "stdout",
     "output_type": "stream",
     "text": [
      "이미지가 다운로드되었습니다.\n",
      "이미지가 다운로드되었습니다.\n",
      "이미지가 다운로드되었습니다.\n",
      "이미지가 다운로드되었습니다.\n",
      "이미지가 다운로드되었습니다.\n"
     ]
    },
    {
     "name": "stderr",
     "output_type": "stream",
     "text": [
      " 48%|█████████████████████████████████████▍                                        | 1187/2470 [00:59<01:02, 20.37it/s]"
     ]
    },
    {
     "name": "stdout",
     "output_type": "stream",
     "text": [
      "이미지가 다운로드되었습니다.\n",
      "이미지가 다운로드되었습니다.\n",
      "이미지가 다운로드되었습니다.\n",
      "이미지가 다운로드되었습니다.\n",
      "이미지가 다운로드되었습니다.\n"
     ]
    },
    {
     "name": "stderr",
     "output_type": "stream",
     "text": [
      " 48%|█████████████████████████████████████▋                                        | 1192/2470 [00:59<01:05, 19.40it/s]"
     ]
    },
    {
     "name": "stdout",
     "output_type": "stream",
     "text": [
      "이미지가 다운로드되었습니다.\n",
      "이미지가 다운로드되었습니다.\n",
      "이미지가 다운로드되었습니다.\n",
      "이미지가 다운로드되었습니다.\n",
      "이미지가 다운로드되었습니다.\n"
     ]
    },
    {
     "name": "stderr",
     "output_type": "stream",
     "text": [
      " 48%|█████████████████████████████████████▊                                        | 1196/2470 [00:59<01:05, 19.41it/s]"
     ]
    },
    {
     "name": "stdout",
     "output_type": "stream",
     "text": [
      "이미지가 다운로드되었습니다.\n",
      "이미지가 다운로드되었습니다.\n",
      "이미지가 다운로드되었습니다.\n",
      "이미지가 다운로드되었습니다.\n",
      "이미지가 다운로드되었습니다.\n"
     ]
    },
    {
     "name": "stderr",
     "output_type": "stream",
     "text": [
      " 49%|█████████████████████████████████████▉                                        | 1202/2470 [01:00<01:00, 21.02it/s]"
     ]
    },
    {
     "name": "stdout",
     "output_type": "stream",
     "text": [
      "이미지가 다운로드되었습니다.\n",
      "이미지가 다운로드되었습니다.\n",
      "이미지가 다운로드되었습니다.\n",
      "이미지가 다운로드되었습니다.\n",
      "이미지가 다운로드되었습니다.\n"
     ]
    },
    {
     "name": "stderr",
     "output_type": "stream",
     "text": [
      "\r",
      " 49%|██████████████████████████████████████                                        | 1205/2470 [01:00<01:01, 20.69it/s]"
     ]
    },
    {
     "name": "stdout",
     "output_type": "stream",
     "text": [
      "이미지가 다운로드되었습니다.\n",
      "이미지가 다운로드되었습니다.\n",
      "이미지가 다운로드되었습니다.\n",
      "이미지가 다운로드되었습니다.\n",
      "이미지가 다운로드되었습니다.\n"
     ]
    },
    {
     "name": "stderr",
     "output_type": "stream",
     "text": [
      " 49%|██████████████████████████████████████▏                                       | 1211/2470 [01:00<01:00, 20.80it/s]"
     ]
    },
    {
     "name": "stdout",
     "output_type": "stream",
     "text": [
      "이미지가 다운로드되었습니다.\n",
      "이미지가 다운로드되었습니다.\n",
      "이미지가 다운로드되었습니다.\n",
      "이미지가 다운로드되었습니다.\n",
      "이미지가 다운로드되었습니다.\n"
     ]
    },
    {
     "name": "stderr",
     "output_type": "stream",
     "text": [
      " 49%|██████████████████████████████████████▍                                       | 1217/2470 [01:00<01:00, 20.57it/s]"
     ]
    },
    {
     "name": "stdout",
     "output_type": "stream",
     "text": [
      "이미지가 다운로드되었습니다.\n",
      "이미지가 다운로드되었습니다.\n",
      "이미지가 다운로드되었습니다.\n",
      "이미지가 다운로드되었습니다.\n",
      "이미지가 다운로드되었습니다.\n",
      "이미지가 다운로드되었습니다.\n"
     ]
    },
    {
     "name": "stderr",
     "output_type": "stream",
     "text": [
      " 50%|██████████████████████████████████████▌                                       | 1223/2470 [01:01<00:58, 21.28it/s]"
     ]
    },
    {
     "name": "stdout",
     "output_type": "stream",
     "text": [
      "이미지가 다운로드되었습니다.\n",
      "이미지가 다운로드되었습니다.\n",
      "이미지가 다운로드되었습니다.\n",
      "이미지가 다운로드되었습니다.\n",
      "이미지가 다운로드되었습니다.\n"
     ]
    },
    {
     "name": "stderr",
     "output_type": "stream",
     "text": [
      "\r",
      " 50%|██████████████████████████████████████▋                                       | 1226/2470 [01:01<00:59, 21.00it/s]"
     ]
    },
    {
     "name": "stdout",
     "output_type": "stream",
     "text": [
      "이미지가 다운로드되었습니다.\n",
      "이미지가 다운로드되었습니다.\n",
      "이미지가 다운로드되었습니다.\n",
      "이미지가 다운로드되었습니다.\n",
      "이미지가 다운로드되었습니다.\n"
     ]
    },
    {
     "name": "stderr",
     "output_type": "stream",
     "text": [
      " 50%|██████████████████████████████████████▉                                       | 1232/2470 [01:01<01:00, 20.33it/s]"
     ]
    },
    {
     "name": "stdout",
     "output_type": "stream",
     "text": [
      "이미지가 다운로드되었습니다.\n",
      "이미지가 다운로드되었습니다.\n",
      "이미지가 다운로드되었습니다.\n",
      "이미지가 다운로드되었습니다.\n"
     ]
    },
    {
     "name": "stderr",
     "output_type": "stream",
     "text": [
      "\r",
      " 50%|███████████████████████████████████████                                       | 1235/2470 [01:01<01:04, 19.25it/s]"
     ]
    },
    {
     "name": "stdout",
     "output_type": "stream",
     "text": [
      "이미지가 다운로드되었습니다.\n",
      "이미지가 다운로드되었습니다.\n",
      "이미지가 다운로드되었습니다.\n",
      "이미지가 다운로드되었습니다.\n"
     ]
    },
    {
     "name": "stderr",
     "output_type": "stream",
     "text": [
      " 50%|███████████████████████████████████████▏                                      | 1240/2470 [01:01<01:02, 19.71it/s]"
     ]
    },
    {
     "name": "stdout",
     "output_type": "stream",
     "text": [
      "이미지가 다운로드되었습니다.\n",
      "이미지가 다운로드되었습니다.\n",
      "이미지가 다운로드되었습니다.\n",
      "이미지가 다운로드되었습니다.\n",
      "이미지가 다운로드되었습니다.\n"
     ]
    },
    {
     "name": "stderr",
     "output_type": "stream",
     "text": [
      " 50%|███████████████████████████████████████▎                                      | 1244/2470 [01:02<01:03, 19.45it/s]"
     ]
    },
    {
     "name": "stdout",
     "output_type": "stream",
     "text": [
      "이미지가 다운로드되었습니다.\n",
      "이미지가 다운로드되었습니다.\n",
      "이미지가 다운로드되었습니다.\n",
      "이미지가 다운로드되었습니다.\n",
      "이미지가 다운로드되었습니다.\n"
     ]
    },
    {
     "name": "stderr",
     "output_type": "stream",
     "text": [
      " 51%|███████████████████████████████████████▍                                      | 1249/2470 [01:02<01:01, 19.93it/s]"
     ]
    },
    {
     "name": "stdout",
     "output_type": "stream",
     "text": [
      "이미지가 다운로드되었습니다.\n",
      "이미지가 다운로드되었습니다.\n",
      "이미지가 다운로드되었습니다.\n",
      "이미지가 다운로드되었습니다.\n"
     ]
    },
    {
     "name": "stderr",
     "output_type": "stream",
     "text": [
      " 51%|███████████████████████████████████████▌                                      | 1254/2470 [01:02<01:01, 19.83it/s]"
     ]
    },
    {
     "name": "stdout",
     "output_type": "stream",
     "text": [
      "이미지가 다운로드되었습니다.\n",
      "이미지가 다운로드되었습니다.\n",
      "이미지가 다운로드되었습니다.\n",
      "이미지가 다운로드되었습니다.\n",
      "이미지가 다운로드되었습니다.\n"
     ]
    },
    {
     "name": "stderr",
     "output_type": "stream",
     "text": [
      " 51%|███████████████████████████████████████▊                                      | 1259/2470 [01:02<01:01, 19.72it/s]"
     ]
    },
    {
     "name": "stdout",
     "output_type": "stream",
     "text": [
      "이미지가 다운로드되었습니다.\n",
      "이미지가 다운로드되었습니다.\n",
      "이미지가 다운로드되었습니다.\n",
      "이미지가 다운로드되었습니다.\n"
     ]
    },
    {
     "name": "stderr",
     "output_type": "stream",
     "text": [
      " 51%|███████████████████████████████████████▉                                      | 1263/2470 [01:03<01:02, 19.37it/s]"
     ]
    },
    {
     "name": "stdout",
     "output_type": "stream",
     "text": [
      "이미지가 다운로드되었습니다.\n",
      "이미지가 다운로드되었습니다.\n",
      "이미지가 다운로드되었습니다.\n",
      "이미지가 다운로드되었습니다.\n",
      "이미지가 다운로드되었습니다.\n"
     ]
    },
    {
     "name": "stderr",
     "output_type": "stream",
     "text": [
      " 51%|████████████████████████████████████████                                      | 1269/2470 [01:03<01:01, 19.52it/s]"
     ]
    },
    {
     "name": "stdout",
     "output_type": "stream",
     "text": [
      "이미지가 다운로드되었습니다.\n",
      "이미지가 다운로드되었습니다.\n",
      "이미지가 다운로드되었습니다.\n",
      "이미지가 다운로드되었습니다.\n",
      "이미지가 다운로드되었습니다.\n"
     ]
    },
    {
     "name": "stderr",
     "output_type": "stream",
     "text": [
      "\r",
      " 51%|████████████████████████████████████████▏                                     | 1272/2470 [01:03<01:00, 19.71it/s]"
     ]
    },
    {
     "name": "stdout",
     "output_type": "stream",
     "text": [
      "이미지가 다운로드되었습니다.\n",
      "이미지가 다운로드되었습니다.\n",
      "이미지가 다운로드되었습니다.\n",
      "이미지가 다운로드되었습니다.\n",
      "이미지가 다운로드되었습니다.\n"
     ]
    },
    {
     "name": "stderr",
     "output_type": "stream",
     "text": [
      " 52%|████████████████████████████████████████▎                                     | 1278/2470 [01:03<01:00, 19.57it/s]"
     ]
    },
    {
     "name": "stdout",
     "output_type": "stream",
     "text": [
      "이미지가 다운로드되었습니다.\n",
      "이미지가 다운로드되었습니다.\n",
      "이미지가 다운로드되었습니다.\n",
      "이미지가 다운로드되었습니다.\n"
     ]
    },
    {
     "name": "stderr",
     "output_type": "stream",
     "text": [
      " 52%|████████████████████████████████████████▌                                     | 1283/2470 [01:04<01:54, 10.38it/s]"
     ]
    },
    {
     "name": "stdout",
     "output_type": "stream",
     "text": [
      "이미지가 다운로드되었습니다.\n",
      "이미지가 다운로드되었습니다.\n",
      "이미지가 다운로드되었습니다.\n",
      "이미지가 다운로드되었습니다.\n",
      "이미지가 다운로드되었습니다.\n"
     ]
    },
    {
     "name": "stderr",
     "output_type": "stream",
     "text": [
      "\r",
      " 52%|████████████████████████████████████████▌                                     | 1286/2470 [01:04<01:35, 12.37it/s]"
     ]
    },
    {
     "name": "stdout",
     "output_type": "stream",
     "text": [
      "이미지가 다운로드되었습니다.\n",
      "이미지가 다운로드되었습니다.\n",
      "이미지가 다운로드되었습니다.\n",
      "이미지가 다운로드되었습니다.\n",
      "이미지가 다운로드되었습니다.\n"
     ]
    },
    {
     "name": "stderr",
     "output_type": "stream",
     "text": [
      " 52%|████████████████████████████████████████▊                                     | 1292/2470 [01:05<01:15, 15.56it/s]"
     ]
    },
    {
     "name": "stdout",
     "output_type": "stream",
     "text": [
      "이미지가 다운로드되었습니다.\n",
      "이미지가 다운로드되었습니다.\n",
      "이미지가 다운로드되었습니다.\n",
      "이미지가 다운로드되었습니다.\n"
     ]
    },
    {
     "name": "stderr",
     "output_type": "stream",
     "text": [
      " 53%|████████████████████████████████████████▉                                     | 1297/2470 [01:05<01:07, 17.48it/s]"
     ]
    },
    {
     "name": "stdout",
     "output_type": "stream",
     "text": [
      "이미지가 다운로드되었습니다.\n",
      "이미지가 다운로드되었습니다.\n",
      "이미지가 다운로드되었습니다.\n",
      "이미지가 다운로드되었습니다.\n",
      "이미지가 다운로드되었습니다.\n"
     ]
    },
    {
     "name": "stderr",
     "output_type": "stream",
     "text": [
      " 53%|█████████████████████████████████████████                                     | 1302/2470 [01:05<01:01, 18.86it/s]"
     ]
    },
    {
     "name": "stdout",
     "output_type": "stream",
     "text": [
      "이미지가 다운로드되었습니다.\n",
      "이미지가 다운로드되었습니다.\n",
      "이미지가 다운로드되었습니다.\n",
      "이미지가 다운로드되었습니다.\n",
      "이미지가 다운로드되었습니다.\n"
     ]
    },
    {
     "name": "stderr",
     "output_type": "stream",
     "text": [
      "\r",
      " 53%|█████████████████████████████████████████▏                                    | 1305/2470 [01:05<00:58, 19.95it/s]"
     ]
    },
    {
     "name": "stdout",
     "output_type": "stream",
     "text": [
      "이미지가 다운로드되었습니다.\n",
      "이미지가 다운로드되었습니다.\n",
      "이미지가 다운로드되었습니다.\n",
      "이미지가 다운로드되었습니다.\n",
      "이미지가 다운로드되었습니다.\n"
     ]
    },
    {
     "name": "stderr",
     "output_type": "stream",
     "text": [
      " 53%|█████████████████████████████████████████▍                                    | 1311/2470 [01:06<00:59, 19.62it/s]"
     ]
    },
    {
     "name": "stdout",
     "output_type": "stream",
     "text": [
      "이미지가 다운로드되었습니다.\n",
      "이미지가 다운로드되었습니다.\n",
      "이미지가 다운로드되었습니다.\n",
      "이미지가 다운로드되었습니다.\n"
     ]
    },
    {
     "name": "stderr",
     "output_type": "stream",
     "text": [
      "\r",
      " 53%|█████████████████████████████████████████▍                                    | 1314/2470 [01:06<00:56, 20.58it/s]"
     ]
    },
    {
     "name": "stdout",
     "output_type": "stream",
     "text": [
      "이미지가 다운로드되었습니다.\n",
      "이미지가 다운로드되었습니다.\n",
      "이미지가 다운로드되었습니다.\n",
      "이미지가 다운로드되었습니다.\n",
      "이미지가 다운로드되었습니다.\n"
     ]
    },
    {
     "name": "stderr",
     "output_type": "stream",
     "text": [
      " 53%|█████████████████████████████████████████▋                                    | 1320/2470 [01:06<00:57, 19.91it/s]"
     ]
    },
    {
     "name": "stdout",
     "output_type": "stream",
     "text": [
      "이미지가 다운로드되었습니다.\n",
      "이미지가 다운로드되었습니다.\n",
      "이미지가 다운로드되었습니다.\n",
      "이미지가 다운로드되었습니다.\n"
     ]
    },
    {
     "name": "stderr",
     "output_type": "stream",
     "text": [
      "\r",
      " 54%|█████████████████████████████████████████▊                                    | 1323/2470 [01:06<00:58, 19.63it/s]"
     ]
    },
    {
     "name": "stdout",
     "output_type": "stream",
     "text": [
      "이미지가 다운로드되었습니다.\n",
      "이미지가 다운로드되었습니다.\n",
      "이미지가 다운로드되었습니다.\n",
      "이미지가 다운로드되었습니다.\n"
     ]
    },
    {
     "name": "stderr",
     "output_type": "stream",
     "text": [
      " 54%|█████████████████████████████████████████▉                                    | 1328/2470 [01:06<00:57, 19.75it/s]"
     ]
    },
    {
     "name": "stdout",
     "output_type": "stream",
     "text": [
      "이미지가 다운로드되었습니다.\n",
      "이미지가 다운로드되었습니다.\n",
      "이미지가 다운로드되었습니다.\n",
      "이미지가 다운로드되었습니다.\n"
     ]
    },
    {
     "name": "stderr",
     "output_type": "stream",
     "text": [
      "\r",
      " 54%|██████████████████████████████████████████                                    | 1330/2470 [01:07<01:01, 18.50it/s]"
     ]
    },
    {
     "name": "stdout",
     "output_type": "stream",
     "text": [
      "이미지가 다운로드되었습니다.\n",
      "이미지가 다운로드되었습니다.\n",
      "이미지가 다운로드되었습니다.\n"
     ]
    },
    {
     "name": "stderr",
     "output_type": "stream",
     "text": [
      " 54%|██████████████████████████████████████████▏                                   | 1335/2470 [01:07<01:09, 16.35it/s]"
     ]
    },
    {
     "name": "stdout",
     "output_type": "stream",
     "text": [
      "이미지가 다운로드되었습니다.\n",
      "이미지가 다운로드되었습니다.\n",
      "이미지가 다운로드되었습니다.\n",
      "이미지가 다운로드되었습니다.\n",
      "이미지가 다운로드되었습니다.\n"
     ]
    },
    {
     "name": "stderr",
     "output_type": "stream",
     "text": [
      " 54%|██████████████████████████████████████████▎                                   | 1340/2470 [01:07<01:02, 18.13it/s]"
     ]
    },
    {
     "name": "stdout",
     "output_type": "stream",
     "text": [
      "이미지가 다운로드되었습니다.\n",
      "이미지가 다운로드되었습니다.\n",
      "이미지가 다운로드되었습니다.\n",
      "이미지가 다운로드되었습니다.\n",
      "이미지가 다운로드되었습니다.\n"
     ]
    },
    {
     "name": "stderr",
     "output_type": "stream",
     "text": [
      " 54%|██████████████████████████████████████████▍                                   | 1344/2470 [01:07<01:06, 16.92it/s]"
     ]
    },
    {
     "name": "stdout",
     "output_type": "stream",
     "text": [
      "이미지가 다운로드되었습니다.\n",
      "이미지가 다운로드되었습니다.\n",
      "이미지가 다운로드되었습니다.\n"
     ]
    },
    {
     "name": "stderr",
     "output_type": "stream",
     "text": [
      "\r",
      " 55%|██████████████████████████████████████████▌                                   | 1347/2470 [01:08<01:01, 18.40it/s]"
     ]
    },
    {
     "name": "stdout",
     "output_type": "stream",
     "text": [
      "이미지가 다운로드되었습니다.\n",
      "이미지가 다운로드되었습니다.\n",
      "이미지가 다운로드되었습니다.\n",
      "이미지가 다운로드되었습니다.\n",
      "이미지가 다운로드되었습니다.\n"
     ]
    },
    {
     "name": "stderr",
     "output_type": "stream",
     "text": [
      " 55%|██████████████████████████████████████████▋                                   | 1352/2470 [01:08<01:00, 18.53it/s]"
     ]
    },
    {
     "name": "stdout",
     "output_type": "stream",
     "text": [
      "이미지가 다운로드되었습니다.\n",
      "이미지가 다운로드되었습니다.\n",
      "이미지가 다운로드되었습니다.\n",
      "이미지가 다운로드되었습니다.\n"
     ]
    },
    {
     "name": "stderr",
     "output_type": "stream",
     "text": [
      " 55%|██████████████████████████████████████████▉                                   | 1358/2470 [01:08<00:53, 20.75it/s]"
     ]
    },
    {
     "name": "stdout",
     "output_type": "stream",
     "text": [
      "이미지가 다운로드되었습니다.\n",
      "이미지가 다운로드되었습니다.\n",
      "이미지가 다운로드되었습니다.\n",
      "이미지가 다운로드되었습니다.\n",
      "이미지가 다운로드되었습니다.\n"
     ]
    },
    {
     "name": "stderr",
     "output_type": "stream",
     "text": [
      "\r",
      " 55%|██████████████████████████████████████████▉                                   | 1361/2470 [01:08<00:53, 20.65it/s]"
     ]
    },
    {
     "name": "stdout",
     "output_type": "stream",
     "text": [
      "이미지가 다운로드되었습니다.\n",
      "이미지가 다운로드되었습니다.\n",
      "이미지가 다운로드되었습니다.\n",
      "이미지가 다운로드되었습니다.\n"
     ]
    },
    {
     "name": "stderr",
     "output_type": "stream",
     "text": [
      " 55%|███████████████████████████████████████████▏                                  | 1367/2470 [01:09<00:51, 21.38it/s]"
     ]
    },
    {
     "name": "stdout",
     "output_type": "stream",
     "text": [
      "이미지가 다운로드되었습니다.\n",
      "이미지가 다운로드되었습니다.\n",
      "이미지가 다운로드되었습니다.\n",
      "이미지가 다운로드되었습니다.\n",
      "이미지가 다운로드되었습니다.\n"
     ]
    },
    {
     "name": "stderr",
     "output_type": "stream",
     "text": [
      "\r",
      " 55%|███████████████████████████████████████████▎                                  | 1370/2470 [01:09<00:56, 19.35it/s]"
     ]
    },
    {
     "name": "stdout",
     "output_type": "stream",
     "text": [
      "이미지가 다운로드되었습니다.\n",
      "이미지가 다운로드되었습니다.\n",
      "이미지가 다운로드되었습니다.\n",
      "이미지가 다운로드되었습니다.\n"
     ]
    },
    {
     "name": "stderr",
     "output_type": "stream",
     "text": [
      " 56%|███████████████████████████████████████████▍                                  | 1375/2470 [01:09<00:56, 19.35it/s]"
     ]
    },
    {
     "name": "stdout",
     "output_type": "stream",
     "text": [
      "이미지가 다운로드되었습니다.\n",
      "이미지가 다운로드되었습니다.\n",
      "이미지가 다운로드되었습니다.\n",
      "이미지가 다운로드되었습니다.\n"
     ]
    },
    {
     "name": "stderr",
     "output_type": "stream",
     "text": [
      "\r",
      " 56%|███████████████████████████████████████████▌                                  | 1378/2470 [01:09<00:54, 19.98it/s]"
     ]
    },
    {
     "name": "stdout",
     "output_type": "stream",
     "text": [
      "이미지가 다운로드되었습니다.\n",
      "이미지가 다운로드되었습니다.\n",
      "이미지가 다운로드되었습니다.\n",
      "이미지가 다운로드되었습니다.\n"
     ]
    },
    {
     "name": "stderr",
     "output_type": "stream",
     "text": [
      " 56%|███████████████████████████████████████████▋                                  | 1383/2470 [01:09<00:57, 18.94it/s]"
     ]
    },
    {
     "name": "stdout",
     "output_type": "stream",
     "text": [
      "이미지가 다운로드되었습니다.\n",
      "이미지가 다운로드되었습니다.\n",
      "이미지가 다운로드되었습니다.\n",
      "이미지가 다운로드되었습니다.\n",
      "이미지가 다운로드되었습니다.\n"
     ]
    },
    {
     "name": "stderr",
     "output_type": "stream",
     "text": [
      " 56%|███████████████████████████████████████████▊                                  | 1388/2470 [01:10<00:56, 19.28it/s]"
     ]
    },
    {
     "name": "stdout",
     "output_type": "stream",
     "text": [
      "이미지가 다운로드되었습니다.\n",
      "이미지가 다운로드되었습니다.\n",
      "이미지가 다운로드되었습니다.\n",
      "이미지가 다운로드되었습니다.\n",
      "이미지가 다운로드되었습니다.\n"
     ]
    },
    {
     "name": "stderr",
     "output_type": "stream",
     "text": [
      " 56%|████████████████████████████████████████████                                  | 1394/2470 [01:10<00:52, 20.59it/s]"
     ]
    },
    {
     "name": "stdout",
     "output_type": "stream",
     "text": [
      "이미지가 다운로드되었습니다.\n",
      "이미지가 다운로드되었습니다.\n",
      "이미지가 다운로드되었습니다.\n",
      "이미지가 다운로드되었습니다.\n",
      "이미지가 다운로드되었습니다.\n"
     ]
    },
    {
     "name": "stderr",
     "output_type": "stream",
     "text": [
      "\r",
      " 57%|████████████████████████████████████████████                                  | 1397/2470 [01:10<00:50, 21.20it/s]"
     ]
    },
    {
     "name": "stdout",
     "output_type": "stream",
     "text": [
      "이미지가 다운로드되었습니다.\n",
      "이미지가 다운로드되었습니다.\n",
      "이미지가 다운로드되었습니다.\n",
      "이미지가 다운로드되었습니다.\n",
      "이미지가 다운로드되었습니다.\n"
     ]
    },
    {
     "name": "stderr",
     "output_type": "stream",
     "text": [
      " 57%|████████████████████████████████████████████▎                                 | 1403/2470 [01:10<00:51, 20.92it/s]"
     ]
    },
    {
     "name": "stdout",
     "output_type": "stream",
     "text": [
      "이미지가 다운로드되었습니다.\n",
      "이미지가 다운로드되었습니다.\n",
      "이미지가 다운로드되었습니다.\n",
      "이미지가 다운로드되었습니다.\n",
      "이미지가 다운로드되었습니다.\n"
     ]
    },
    {
     "name": "stderr",
     "output_type": "stream",
     "text": [
      " 57%|████████████████████████████████████████████▍                                 | 1409/2470 [01:11<00:51, 20.49it/s]"
     ]
    },
    {
     "name": "stdout",
     "output_type": "stream",
     "text": [
      "이미지가 다운로드되었습니다.\n",
      "이미지가 다운로드되었습니다.\n",
      "이미지가 다운로드되었습니다.\n",
      "이미지가 다운로드되었습니다.\n",
      "이미지가 다운로드되었습니다.\n"
     ]
    },
    {
     "name": "stderr",
     "output_type": "stream",
     "text": [
      "\r",
      " 57%|████████████████████████████████████████████▌                                 | 1412/2470 [01:11<00:51, 20.68it/s]"
     ]
    },
    {
     "name": "stdout",
     "output_type": "stream",
     "text": [
      "이미지가 다운로드되었습니다.\n",
      "이미지가 다운로드되었습니다.\n",
      "이미지가 다운로드되었습니다.\n",
      "이미지가 다운로드되었습니다.\n",
      "이미지가 다운로드되었습니다.\n"
     ]
    },
    {
     "name": "stderr",
     "output_type": "stream",
     "text": [
      " 57%|████████████████████████████████████████████▊                                 | 1418/2470 [01:11<00:50, 20.82it/s]"
     ]
    },
    {
     "name": "stdout",
     "output_type": "stream",
     "text": [
      "이미지가 다운로드되었습니다.\n",
      "이미지가 다운로드되었습니다.\n",
      "이미지가 다운로드되었습니다.\n",
      "이미지가 다운로드되었습니다.\n",
      "이미지가 다운로드되었습니다.\n"
     ]
    },
    {
     "name": "stderr",
     "output_type": "stream",
     "text": [
      " 58%|████████████████████████████████████████████▉                                 | 1424/2470 [01:11<00:49, 21.25it/s]"
     ]
    },
    {
     "name": "stdout",
     "output_type": "stream",
     "text": [
      "이미지가 다운로드되었습니다.\n",
      "이미지가 다운로드되었습니다.\n",
      "이미지가 다운로드되었습니다.\n",
      "이미지가 다운로드되었습니다.\n",
      "이미지가 다운로드되었습니다.\n"
     ]
    },
    {
     "name": "stderr",
     "output_type": "stream",
     "text": [
      "\r",
      " 58%|█████████████████████████████████████████████                                 | 1427/2470 [01:11<00:48, 21.35it/s]"
     ]
    },
    {
     "name": "stdout",
     "output_type": "stream",
     "text": [
      "이미지가 다운로드되었습니다.\n",
      "이미지가 다운로드되었습니다.\n",
      "이미지가 다운로드되었습니다.\n",
      "이미지가 다운로드되었습니다.\n",
      "이미지가 다운로드되었습니다.\n"
     ]
    },
    {
     "name": "stderr",
     "output_type": "stream",
     "text": [
      " 58%|█████████████████████████████████████████████▎                                | 1433/2470 [01:12<00:50, 20.70it/s]"
     ]
    },
    {
     "name": "stdout",
     "output_type": "stream",
     "text": [
      "이미지가 다운로드되었습니다.\n",
      "이미지가 다운로드되었습니다.\n",
      "이미지가 다운로드되었습니다.\n",
      "이미지가 다운로드되었습니다.\n",
      "이미지가 다운로드되었습니다.\n"
     ]
    },
    {
     "name": "stderr",
     "output_type": "stream",
     "text": [
      " 58%|█████████████████████████████████████████████▍                                | 1439/2470 [01:12<00:51, 20.02it/s]"
     ]
    },
    {
     "name": "stdout",
     "output_type": "stream",
     "text": [
      "이미지가 다운로드되었습니다.\n",
      "이미지가 다운로드되었습니다.\n",
      "이미지가 다운로드되었습니다.\n",
      "이미지가 다운로드되었습니다.\n",
      "이미지가 다운로드되었습니다.\n"
     ]
    },
    {
     "name": "stderr",
     "output_type": "stream",
     "text": [
      "\r",
      " 58%|█████████████████████████████████████████████▌                                | 1442/2470 [01:12<00:50, 20.27it/s]"
     ]
    },
    {
     "name": "stdout",
     "output_type": "stream",
     "text": [
      "이미지가 다운로드되었습니다.\n",
      "이미지가 다운로드되었습니다.\n",
      "이미지가 다운로드되었습니다.\n",
      "이미지가 다운로드되었습니다.\n",
      "이미지가 다운로드되었습니다.\n"
     ]
    },
    {
     "name": "stderr",
     "output_type": "stream",
     "text": [
      " 59%|█████████████████████████████████████████████▋                                | 1448/2470 [01:13<00:48, 20.90it/s]"
     ]
    },
    {
     "name": "stdout",
     "output_type": "stream",
     "text": [
      "이미지가 다운로드되었습니다.\n",
      "이미지가 다운로드되었습니다.\n",
      "이미지가 다운로드되었습니다.\n",
      "이미지가 다운로드되었습니다.\n",
      "이미지가 다운로드되었습니다.\n",
      "이미지가 다운로드되었습니다.\n"
     ]
    },
    {
     "name": "stderr",
     "output_type": "stream",
     "text": [
      " 59%|█████████████████████████████████████████████▉                                | 1454/2470 [01:13<00:45, 22.14it/s]"
     ]
    },
    {
     "name": "stdout",
     "output_type": "stream",
     "text": [
      "이미지가 다운로드되었습니다.\n",
      "이미지가 다운로드되었습니다.\n",
      "이미지가 다운로드되었습니다.\n",
      "이미지가 다운로드되었습니다.\n",
      "이미지가 다운로드되었습니다.\n"
     ]
    },
    {
     "name": "stderr",
     "output_type": "stream",
     "text": [
      " 59%|██████████████████████████████████████████████                                | 1460/2470 [01:13<00:45, 22.05it/s]"
     ]
    },
    {
     "name": "stdout",
     "output_type": "stream",
     "text": [
      "이미지가 다운로드되었습니다.\n",
      "이미지가 다운로드되었습니다.\n",
      "이미지가 다운로드되었습니다.\n",
      "이미지가 다운로드되었습니다.\n",
      "이미지가 다운로드되었습니다.\n"
     ]
    },
    {
     "name": "stderr",
     "output_type": "stream",
     "text": [
      "\r",
      " 59%|██████████████████████████████████████████████▏                               | 1463/2470 [01:13<00:47, 21.00it/s]"
     ]
    },
    {
     "name": "stdout",
     "output_type": "stream",
     "text": [
      "이미지가 다운로드되었습니다.\n",
      "이미지가 다운로드되었습니다.\n",
      "이미지가 다운로드되었습니다.\n",
      "이미지가 다운로드되었습니다.\n"
     ]
    },
    {
     "name": "stderr",
     "output_type": "stream",
     "text": [
      " 59%|██████████████████████████████████████████████▍                               | 1469/2470 [01:14<00:48, 20.63it/s]"
     ]
    },
    {
     "name": "stdout",
     "output_type": "stream",
     "text": [
      "이미지가 다운로드되었습니다.\n",
      "이미지가 다운로드되었습니다.\n",
      "이미지가 다운로드되었습니다.\n",
      "이미지가 다운로드되었습니다.\n",
      "이미지가 다운로드되었습니다.\n"
     ]
    },
    {
     "name": "stderr",
     "output_type": "stream",
     "text": [
      "\r",
      " 60%|██████████████████████████████████████████████▍                               | 1472/2470 [01:14<00:47, 21.15it/s]"
     ]
    },
    {
     "name": "stdout",
     "output_type": "stream",
     "text": [
      "이미지가 다운로드되었습니다.\n",
      "이미지가 다운로드되었습니다.\n",
      "이미지가 다운로드되었습니다.\n",
      "이미지가 다운로드되었습니다.\n",
      "이미지가 다운로드되었습니다.\n"
     ]
    },
    {
     "name": "stderr",
     "output_type": "stream",
     "text": [
      " 60%|██████████████████████████████████████████████▋                               | 1478/2470 [01:14<00:43, 22.59it/s]"
     ]
    },
    {
     "name": "stdout",
     "output_type": "stream",
     "text": [
      "이미지가 다운로드되었습니다.\n",
      "이미지가 다운로드되었습니다.\n",
      "이미지가 다운로드되었습니다.\n",
      "이미지가 다운로드되었습니다.\n",
      "이미지가 다운로드되었습니다.\n",
      "이미지가 다운로드되었습니다.\n"
     ]
    },
    {
     "name": "stderr",
     "output_type": "stream",
     "text": [
      " 60%|██████████████████████████████████████████████▊                               | 1484/2470 [01:14<00:42, 23.04it/s]"
     ]
    },
    {
     "name": "stdout",
     "output_type": "stream",
     "text": [
      "이미지가 다운로드되었습니다.\n",
      "이미지가 다운로드되었습니다.\n",
      "이미지가 다운로드되었습니다.\n",
      "이미지가 다운로드되었습니다.\n",
      "이미지가 다운로드되었습니다.\n"
     ]
    },
    {
     "name": "stderr",
     "output_type": "stream",
     "text": [
      "\r",
      " 60%|██████████████████████████████████████████████▉                               | 1487/2470 [01:14<00:45, 21.79it/s]"
     ]
    },
    {
     "name": "stdout",
     "output_type": "stream",
     "text": [
      "이미지가 다운로드되었습니다.\n",
      "이미지가 다운로드되었습니다.\n",
      "이미지가 다운로드되었습니다.\n",
      "이미지가 다운로드되었습니다.\n"
     ]
    },
    {
     "name": "stderr",
     "output_type": "stream",
     "text": [
      " 60%|███████████████████████████████████████████████▏                              | 1493/2470 [01:15<00:45, 21.54it/s]"
     ]
    },
    {
     "name": "stdout",
     "output_type": "stream",
     "text": [
      "이미지가 다운로드되었습니다.\n",
      "이미지가 다운로드되었습니다.\n",
      "이미지가 다운로드되었습니다.\n",
      "이미지가 다운로드되었습니다.\n",
      "이미지가 다운로드되었습니다.\n",
      "이미지가 다운로드되었습니다.\n"
     ]
    },
    {
     "name": "stderr",
     "output_type": "stream",
     "text": [
      " 61%|███████████████████████████████████████████████▎                              | 1499/2470 [01:15<00:44, 21.97it/s]"
     ]
    },
    {
     "name": "stdout",
     "output_type": "stream",
     "text": [
      "이미지가 다운로드되었습니다.\n",
      "이미지가 다운로드되었습니다.\n",
      "이미지가 다운로드되었습니다.\n",
      "이미지가 다운로드되었습니다.\n",
      "이미지가 다운로드되었습니다.\n"
     ]
    },
    {
     "name": "stderr",
     "output_type": "stream",
     "text": [
      " 61%|███████████████████████████████████████████████▌                              | 1505/2470 [01:15<00:44, 21.66it/s]"
     ]
    },
    {
     "name": "stdout",
     "output_type": "stream",
     "text": [
      "이미지가 다운로드되었습니다.\n",
      "이미지가 다운로드되었습니다.\n",
      "이미지가 다운로드되었습니다.\n",
      "이미지가 다운로드되었습니다.\n",
      "이미지가 다운로드되었습니다.\n"
     ]
    },
    {
     "name": "stderr",
     "output_type": "stream",
     "text": [
      "\r",
      " 61%|███████████████████████████████████████████████▌                              | 1508/2470 [01:15<00:45, 21.37it/s]"
     ]
    },
    {
     "name": "stdout",
     "output_type": "stream",
     "text": [
      "이미지가 다운로드되었습니다.\n",
      "이미지가 다운로드되었습니다.\n",
      "이미지가 다운로드되었습니다.\n",
      "이미지가 다운로드되었습니다.\n",
      "이미지가 다운로드되었습니다.\n"
     ]
    },
    {
     "name": "stderr",
     "output_type": "stream",
     "text": [
      " 61%|███████████████████████████████████████████████▊                              | 1514/2470 [01:16<00:43, 21.86it/s]"
     ]
    },
    {
     "name": "stdout",
     "output_type": "stream",
     "text": [
      "이미지가 다운로드되었습니다.\n",
      "이미지가 다운로드되었습니다.\n",
      "이미지가 다운로드되었습니다.\n",
      "이미지가 다운로드되었습니다.\n",
      "이미지가 다운로드되었습니다.\n"
     ]
    },
    {
     "name": "stderr",
     "output_type": "stream",
     "text": [
      " 62%|████████████████████████████████████████████████                              | 1520/2470 [01:16<00:43, 21.96it/s]"
     ]
    },
    {
     "name": "stdout",
     "output_type": "stream",
     "text": [
      "이미지가 다운로드되었습니다.\n",
      "이미지가 다운로드되었습니다.\n",
      "이미지가 다운로드되었습니다.\n",
      "이미지가 다운로드되었습니다.\n",
      "이미지가 다운로드되었습니다.\n"
     ]
    },
    {
     "name": "stderr",
     "output_type": "stream",
     "text": [
      "\r",
      " 62%|████████████████████████████████████████████████                              | 1523/2470 [01:16<00:42, 22.35it/s]"
     ]
    },
    {
     "name": "stdout",
     "output_type": "stream",
     "text": [
      "이미지가 다운로드되었습니다.\n",
      "이미지가 다운로드되었습니다.\n",
      "이미지가 다운로드되었습니다.\n",
      "이미지가 다운로드되었습니다.\n",
      "이미지가 다운로드되었습니다.\n"
     ]
    },
    {
     "name": "stderr",
     "output_type": "stream",
     "text": [
      " 62%|████████████████████████████████████████████████▎                             | 1529/2470 [01:16<00:42, 21.96it/s]"
     ]
    },
    {
     "name": "stdout",
     "output_type": "stream",
     "text": [
      "이미지가 다운로드되었습니다.\n",
      "이미지가 다운로드되었습니다.\n",
      "이미지가 다운로드되었습니다.\n",
      "이미지가 다운로드되었습니다.\n"
     ]
    },
    {
     "name": "stderr",
     "output_type": "stream",
     "text": [
      "\r",
      " 62%|████████████████████████████████████████████████▍                             | 1532/2470 [01:16<00:43, 21.62it/s]"
     ]
    },
    {
     "name": "stdout",
     "output_type": "stream",
     "text": [
      "이미지가 다운로드되었습니다.\n",
      "이미지가 다운로드되었습니다.\n",
      "이미지가 다운로드되었습니다.\n",
      "이미지가 다운로드되었습니다.\n",
      "이미지가 다운로드되었습니다.\n"
     ]
    },
    {
     "name": "stderr",
     "output_type": "stream",
     "text": [
      " 62%|████████████████████████████████████████████████▌                             | 1538/2470 [01:17<00:41, 22.25it/s]"
     ]
    },
    {
     "name": "stdout",
     "output_type": "stream",
     "text": [
      "이미지가 다운로드되었습니다.\n",
      "이미지가 다운로드되었습니다.\n",
      "이미지가 다운로드되었습니다.\n",
      "이미지가 다운로드되었습니다.\n",
      "이미지가 다운로드되었습니다.\n"
     ]
    },
    {
     "name": "stderr",
     "output_type": "stream",
     "text": [
      " 63%|████████████████████████████████████████████████▊                             | 1544/2470 [01:17<00:42, 22.00it/s]"
     ]
    },
    {
     "name": "stdout",
     "output_type": "stream",
     "text": [
      "이미지가 다운로드되었습니다.\n",
      "이미지가 다운로드되었습니다.\n",
      "이미지가 다운로드되었습니다.\n",
      "이미지가 다운로드되었습니다.\n",
      "이미지가 다운로드되었습니다.\n"
     ]
    },
    {
     "name": "stderr",
     "output_type": "stream",
     "text": [
      "\r",
      " 63%|████████████████████████████████████████████████▊                             | 1547/2470 [01:17<00:43, 21.18it/s]"
     ]
    },
    {
     "name": "stdout",
     "output_type": "stream",
     "text": [
      "이미지가 다운로드되었습니다.\n",
      "이미지가 다운로드되었습니다.\n",
      "이미지가 다운로드되었습니다.\n",
      "이미지가 다운로드되었습니다.\n",
      "이미지가 다운로드되었습니다.\n"
     ]
    },
    {
     "name": "stderr",
     "output_type": "stream",
     "text": [
      " 63%|█████████████████████████████████████████████████                             | 1553/2470 [01:17<00:41, 22.06it/s]"
     ]
    },
    {
     "name": "stdout",
     "output_type": "stream",
     "text": [
      "이미지가 다운로드되었습니다.\n",
      "이미지가 다운로드되었습니다.\n",
      "이미지가 다운로드되었습니다.\n",
      "이미지가 다운로드되었습니다.\n",
      "이미지가 다운로드되었습니다.\n",
      "이미지가 다운로드되었습니다.\n"
     ]
    },
    {
     "name": "stderr",
     "output_type": "stream",
     "text": [
      " 63%|█████████████████████████████████████████████████▏                            | 1559/2470 [01:18<00:40, 22.36it/s]"
     ]
    },
    {
     "name": "stdout",
     "output_type": "stream",
     "text": [
      "이미지가 다운로드되었습니다.\n",
      "이미지가 다운로드되었습니다.\n",
      "이미지가 다운로드되었습니다.\n",
      "이미지가 다운로드되었습니다.\n",
      "이미지가 다운로드되었습니다.\n"
     ]
    },
    {
     "name": "stderr",
     "output_type": "stream",
     "text": [
      " 63%|█████████████████████████████████████████████████▍                            | 1565/2470 [01:18<00:41, 21.72it/s]"
     ]
    },
    {
     "name": "stdout",
     "output_type": "stream",
     "text": [
      "이미지가 다운로드되었습니다.\n",
      "이미지가 다운로드되었습니다.\n",
      "이미지가 다운로드되었습니다.\n",
      "이미지가 다운로드되었습니다.\n",
      "이미지가 다운로드되었습니다.\n"
     ]
    },
    {
     "name": "stderr",
     "output_type": "stream",
     "text": [
      "\r",
      " 63%|█████████████████████████████████████████████████▌                            | 1568/2470 [01:18<00:42, 21.20it/s]"
     ]
    },
    {
     "name": "stdout",
     "output_type": "stream",
     "text": [
      "이미지가 다운로드되었습니다.\n",
      "이미지가 다운로드되었습니다.\n",
      "이미지가 다운로드되었습니다.\n",
      "이미지가 다운로드되었습니다.\n",
      "이미지가 다운로드되었습니다.\n"
     ]
    },
    {
     "name": "stderr",
     "output_type": "stream",
     "text": [
      " 64%|█████████████████████████████████████████████████▋                            | 1574/2470 [01:18<00:42, 20.92it/s]"
     ]
    },
    {
     "name": "stdout",
     "output_type": "stream",
     "text": [
      "이미지가 다운로드되었습니다.\n",
      "이미지가 다운로드되었습니다.\n",
      "이미지가 다운로드되었습니다.\n",
      "이미지가 다운로드되었습니다.\n",
      "이미지가 다운로드되었습니다.\n"
     ]
    },
    {
     "name": "stderr",
     "output_type": "stream",
     "text": [
      " 64%|█████████████████████████████████████████████████▊                            | 1579/2470 [01:19<00:46, 19.12it/s]"
     ]
    },
    {
     "name": "stdout",
     "output_type": "stream",
     "text": [
      "이미지가 다운로드되었습니다.\n",
      "이미지가 다운로드되었습니다.\n",
      "이미지가 다운로드되었습니다.\n",
      "이미지가 다운로드되었습니다.\n"
     ]
    },
    {
     "name": "stderr",
     "output_type": "stream",
     "text": [
      "\r",
      " 64%|█████████████████████████████████████████████████▉                            | 1582/2470 [01:19<00:45, 19.44it/s]"
     ]
    },
    {
     "name": "stdout",
     "output_type": "stream",
     "text": [
      "이미지가 다운로드되었습니다.\n",
      "이미지가 다운로드되었습니다.\n",
      "이미지가 다운로드되었습니다.\n",
      "이미지가 다운로드되었습니다.\n",
      "이미지가 다운로드되었습니다.\n"
     ]
    },
    {
     "name": "stderr",
     "output_type": "stream",
     "text": [
      " 64%|██████████████████████████████████████████████████▏                           | 1588/2470 [01:19<00:42, 20.84it/s]"
     ]
    },
    {
     "name": "stdout",
     "output_type": "stream",
     "text": [
      "이미지가 다운로드되었습니다.\n",
      "이미지가 다운로드되었습니다.\n",
      "이미지가 다운로드되었습니다.\n",
      "이미지가 다운로드되었습니다.\n",
      "이미지가 다운로드되었습니다.\n"
     ]
    },
    {
     "name": "stderr",
     "output_type": "stream",
     "text": [
      " 65%|██████████████████████████████████████████████████▎                           | 1594/2470 [01:19<00:40, 21.41it/s]"
     ]
    },
    {
     "name": "stdout",
     "output_type": "stream",
     "text": [
      "이미지가 다운로드되었습니다.\n",
      "이미지가 다운로드되었습니다.\n",
      "이미지가 다운로드되었습니다.\n",
      "이미지가 다운로드되었습니다.\n",
      "이미지가 다운로드되었습니다.\n"
     ]
    },
    {
     "name": "stderr",
     "output_type": "stream",
     "text": [
      "\r",
      " 65%|██████████████████████████████████████████████████▍                           | 1597/2470 [01:19<00:40, 21.41it/s]"
     ]
    },
    {
     "name": "stdout",
     "output_type": "stream",
     "text": [
      "이미지가 다운로드되었습니다.\n",
      "이미지가 다운로드되었습니다.\n",
      "이미지가 다운로드되었습니다.\n",
      "이미지가 다운로드되었습니다.\n",
      "이미지가 다운로드되었습니다.\n"
     ]
    },
    {
     "name": "stderr",
     "output_type": "stream",
     "text": [
      " 65%|██████████████████████████████████████████████████▌                           | 1603/2470 [01:20<00:39, 21.71it/s]"
     ]
    },
    {
     "name": "stdout",
     "output_type": "stream",
     "text": [
      "이미지가 다운로드되었습니다.\n",
      "이미지가 다운로드되었습니다.\n",
      "이미지가 다운로드되었습니다.\n",
      "이미지가 다운로드되었습니다.\n",
      "이미지가 다운로드되었습니다.\n"
     ]
    },
    {
     "name": "stderr",
     "output_type": "stream",
     "text": [
      " 65%|██████████████████████████████████████████████████▊                           | 1609/2470 [01:20<00:39, 21.91it/s]"
     ]
    },
    {
     "name": "stdout",
     "output_type": "stream",
     "text": [
      "이미지가 다운로드되었습니다.\n",
      "이미지가 다운로드되었습니다.\n",
      "이미지가 다운로드되었습니다.\n",
      "이미지가 다운로드되었습니다.\n",
      "이미지가 다운로드되었습니다.\n"
     ]
    },
    {
     "name": "stderr",
     "output_type": "stream",
     "text": [
      "\r",
      " 65%|██████████████████████████████████████████████████▉                           | 1612/2470 [01:20<00:39, 21.91it/s]"
     ]
    },
    {
     "name": "stdout",
     "output_type": "stream",
     "text": [
      "이미지가 다운로드되었습니다.\n",
      "이미지가 다운로드되었습니다.\n",
      "이미지가 다운로드되었습니다.\n",
      "이미지가 다운로드되었습니다.\n",
      "이미지가 다운로드되었습니다.\n"
     ]
    },
    {
     "name": "stderr",
     "output_type": "stream",
     "text": [
      " 66%|███████████████████████████████████████████████████                           | 1618/2470 [01:20<00:39, 21.72it/s]"
     ]
    },
    {
     "name": "stdout",
     "output_type": "stream",
     "text": [
      "이미지가 다운로드되었습니다.\n",
      "이미지가 다운로드되었습니다.\n",
      "이미지가 다운로드되었습니다.\n",
      "이미지가 다운로드되었습니다.\n",
      "이미지가 다운로드되었습니다.\n"
     ]
    },
    {
     "name": "stderr",
     "output_type": "stream",
     "text": [
      " 66%|███████████████████████████████████████████████████▎                          | 1624/2470 [01:21<00:39, 21.23it/s]"
     ]
    },
    {
     "name": "stdout",
     "output_type": "stream",
     "text": [
      "이미지가 다운로드되었습니다.\n",
      "이미지가 다운로드되었습니다.\n",
      "이미지가 다운로드되었습니다.\n",
      "이미지가 다운로드되었습니다.\n",
      "이미지가 다운로드되었습니다.\n"
     ]
    },
    {
     "name": "stderr",
     "output_type": "stream",
     "text": [
      "\r",
      " 66%|███████████████████████████████████████████████████▍                          | 1627/2470 [01:21<00:37, 22.35it/s]"
     ]
    },
    {
     "name": "stdout",
     "output_type": "stream",
     "text": [
      "이미지가 다운로드되었습니다.\n",
      "이미지가 다운로드되었습니다.\n",
      "이미지가 다운로드되었습니다.\n",
      "이미지가 다운로드되었습니다.\n",
      "이미지가 다운로드되었습니다.\n"
     ]
    },
    {
     "name": "stderr",
     "output_type": "stream",
     "text": [
      " 66%|███████████████████████████████████████████████████▌                          | 1633/2470 [01:21<00:39, 21.33it/s]"
     ]
    },
    {
     "name": "stdout",
     "output_type": "stream",
     "text": [
      "이미지가 다운로드되었습니다.\n",
      "이미지가 다운로드되었습니다.\n",
      "이미지가 다운로드되었습니다.\n",
      "이미지가 다운로드되었습니다.\n",
      "이미지가 다운로드되었습니다.\n"
     ]
    },
    {
     "name": "stderr",
     "output_type": "stream",
     "text": [
      "\r",
      " 66%|███████████████████████████████████████████████████▋                          | 1636/2470 [01:21<00:38, 21.69it/s]"
     ]
    },
    {
     "name": "stdout",
     "output_type": "stream",
     "text": [
      "이미지가 다운로드되었습니다.\n",
      "이미지가 다운로드되었습니다.\n",
      "이미지가 다운로드되었습니다.\n",
      "이미지가 다운로드되었습니다.\n"
     ]
    },
    {
     "name": "stderr",
     "output_type": "stream",
     "text": [
      " 66%|███████████████████████████████████████████████████▊                          | 1642/2470 [01:22<00:41, 20.00it/s]"
     ]
    },
    {
     "name": "stdout",
     "output_type": "stream",
     "text": [
      "이미지가 다운로드되었습니다.\n",
      "이미지가 다운로드되었습니다.\n",
      "이미지가 다운로드되었습니다.\n",
      "이미지가 다운로드되었습니다.\n",
      "이미지가 다운로드되었습니다.\n"
     ]
    },
    {
     "name": "stderr",
     "output_type": "stream",
     "text": [
      " 67%|████████████████████████████████████████████████████                          | 1648/2470 [01:22<00:39, 20.73it/s]"
     ]
    },
    {
     "name": "stdout",
     "output_type": "stream",
     "text": [
      "이미지가 다운로드되었습니다.\n",
      "이미지가 다운로드되었습니다.\n",
      "이미지가 다운로드되었습니다.\n",
      "이미지가 다운로드되었습니다.\n",
      "이미지가 다운로드되었습니다.\n"
     ]
    },
    {
     "name": "stderr",
     "output_type": "stream",
     "text": [
      "\r",
      " 67%|████████████████████████████████████████████████████▏                         | 1651/2470 [01:22<00:39, 20.79it/s]"
     ]
    },
    {
     "name": "stdout",
     "output_type": "stream",
     "text": [
      "이미지가 다운로드되었습니다.\n",
      "이미지가 다운로드되었습니다.\n",
      "이미지가 다운로드되었습니다.\n",
      "이미지가 다운로드되었습니다.\n",
      "이미지가 다운로드되었습니다.\n"
     ]
    },
    {
     "name": "stderr",
     "output_type": "stream",
     "text": [
      " 67%|████████████████████████████████████████████████████▎                         | 1657/2470 [01:22<00:38, 21.18it/s]"
     ]
    },
    {
     "name": "stdout",
     "output_type": "stream",
     "text": [
      "이미지가 다운로드되었습니다.\n",
      "이미지가 다운로드되었습니다.\n",
      "이미지가 다운로드되었습니다.\n",
      "이미지가 다운로드되었습니다.\n",
      "이미지가 다운로드되었습니다.\n",
      "이미지가 다운로드되었습니다.\n"
     ]
    },
    {
     "name": "stderr",
     "output_type": "stream",
     "text": [
      " 67%|████████████████████████████████████████████████████▌                         | 1663/2470 [01:23<00:36, 21.89it/s]"
     ]
    },
    {
     "name": "stdout",
     "output_type": "stream",
     "text": [
      "이미지가 다운로드되었습니다.\n",
      "이미지가 다운로드되었습니다.\n",
      "이미지가 다운로드되었습니다.\n",
      "이미지가 다운로드되었습니다.\n",
      "이미지가 다운로드되었습니다.\n"
     ]
    },
    {
     "name": "stderr",
     "output_type": "stream",
     "text": [
      " 68%|████████████████████████████████████████████████████▋                         | 1669/2470 [01:23<00:38, 20.95it/s]"
     ]
    },
    {
     "name": "stdout",
     "output_type": "stream",
     "text": [
      "이미지가 다운로드되었습니다.\n",
      "이미지가 다운로드되었습니다.\n",
      "이미지가 다운로드되었습니다.\n",
      "이미지가 다운로드되었습니다.\n",
      "이미지가 다운로드되었습니다.\n"
     ]
    },
    {
     "name": "stderr",
     "output_type": "stream",
     "text": [
      "\r",
      " 68%|████████████████████████████████████████████████████▊                         | 1672/2470 [01:23<00:36, 21.89it/s]"
     ]
    },
    {
     "name": "stdout",
     "output_type": "stream",
     "text": [
      "이미지가 다운로드되었습니다.\n",
      "이미지가 다운로드되었습니다.\n",
      "이미지가 다운로드되었습니다.\n",
      "이미지가 다운로드되었습니다.\n",
      "이미지가 다운로드되었습니다.\n"
     ]
    },
    {
     "name": "stderr",
     "output_type": "stream",
     "text": [
      " 68%|████████████████████████████████████████████████████▉                         | 1678/2470 [01:23<00:37, 21.24it/s]"
     ]
    },
    {
     "name": "stdout",
     "output_type": "stream",
     "text": [
      "이미지가 다운로드되었습니다.\n",
      "이미지가 다운로드되었습니다.\n",
      "이미지가 다운로드되었습니다.\n",
      "이미지가 다운로드되었습니다.\n"
     ]
    },
    {
     "name": "stderr",
     "output_type": "stream",
     "text": [
      "\r",
      " 68%|█████████████████████████████████████████████████████                         | 1681/2470 [01:23<00:37, 21.00it/s]"
     ]
    },
    {
     "name": "stdout",
     "output_type": "stream",
     "text": [
      "이미지가 다운로드되었습니다.\n",
      "이미지가 다운로드되었습니다.\n",
      "이미지가 다운로드되었습니다.\n",
      "이미지가 다운로드되었습니다.\n",
      "이미지가 다운로드되었습니다.\n"
     ]
    },
    {
     "name": "stderr",
     "output_type": "stream",
     "text": [
      " 68%|█████████████████████████████████████████████████████▎                        | 1687/2470 [01:24<00:36, 21.62it/s]"
     ]
    },
    {
     "name": "stdout",
     "output_type": "stream",
     "text": [
      "이미지가 다운로드되었습니다.\n",
      "이미지가 다운로드되었습니다.\n",
      "이미지가 다운로드되었습니다.\n",
      "이미지가 다운로드되었습니다.\n",
      "이미지가 다운로드되었습니다.\n"
     ]
    },
    {
     "name": "stderr",
     "output_type": "stream",
     "text": [
      " 69%|█████████████████████████████████████████████████████▍                        | 1693/2470 [01:24<00:35, 21.80it/s]"
     ]
    },
    {
     "name": "stdout",
     "output_type": "stream",
     "text": [
      "이미지가 다운로드되었습니다.\n",
      "이미지가 다운로드되었습니다.\n",
      "이미지가 다운로드되었습니다.\n",
      "이미지가 다운로드되었습니다.\n",
      "이미지가 다운로드되었습니다.\n"
     ]
    },
    {
     "name": "stderr",
     "output_type": "stream",
     "text": [
      "\r",
      " 69%|█████████████████████████████████████████████████████▌                        | 1696/2470 [01:24<00:37, 20.41it/s]"
     ]
    },
    {
     "name": "stdout",
     "output_type": "stream",
     "text": [
      "이미지가 다운로드되었습니다.\n",
      "이미지가 다운로드되었습니다.\n",
      "이미지가 다운로드되었습니다.\n",
      "이미지가 다운로드되었습니다.\n"
     ]
    },
    {
     "name": "stderr",
     "output_type": "stream",
     "text": [
      " 69%|█████████████████████████████████████████████████████▋                        | 1702/2470 [01:24<00:36, 21.21it/s]"
     ]
    },
    {
     "name": "stdout",
     "output_type": "stream",
     "text": [
      "이미지가 다운로드되었습니다.\n",
      "이미지가 다운로드되었습니다.\n",
      "이미지가 다운로드되었습니다.\n",
      "이미지가 다운로드되었습니다.\n",
      "이미지가 다운로드되었습니다.\n",
      "이미지가 다운로드되었습니다.\n"
     ]
    },
    {
     "name": "stderr",
     "output_type": "stream",
     "text": [
      " 69%|█████████████████████████████████████████████████████▉                        | 1708/2470 [01:25<00:33, 22.84it/s]"
     ]
    },
    {
     "name": "stdout",
     "output_type": "stream",
     "text": [
      "이미지가 다운로드되었습니다.\n",
      "이미지가 다운로드되었습니다.\n",
      "이미지가 다운로드되었습니다.\n",
      "이미지가 다운로드되었습니다.\n",
      "이미지가 다운로드되었습니다.\n",
      "이미지가 다운로드되었습니다.\n"
     ]
    },
    {
     "name": "stderr",
     "output_type": "stream",
     "text": [
      " 69%|██████████████████████████████████████████████████████▏                       | 1714/2470 [01:25<00:34, 22.07it/s]"
     ]
    },
    {
     "name": "stdout",
     "output_type": "stream",
     "text": [
      "이미지가 다운로드되었습니다.\n",
      "이미지가 다운로드되었습니다.\n",
      "이미지가 다운로드되었습니다.\n",
      "이미지가 다운로드되었습니다.\n",
      "이미지가 다운로드되었습니다.\n"
     ]
    },
    {
     "name": "stderr",
     "output_type": "stream",
     "text": [
      "\r",
      " 70%|██████████████████████████████████████████████████████▏                       | 1717/2470 [01:25<00:34, 22.01it/s]"
     ]
    },
    {
     "name": "stdout",
     "output_type": "stream",
     "text": [
      "이미지가 다운로드되었습니다.\n",
      "이미지가 다운로드되었습니다.\n",
      "이미지가 다운로드되었습니다.\n",
      "이미지가 다운로드되었습니다.\n",
      "이미지가 다운로드되었습니다.\n"
     ]
    },
    {
     "name": "stderr",
     "output_type": "stream",
     "text": [
      " 70%|██████████████████████████████████████████████████████▍                       | 1723/2470 [01:25<00:34, 21.79it/s]"
     ]
    },
    {
     "name": "stdout",
     "output_type": "stream",
     "text": [
      "이미지가 다운로드되었습니다.\n",
      "이미지가 다운로드되었습니다.\n",
      "이미지가 다운로드되었습니다.\n",
      "이미지가 다운로드되었습니다.\n",
      "이미지가 다운로드되었습니다.\n"
     ]
    },
    {
     "name": "stderr",
     "output_type": "stream",
     "text": [
      " 70%|██████████████████████████████████████████████████████▌                       | 1729/2470 [01:26<00:33, 21.90it/s]"
     ]
    },
    {
     "name": "stdout",
     "output_type": "stream",
     "text": [
      "이미지가 다운로드되었습니다.\n",
      "이미지가 다운로드되었습니다.\n",
      "이미지가 다운로드되었습니다.\n",
      "이미지가 다운로드되었습니다.\n",
      "이미지가 다운로드되었습니다.\n"
     ]
    },
    {
     "name": "stderr",
     "output_type": "stream",
     "text": [
      "\r",
      " 70%|██████████████████████████████████████████████████████▋                       | 1732/2470 [01:26<00:34, 21.50it/s]"
     ]
    },
    {
     "name": "stdout",
     "output_type": "stream",
     "text": [
      "이미지가 다운로드되었습니다.\n",
      "이미지가 다운로드되었습니다.\n",
      "이미지가 다운로드되었습니다.\n",
      "이미지가 다운로드되었습니다.\n",
      "이미지가 다운로드되었습니다.\n"
     ]
    },
    {
     "name": "stderr",
     "output_type": "stream",
     "text": [
      " 70%|██████████████████████████████████████████████████████▉                       | 1738/2470 [01:26<00:34, 21.43it/s]"
     ]
    },
    {
     "name": "stdout",
     "output_type": "stream",
     "text": [
      "이미지가 다운로드되었습니다.\n",
      "이미지가 다운로드되었습니다.\n",
      "이미지가 다운로드되었습니다.\n",
      "이미지가 다운로드되었습니다.\n",
      "이미지가 다운로드되었습니다.\n"
     ]
    },
    {
     "name": "stderr",
     "output_type": "stream",
     "text": [
      " 71%|███████████████████████████████████████████████████████                       | 1744/2470 [01:26<00:33, 21.85it/s]"
     ]
    },
    {
     "name": "stdout",
     "output_type": "stream",
     "text": [
      "이미지가 다운로드되었습니다.\n",
      "이미지가 다운로드되었습니다.\n",
      "이미지가 다운로드되었습니다.\n",
      "이미지가 다운로드되었습니다.\n",
      "이미지가 다운로드되었습니다.\n"
     ]
    },
    {
     "name": "stderr",
     "output_type": "stream",
     "text": [
      "\r",
      " 71%|███████████████████████████████████████████████████████▏                      | 1747/2470 [01:26<00:32, 22.42it/s]"
     ]
    },
    {
     "name": "stdout",
     "output_type": "stream",
     "text": [
      "이미지가 다운로드되었습니다.\n",
      "이미지가 다운로드되었습니다.\n",
      "이미지가 다운로드되었습니다.\n",
      "이미지가 다운로드되었습니다.\n",
      "이미지가 다운로드되었습니다.\n"
     ]
    },
    {
     "name": "stderr",
     "output_type": "stream",
     "text": [
      " 71%|███████████████████████████████████████████████████████▎                      | 1753/2470 [01:27<00:32, 21.97it/s]"
     ]
    },
    {
     "name": "stdout",
     "output_type": "stream",
     "text": [
      "이미지가 다운로드되었습니다.\n",
      "이미지가 다운로드되었습니다.\n",
      "이미지가 다운로드되었습니다.\n",
      "이미지가 다운로드되었습니다.\n",
      "이미지가 다운로드되었습니다.\n"
     ]
    },
    {
     "name": "stderr",
     "output_type": "stream",
     "text": [
      " 71%|███████████████████████████████████████████████████████▌                      | 1759/2470 [01:27<00:31, 22.44it/s]"
     ]
    },
    {
     "name": "stdout",
     "output_type": "stream",
     "text": [
      "이미지가 다운로드되었습니다.\n",
      "이미지가 다운로드되었습니다.\n",
      "이미지가 다운로드되었습니다.\n",
      "이미지가 다운로드되었습니다.\n",
      "이미지가 다운로드되었습니다.\n"
     ]
    },
    {
     "name": "stderr",
     "output_type": "stream",
     "text": [
      "\r",
      " 71%|███████████████████████████████████████████████████████▋                      | 1762/2470 [01:27<00:31, 22.24it/s]"
     ]
    },
    {
     "name": "stdout",
     "output_type": "stream",
     "text": [
      "이미지가 다운로드되었습니다.\n",
      "이미지가 다운로드되었습니다.\n",
      "이미지가 다운로드되었습니다.\n",
      "이미지가 다운로드되었습니다.\n"
     ]
    },
    {
     "name": "stderr",
     "output_type": "stream",
     "text": [
      " 72%|███████████████████████████████████████████████████████▊                      | 1768/2470 [01:27<00:35, 20.00it/s]"
     ]
    },
    {
     "name": "stdout",
     "output_type": "stream",
     "text": [
      "이미지가 다운로드되었습니다.\n",
      "이미지가 다운로드되었습니다.\n",
      "이미지가 다운로드되었습니다.\n",
      "이미지가 다운로드되었습니다.\n",
      "이미지가 다운로드되었습니다.\n"
     ]
    },
    {
     "name": "stderr",
     "output_type": "stream",
     "text": [
      "\r",
      " 72%|███████████████████████████████████████████████████████▉                      | 1771/2470 [01:28<00:33, 20.74it/s]"
     ]
    },
    {
     "name": "stdout",
     "output_type": "stream",
     "text": [
      "이미지가 다운로드되었습니다.\n",
      "이미지가 다운로드되었습니다.\n",
      "이미지가 다운로드되었습니다.\n",
      "이미지가 다운로드되었습니다.\n",
      "이미지가 다운로드되었습니다.\n"
     ]
    },
    {
     "name": "stderr",
     "output_type": "stream",
     "text": [
      " 72%|████████████████████████████████████████████████████████                      | 1777/2470 [01:28<00:32, 21.49it/s]"
     ]
    },
    {
     "name": "stdout",
     "output_type": "stream",
     "text": [
      "이미지가 다운로드되었습니다.\n",
      "이미지가 다운로드되었습니다.\n",
      "이미지가 다운로드되었습니다.\n",
      "이미지가 다운로드되었습니다.\n",
      "이미지가 다운로드되었습니다.\n"
     ]
    },
    {
     "name": "stderr",
     "output_type": "stream",
     "text": [
      " 72%|████████████████████████████████████████████████████████▎                     | 1783/2470 [01:28<00:32, 21.10it/s]"
     ]
    },
    {
     "name": "stdout",
     "output_type": "stream",
     "text": [
      "이미지가 다운로드되었습니다.\n",
      "이미지가 다운로드되었습니다.\n",
      "이미지가 다운로드되었습니다.\n",
      "이미지가 다운로드되었습니다.\n",
      "이미지가 다운로드되었습니다.\n"
     ]
    },
    {
     "name": "stderr",
     "output_type": "stream",
     "text": [
      "\r",
      " 72%|████████████████████████████████████████████████████████▍                     | 1786/2470 [01:28<00:33, 20.67it/s]"
     ]
    },
    {
     "name": "stdout",
     "output_type": "stream",
     "text": [
      "이미지가 다운로드되었습니다.\n",
      "이미지가 다운로드되었습니다.\n",
      "이미지가 다운로드되었습니다.\n",
      "이미지가 다운로드되었습니다.\n",
      "이미지가 다운로드되었습니다.\n"
     ]
    },
    {
     "name": "stderr",
     "output_type": "stream",
     "text": [
      " 73%|████████████████████████████████████████████████████████▌                     | 1792/2470 [01:29<00:30, 22.09it/s]"
     ]
    },
    {
     "name": "stdout",
     "output_type": "stream",
     "text": [
      "이미지가 다운로드되었습니다.\n",
      "이미지가 다운로드되었습니다.\n",
      "이미지가 다운로드되었습니다.\n",
      "이미지가 다운로드되었습니다.\n",
      "이미지가 다운로드되었습니다.\n"
     ]
    },
    {
     "name": "stderr",
     "output_type": "stream",
     "text": [
      " 73%|████████████████████████████████████████████████████████▊                     | 1798/2470 [01:29<00:30, 22.38it/s]"
     ]
    },
    {
     "name": "stdout",
     "output_type": "stream",
     "text": [
      "이미지가 다운로드되었습니다.\n",
      "이미지가 다운로드되었습니다.\n",
      "이미지가 다운로드되었습니다.\n",
      "이미지가 다운로드되었습니다.\n",
      "이미지가 다운로드되었습니다.\n"
     ]
    },
    {
     "name": "stderr",
     "output_type": "stream",
     "text": [
      "\r",
      " 73%|████████████████████████████████████████████████████████▊                     | 1801/2470 [01:29<00:28, 23.15it/s]"
     ]
    },
    {
     "name": "stdout",
     "output_type": "stream",
     "text": [
      "이미지가 다운로드되었습니다.\n",
      "이미지가 다운로드되었습니다.\n",
      "이미지가 다운로드되었습니다.\n",
      "이미지가 다운로드되었습니다.\n",
      "이미지가 다운로드되었습니다.\n"
     ]
    },
    {
     "name": "stderr",
     "output_type": "stream",
     "text": [
      " 73%|█████████████████████████████████████████████████████████                     | 1807/2470 [01:29<00:28, 22.86it/s]"
     ]
    },
    {
     "name": "stdout",
     "output_type": "stream",
     "text": [
      "이미지가 다운로드되었습니다.\n",
      "이미지가 다운로드되었습니다.\n",
      "이미지가 다운로드되었습니다.\n",
      "이미지가 다운로드되었습니다.\n",
      "이미지가 다운로드되었습니다.\n"
     ]
    },
    {
     "name": "stderr",
     "output_type": "stream",
     "text": [
      "\r",
      " 73%|█████████████████████████████████████████████████████████▏                    | 1810/2470 [01:29<00:29, 22.29it/s]"
     ]
    },
    {
     "name": "stdout",
     "output_type": "stream",
     "text": [
      "이미지가 다운로드되었습니다.\n",
      "이미지가 다운로드되었습니다.\n",
      "이미지가 다운로드되었습니다.\n",
      "이미지가 다운로드되었습니다.\n"
     ]
    },
    {
     "name": "stderr",
     "output_type": "stream",
     "text": [
      " 74%|█████████████████████████████████████████████████████████▎                    | 1816/2470 [01:30<00:33, 19.39it/s]"
     ]
    },
    {
     "name": "stdout",
     "output_type": "stream",
     "text": [
      "이미지가 다운로드되었습니다.\n",
      "이미지가 다운로드되었습니다.\n",
      "이미지가 다운로드되었습니다.\n",
      "이미지가 다운로드되었습니다.\n"
     ]
    },
    {
     "name": "stderr",
     "output_type": "stream",
     "text": [
      "\r",
      " 74%|█████████████████████████████████████████████████████████▍                    | 1819/2470 [01:30<00:36, 18.02it/s]"
     ]
    },
    {
     "name": "stdout",
     "output_type": "stream",
     "text": [
      "이미지가 다운로드되었습니다.\n",
      "이미지가 다운로드되었습니다.\n",
      "이미지가 다운로드되었습니다.\n",
      "이미지가 다운로드되었습니다.\n"
     ]
    },
    {
     "name": "stderr",
     "output_type": "stream",
     "text": [
      " 74%|█████████████████████████████████████████████████████████▋                    | 1825/2470 [01:30<00:31, 20.41it/s]"
     ]
    },
    {
     "name": "stdout",
     "output_type": "stream",
     "text": [
      "이미지가 다운로드되었습니다.\n",
      "이미지가 다운로드되었습니다.\n",
      "이미지가 다운로드되었습니다.\n",
      "이미지가 다운로드되었습니다.\n",
      "이미지가 다운로드되었습니다.\n"
     ]
    },
    {
     "name": "stderr",
     "output_type": "stream",
     "text": [
      " 74%|█████████████████████████████████████████████████████████▊                    | 1831/2470 [01:30<00:27, 23.05it/s]"
     ]
    },
    {
     "name": "stdout",
     "output_type": "stream",
     "text": [
      "이미지가 다운로드되었습니다.\n",
      "이미지가 다운로드되었습니다.\n",
      "이미지가 다운로드되었습니다.\n",
      "이미지가 다운로드되었습니다.\n",
      "이미지가 다운로드되었습니다.\n",
      "이미지가 다운로드되었습니다.\n",
      "이미지가 다운로드되었습니다.\n"
     ]
    },
    {
     "name": "stderr",
     "output_type": "stream",
     "text": [
      " 74%|██████████████████████████████████████████████████████████                    | 1837/2470 [01:31<00:28, 22.43it/s]"
     ]
    },
    {
     "name": "stdout",
     "output_type": "stream",
     "text": [
      "이미지가 다운로드되었습니다.\n",
      "이미지가 다운로드되었습니다.\n",
      "이미지가 다운로드되었습니다.\n",
      "이미지가 다운로드되었습니다.\n",
      "이미지가 다운로드되었습니다.\n"
     ]
    },
    {
     "name": "stderr",
     "output_type": "stream",
     "text": [
      "\r",
      " 74%|██████████████████████████████████████████████████████████                    | 1840/2470 [01:31<00:31, 19.71it/s]"
     ]
    },
    {
     "name": "stdout",
     "output_type": "stream",
     "text": [
      "이미지가 다운로드되었습니다.\n",
      "이미지가 다운로드되었습니다.\n",
      "이미지가 다운로드되었습니다.\n",
      "이미지가 다운로드되었습니다.\n",
      "이미지가 다운로드되었습니다.\n"
     ]
    },
    {
     "name": "stderr",
     "output_type": "stream",
     "text": [
      " 75%|██████████████████████████████████████████████████████████▎                   | 1846/2470 [01:31<00:29, 21.17it/s]"
     ]
    },
    {
     "name": "stdout",
     "output_type": "stream",
     "text": [
      "이미지가 다운로드되었습니다.\n",
      "이미지가 다운로드되었습니다.\n",
      "이미지가 다운로드되었습니다.\n",
      "이미지가 다운로드되었습니다.\n",
      "이미지가 다운로드되었습니다.\n"
     ]
    },
    {
     "name": "stderr",
     "output_type": "stream",
     "text": [
      " 75%|██████████████████████████████████████████████████████████▍                   | 1852/2470 [01:31<00:28, 21.48it/s]"
     ]
    },
    {
     "name": "stdout",
     "output_type": "stream",
     "text": [
      "이미지가 다운로드되었습니다.\n",
      "이미지가 다운로드되었습니다.\n",
      "이미지가 다운로드되었습니다.\n",
      "이미지가 다운로드되었습니다.\n",
      "이미지가 다운로드되었습니다.\n"
     ]
    },
    {
     "name": "stderr",
     "output_type": "stream",
     "text": [
      "\r",
      " 75%|██████████████████████████████████████████████████████████▌                   | 1855/2470 [01:32<00:28, 21.59it/s]"
     ]
    },
    {
     "name": "stdout",
     "output_type": "stream",
     "text": [
      "이미지가 다운로드되었습니다.\n",
      "이미지가 다운로드되었습니다.\n",
      "이미지가 다운로드되었습니다.\n",
      "이미지가 다운로드되었습니다.\n",
      "이미지가 다운로드되었습니다.\n"
     ]
    },
    {
     "name": "stderr",
     "output_type": "stream",
     "text": [
      " 75%|██████████████████████████████████████████████████████████▊                   | 1861/2470 [01:32<00:28, 21.65it/s]"
     ]
    },
    {
     "name": "stdout",
     "output_type": "stream",
     "text": [
      "이미지가 다운로드되었습니다.\n",
      "이미지가 다운로드되었습니다.\n",
      "이미지가 다운로드되었습니다.\n",
      "이미지가 다운로드되었습니다.\n",
      "이미지가 다운로드되었습니다.\n"
     ]
    },
    {
     "name": "stderr",
     "output_type": "stream",
     "text": [
      " 76%|██████████████████████████████████████████████████████████▉                   | 1867/2470 [01:32<00:26, 22.60it/s]"
     ]
    },
    {
     "name": "stdout",
     "output_type": "stream",
     "text": [
      "이미지가 다운로드되었습니다.\n",
      "이미지가 다운로드되었습니다.\n",
      "이미지가 다운로드되었습니다.\n",
      "이미지가 다운로드되었습니다.\n",
      "이미지가 다운로드되었습니다.\n"
     ]
    },
    {
     "name": "stderr",
     "output_type": "stream",
     "text": [
      "\r",
      " 76%|███████████████████████████████████████████████████████████                   | 1870/2470 [01:32<00:26, 22.24it/s]"
     ]
    },
    {
     "name": "stdout",
     "output_type": "stream",
     "text": [
      "이미지가 다운로드되었습니다.\n",
      "이미지가 다운로드되었습니다.\n",
      "이미지가 다운로드되었습니다.\n",
      "이미지가 다운로드되었습니다.\n",
      "이미지가 다운로드되었습니다.\n"
     ]
    },
    {
     "name": "stderr",
     "output_type": "stream",
     "text": [
      " 76%|███████████████████████████████████████████████████████████▏                  | 1876/2470 [01:32<00:25, 23.37it/s]"
     ]
    },
    {
     "name": "stdout",
     "output_type": "stream",
     "text": [
      "이미지가 다운로드되었습니다.\n",
      "이미지가 다운로드되었습니다.\n",
      "이미지가 다운로드되었습니다.\n",
      "이미지가 다운로드되었습니다.\n",
      "이미지가 다운로드되었습니다.\n",
      "이미지가 다운로드되었습니다.\n"
     ]
    },
    {
     "name": "stderr",
     "output_type": "stream",
     "text": [
      " 76%|███████████████████████████████████████████████████████████▍                  | 1882/2470 [01:33<00:25, 22.86it/s]"
     ]
    },
    {
     "name": "stdout",
     "output_type": "stream",
     "text": [
      "이미지가 다운로드되었습니다.\n",
      "이미지가 다운로드되었습니다.\n",
      "이미지가 다운로드되었습니다.\n",
      "이미지가 다운로드되었습니다.\n",
      "이미지가 다운로드되었습니다.\n"
     ]
    },
    {
     "name": "stderr",
     "output_type": "stream",
     "text": [
      " 76%|███████████████████████████████████████████████████████████▌                  | 1888/2470 [01:33<00:25, 23.13it/s]"
     ]
    },
    {
     "name": "stdout",
     "output_type": "stream",
     "text": [
      "이미지가 다운로드되었습니다.\n",
      "이미지가 다운로드되었습니다.\n",
      "이미지가 다운로드되었습니다.\n",
      "이미지가 다운로드되었습니다.\n",
      "이미지가 다운로드되었습니다.\n"
     ]
    },
    {
     "name": "stderr",
     "output_type": "stream",
     "text": [
      "\r",
      " 77%|███████████████████████████████████████████████████████████▋                  | 1891/2470 [01:33<00:26, 22.14it/s]"
     ]
    },
    {
     "name": "stdout",
     "output_type": "stream",
     "text": [
      "이미지가 다운로드되었습니다.\n",
      "이미지가 다운로드되었습니다.\n",
      "이미지가 다운로드되었습니다.\n",
      "이미지가 다운로드되었습니다.\n",
      "이미지가 다운로드되었습니다.\n"
     ]
    },
    {
     "name": "stderr",
     "output_type": "stream",
     "text": [
      " 77%|███████████████████████████████████████████████████████████▉                  | 1897/2470 [01:33<00:25, 22.81it/s]"
     ]
    },
    {
     "name": "stdout",
     "output_type": "stream",
     "text": [
      "이미지가 다운로드되었습니다.\n",
      "이미지가 다운로드되었습니다.\n",
      "이미지가 다운로드되었습니다.\n",
      "이미지가 다운로드되었습니다.\n",
      "이미지가 다운로드되었습니다.\n"
     ]
    },
    {
     "name": "stderr",
     "output_type": "stream",
     "text": [
      " 77%|████████████████████████████████████████████████████████████                  | 1903/2470 [01:34<00:25, 22.62it/s]"
     ]
    },
    {
     "name": "stdout",
     "output_type": "stream",
     "text": [
      "이미지가 다운로드되었습니다.\n",
      "이미지가 다운로드되었습니다.\n",
      "이미지가 다운로드되었습니다.\n",
      "이미지가 다운로드되었습니다.\n",
      "이미지가 다운로드되었습니다.\n",
      "이미지가 다운로드되었습니다.\n"
     ]
    },
    {
     "name": "stderr",
     "output_type": "stream",
     "text": [
      " 77%|████████████████████████████████████████████████████████████▎                 | 1909/2470 [01:34<00:23, 23.90it/s]"
     ]
    },
    {
     "name": "stdout",
     "output_type": "stream",
     "text": [
      "이미지가 다운로드되었습니다.\n",
      "이미지가 다운로드되었습니다.\n",
      "이미지가 다운로드되었습니다.\n",
      "이미지가 다운로드되었습니다.\n",
      "이미지가 다운로드되었습니다.\n",
      "이미지가 다운로드되었습니다.\n"
     ]
    },
    {
     "name": "stderr",
     "output_type": "stream",
     "text": [
      " 78%|████████████████████████████████████████████████████████████▍                 | 1915/2470 [01:34<00:23, 24.01it/s]"
     ]
    },
    {
     "name": "stdout",
     "output_type": "stream",
     "text": [
      "이미지가 다운로드되었습니다.\n",
      "이미지가 다운로드되었습니다.\n",
      "이미지가 다운로드되었습니다.\n",
      "이미지가 다운로드되었습니다.\n",
      "이미지가 다운로드되었습니다.\n"
     ]
    },
    {
     "name": "stderr",
     "output_type": "stream",
     "text": [
      "\r",
      " 78%|████████████████████████████████████████████████████████████▌                 | 1918/2470 [01:34<00:22, 24.27it/s]"
     ]
    },
    {
     "name": "stdout",
     "output_type": "stream",
     "text": [
      "이미지가 다운로드되었습니다.\n",
      "이미지가 다운로드되었습니다.\n",
      "이미지가 다운로드되었습니다.\n",
      "이미지가 다운로드되었습니다.\n",
      "이미지가 다운로드되었습니다.\n"
     ]
    },
    {
     "name": "stderr",
     "output_type": "stream",
     "text": [
      " 78%|████████████████████████████████████████████████████████████▊                 | 1924/2470 [01:34<00:22, 23.92it/s]"
     ]
    },
    {
     "name": "stdout",
     "output_type": "stream",
     "text": [
      "이미지가 다운로드되었습니다.\n",
      "이미지가 다운로드되었습니다.\n",
      "이미지가 다운로드되었습니다.\n",
      "이미지가 다운로드되었습니다.\n",
      "이미지가 다운로드되었습니다.\n"
     ]
    },
    {
     "name": "stderr",
     "output_type": "stream",
     "text": [
      " 78%|████████████████████████████████████████████████████████████▉                 | 1930/2470 [01:35<00:24, 21.62it/s]"
     ]
    },
    {
     "name": "stdout",
     "output_type": "stream",
     "text": [
      "이미지가 다운로드되었습니다.\n",
      "이미지가 다운로드되었습니다.\n",
      "이미지가 다운로드되었습니다.\n",
      "이미지가 다운로드되었습니다.\n",
      "이미지가 다운로드되었습니다.\n"
     ]
    },
    {
     "name": "stderr",
     "output_type": "stream",
     "text": [
      "\r",
      " 78%|█████████████████████████████████████████████████████████████                 | 1933/2470 [01:35<00:26, 20.26it/s]"
     ]
    },
    {
     "name": "stdout",
     "output_type": "stream",
     "text": [
      "이미지가 다운로드되었습니다.\n",
      "이미지가 다운로드되었습니다.\n",
      "이미지가 다운로드되었습니다.\n",
      "이미지가 다운로드되었습니다.\n"
     ]
    },
    {
     "name": "stderr",
     "output_type": "stream",
     "text": [
      " 79%|█████████████████████████████████████████████████████████████▏                | 1939/2470 [01:35<00:25, 21.21it/s]"
     ]
    },
    {
     "name": "stdout",
     "output_type": "stream",
     "text": [
      "이미지가 다운로드되었습니다.\n",
      "이미지가 다운로드되었습니다.\n",
      "이미지가 다운로드되었습니다.\n",
      "이미지가 다운로드되었습니다.\n",
      "이미지가 다운로드되었습니다.\n"
     ]
    },
    {
     "name": "stderr",
     "output_type": "stream",
     "text": [
      "\r",
      " 79%|█████████████████████████████████████████████████████████████▎                | 1942/2470 [01:35<00:25, 20.49it/s]"
     ]
    },
    {
     "name": "stdout",
     "output_type": "stream",
     "text": [
      "이미지가 다운로드되었습니다.\n",
      "이미지가 다운로드되었습니다.\n",
      "이미지가 다운로드되었습니다.\n",
      "이미지가 다운로드되었습니다.\n",
      "이미지가 다운로드되었습니다.\n"
     ]
    },
    {
     "name": "stderr",
     "output_type": "stream",
     "text": [
      " 79%|█████████████████████████████████████████████████████████████▌                | 1948/2470 [01:36<00:23, 22.35it/s]"
     ]
    },
    {
     "name": "stdout",
     "output_type": "stream",
     "text": [
      "이미지가 다운로드되었습니다.\n",
      "이미지가 다운로드되었습니다.\n",
      "이미지가 다운로드되었습니다.\n",
      "이미지가 다운로드되었습니다.\n",
      "이미지가 다운로드되었습니다.\n",
      "이미지가 다운로드되었습니다.\n"
     ]
    },
    {
     "name": "stderr",
     "output_type": "stream",
     "text": [
      " 79%|█████████████████████████████████████████████████████████████▋                | 1954/2470 [01:36<00:23, 22.09it/s]"
     ]
    },
    {
     "name": "stdout",
     "output_type": "stream",
     "text": [
      "이미지가 다운로드되었습니다.\n",
      "이미지가 다운로드되었습니다.\n",
      "이미지가 다운로드되었습니다.\n",
      "이미지가 다운로드되었습니다.\n",
      "이미지가 다운로드되었습니다.\n"
     ]
    },
    {
     "name": "stderr",
     "output_type": "stream",
     "text": [
      " 79%|█████████████████████████████████████████████████████████████▉                | 1960/2470 [01:36<00:22, 22.65it/s]"
     ]
    },
    {
     "name": "stdout",
     "output_type": "stream",
     "text": [
      "이미지가 다운로드되었습니다.\n",
      "이미지가 다운로드되었습니다.\n",
      "이미지가 다운로드되었습니다.\n",
      "이미지가 다운로드되었습니다.\n",
      "이미지가 다운로드되었습니다.\n"
     ]
    },
    {
     "name": "stderr",
     "output_type": "stream",
     "text": [
      "\r",
      " 79%|█████████████████████████████████████████████████████████████▉                | 1963/2470 [01:36<00:22, 22.88it/s]"
     ]
    },
    {
     "name": "stdout",
     "output_type": "stream",
     "text": [
      "이미지가 다운로드되었습니다.\n",
      "이미지가 다운로드되었습니다.\n",
      "이미지가 다운로드되었습니다.\n",
      "이미지가 다운로드되었습니다.\n",
      "이미지가 다운로드되었습니다.\n"
     ]
    },
    {
     "name": "stderr",
     "output_type": "stream",
     "text": [
      " 80%|██████████████████████████████████████████████████████████████▏               | 1969/2470 [01:37<00:20, 23.88it/s]"
     ]
    },
    {
     "name": "stdout",
     "output_type": "stream",
     "text": [
      "이미지가 다운로드되었습니다.\n",
      "이미지가 다운로드되었습니다.\n",
      "이미지가 다운로드되었습니다.\n",
      "이미지가 다운로드되었습니다.\n",
      "이미지가 다운로드되었습니다.\n",
      "이미지가 다운로드되었습니다.\n"
     ]
    },
    {
     "name": "stderr",
     "output_type": "stream",
     "text": [
      " 80%|██████████████████████████████████████████████████████████████▎               | 1975/2470 [01:37<00:19, 25.12it/s]"
     ]
    },
    {
     "name": "stdout",
     "output_type": "stream",
     "text": [
      "이미지가 다운로드되었습니다.\n",
      "이미지가 다운로드되었습니다.\n",
      "이미지가 다운로드되었습니다.\n",
      "이미지가 다운로드되었습니다.\n",
      "이미지가 다운로드되었습니다.\n",
      "이미지가 다운로드되었습니다.\n"
     ]
    },
    {
     "name": "stderr",
     "output_type": "stream",
     "text": [
      " 80%|██████████████████████████████████████████████████████████████▌               | 1981/2470 [01:37<00:20, 24.08it/s]"
     ]
    },
    {
     "name": "stdout",
     "output_type": "stream",
     "text": [
      "이미지가 다운로드되었습니다.\n",
      "이미지가 다운로드되었습니다.\n",
      "이미지가 다운로드되었습니다.\n",
      "이미지가 다운로드되었습니다.\n",
      "이미지가 다운로드되었습니다.\n",
      "이미지가 다운로드되었습니다.\n"
     ]
    },
    {
     "name": "stderr",
     "output_type": "stream",
     "text": [
      " 80%|██████████████████████████████████████████████████████████████▋               | 1987/2470 [01:37<00:18, 25.66it/s]"
     ]
    },
    {
     "name": "stdout",
     "output_type": "stream",
     "text": [
      "이미지가 다운로드되었습니다.\n",
      "이미지가 다운로드되었습니다.\n",
      "이미지가 다운로드되었습니다.\n",
      "이미지가 다운로드되었습니다.\n",
      "이미지가 다운로드되었습니다.\n",
      "이미지가 다운로드되었습니다.\n"
     ]
    },
    {
     "name": "stderr",
     "output_type": "stream",
     "text": [
      " 81%|██████████████████████████████████████████████████████████████▉               | 1993/2470 [01:37<00:19, 24.88it/s]"
     ]
    },
    {
     "name": "stdout",
     "output_type": "stream",
     "text": [
      "이미지가 다운로드되었습니다.\n",
      "이미지가 다운로드되었습니다.\n",
      "이미지가 다운로드되었습니다.\n",
      "이미지가 다운로드되었습니다.\n",
      "이미지가 다운로드되었습니다.\n"
     ]
    },
    {
     "name": "stderr",
     "output_type": "stream",
     "text": [
      " 81%|███████████████████████████████████████████████████████████████▏              | 1999/2470 [01:38<00:20, 22.93it/s]"
     ]
    },
    {
     "name": "stdout",
     "output_type": "stream",
     "text": [
      "이미지가 다운로드되었습니다.\n",
      "이미지가 다운로드되었습니다.\n",
      "이미지가 다운로드되었습니다.\n",
      "이미지가 다운로드되었습니다.\n",
      "이미지가 다운로드되었습니다.\n"
     ]
    },
    {
     "name": "stderr",
     "output_type": "stream",
     "text": [
      " 81%|███████████████████████████████████████████████████████████████▎              | 2005/2470 [01:38<00:19, 23.47it/s]"
     ]
    },
    {
     "name": "stdout",
     "output_type": "stream",
     "text": [
      "이미지가 다운로드되었습니다.\n",
      "이미지가 다운로드되었습니다.\n",
      "이미지가 다운로드되었습니다.\n",
      "이미지가 다운로드되었습니다.\n",
      "이미지가 다운로드되었습니다.\n",
      "이미지가 다운로드되었습니다.\n"
     ]
    },
    {
     "name": "stderr",
     "output_type": "stream",
     "text": [
      " 81%|███████████████████████████████████████████████████████████████▌              | 2011/2470 [01:38<00:18, 24.40it/s]"
     ]
    },
    {
     "name": "stdout",
     "output_type": "stream",
     "text": [
      "이미지가 다운로드되었습니다.\n",
      "이미지가 다운로드되었습니다.\n",
      "이미지가 다운로드되었습니다.\n",
      "이미지가 다운로드되었습니다.\n",
      "이미지가 다운로드되었습니다.\n",
      "이미지가 다운로드되었습니다.\n"
     ]
    },
    {
     "name": "stderr",
     "output_type": "stream",
     "text": [
      " 82%|███████████████████████████████████████████████████████████████▋              | 2017/2470 [01:38<00:18, 24.91it/s]"
     ]
    },
    {
     "name": "stdout",
     "output_type": "stream",
     "text": [
      "이미지가 다운로드되었습니다.\n",
      "이미지가 다운로드되었습니다.\n",
      "이미지가 다운로드되었습니다.\n",
      "이미지가 다운로드되었습니다.\n",
      "이미지가 다운로드되었습니다.\n",
      "이미지가 다운로드되었습니다.\n"
     ]
    },
    {
     "name": "stderr",
     "output_type": "stream",
     "text": [
      " 82%|███████████████████████████████████████████████████████████████▉              | 2023/2470 [01:39<00:18, 24.56it/s]"
     ]
    },
    {
     "name": "stdout",
     "output_type": "stream",
     "text": [
      "이미지가 다운로드되었습니다.\n",
      "이미지가 다운로드되었습니다.\n",
      "이미지가 다운로드되었습니다.\n",
      "이미지가 다운로드되었습니다.\n",
      "이미지가 다운로드되었습니다.\n",
      "이미지가 다운로드되었습니다.\n"
     ]
    },
    {
     "name": "stderr",
     "output_type": "stream",
     "text": [
      "\r",
      " 82%|███████████████████████████████████████████████████████████████▉              | 2026/2470 [01:39<00:18, 24.39it/s]"
     ]
    },
    {
     "name": "stdout",
     "output_type": "stream",
     "text": [
      "이미지가 다운로드되었습니다.\n",
      "이미지가 다운로드되었습니다.\n",
      "이미지가 다운로드되었습니다.\n",
      "이미지가 다운로드되었습니다.\n",
      "이미지가 다운로드되었습니다.\n"
     ]
    },
    {
     "name": "stderr",
     "output_type": "stream",
     "text": [
      " 82%|████████████████████████████████████████████████████████████████▏             | 2032/2470 [01:39<00:17, 24.71it/s]"
     ]
    },
    {
     "name": "stdout",
     "output_type": "stream",
     "text": [
      "이미지가 다운로드되었습니다.\n",
      "이미지가 다운로드되었습니다.\n",
      "이미지가 다운로드되었습니다.\n",
      "이미지가 다운로드되었습니다.\n",
      "이미지가 다운로드되었습니다.\n",
      "이미지가 다운로드되었습니다.\n"
     ]
    },
    {
     "name": "stderr",
     "output_type": "stream",
     "text": [
      " 83%|████████████████████████████████████████████████████████████████▎             | 2038/2470 [01:39<00:16, 25.80it/s]"
     ]
    },
    {
     "name": "stdout",
     "output_type": "stream",
     "text": [
      "이미지가 다운로드되었습니다.\n",
      "이미지가 다운로드되었습니다.\n",
      "이미지가 다운로드되었습니다.\n",
      "이미지가 다운로드되었습니다.\n",
      "이미지가 다운로드되었습니다.\n",
      "이미지가 다운로드되었습니다.\n"
     ]
    },
    {
     "name": "stderr",
     "output_type": "stream",
     "text": [
      " 83%|████████████████████████████████████████████████████████████████▌             | 2044/2470 [01:40<00:16, 25.94it/s]"
     ]
    },
    {
     "name": "stdout",
     "output_type": "stream",
     "text": [
      "이미지가 다운로드되었습니다.\n",
      "이미지가 다운로드되었습니다.\n",
      "이미지가 다운로드되었습니다.\n",
      "이미지가 다운로드되었습니다.\n",
      "이미지가 다운로드되었습니다.\n"
     ]
    },
    {
     "name": "stderr",
     "output_type": "stream",
     "text": [
      " 83%|████████████████████████████████████████████████████████████████▋             | 2050/2470 [01:40<00:16, 25.06it/s]"
     ]
    },
    {
     "name": "stdout",
     "output_type": "stream",
     "text": [
      "이미지가 다운로드되었습니다.\n",
      "이미지가 다운로드되었습니다.\n",
      "이미지가 다운로드되었습니다.\n",
      "이미지가 다운로드되었습니다.\n",
      "이미지가 다운로드되었습니다.\n",
      "이미지가 다운로드되었습니다.\n"
     ]
    },
    {
     "name": "stderr",
     "output_type": "stream",
     "text": [
      " 83%|████████████████████████████████████████████████████████████████▉             | 2056/2470 [01:40<00:17, 24.30it/s]"
     ]
    },
    {
     "name": "stdout",
     "output_type": "stream",
     "text": [
      "이미지가 다운로드되었습니다.\n",
      "이미지가 다운로드되었습니다.\n",
      "이미지가 다운로드되었습니다.\n",
      "이미지가 다운로드되었습니다.\n",
      "이미지가 다운로드되었습니다.\n"
     ]
    },
    {
     "name": "stderr",
     "output_type": "stream",
     "text": [
      "\r",
      " 83%|█████████████████████████████████████████████████████████████████             | 2059/2470 [01:40<00:17, 23.13it/s]"
     ]
    },
    {
     "name": "stdout",
     "output_type": "stream",
     "text": [
      "이미지가 다운로드되었습니다.\n",
      "이미지가 다운로드되었습니다.\n",
      "이미지가 다운로드되었습니다.\n",
      "이미지가 다운로드되었습니다.\n",
      "이미지가 다운로드되었습니다.\n"
     ]
    },
    {
     "name": "stderr",
     "output_type": "stream",
     "text": [
      " 84%|█████████████████████████████████████████████████████████████████▏            | 2065/2470 [01:40<00:18, 22.27it/s]"
     ]
    },
    {
     "name": "stdout",
     "output_type": "stream",
     "text": [
      "이미지가 다운로드되었습니다.\n",
      "이미지가 다운로드되었습니다.\n",
      "이미지가 다운로드되었습니다.\n",
      "이미지가 다운로드되었습니다.\n",
      "이미지가 다운로드되었습니다.\n",
      "이미지가 다운로드되었습니다.\n"
     ]
    },
    {
     "name": "stderr",
     "output_type": "stream",
     "text": [
      " 84%|█████████████████████████████████████████████████████████████████▍            | 2071/2470 [01:41<00:16, 23.77it/s]"
     ]
    },
    {
     "name": "stdout",
     "output_type": "stream",
     "text": [
      "이미지가 다운로드되었습니다.\n",
      "이미지가 다운로드되었습니다.\n",
      "이미지가 다운로드되었습니다.\n",
      "이미지가 다운로드되었습니다.\n",
      "이미지가 다운로드되었습니다.\n",
      "이미지가 다운로드되었습니다.\n"
     ]
    },
    {
     "name": "stderr",
     "output_type": "stream",
     "text": [
      " 84%|█████████████████████████████████████████████████████████████████▌            | 2077/2470 [01:41<00:15, 24.84it/s]"
     ]
    },
    {
     "name": "stdout",
     "output_type": "stream",
     "text": [
      "이미지가 다운로드되었습니다.\n",
      "이미지가 다운로드되었습니다.\n",
      "이미지가 다운로드되었습니다.\n",
      "이미지가 다운로드되었습니다.\n",
      "이미지가 다운로드되었습니다.\n",
      "이미지가 다운로드되었습니다.\n"
     ]
    },
    {
     "name": "stderr",
     "output_type": "stream",
     "text": [
      " 84%|█████████████████████████████████████████████████████████████████▊            | 2083/2470 [01:41<00:15, 24.70it/s]"
     ]
    },
    {
     "name": "stdout",
     "output_type": "stream",
     "text": [
      "이미지가 다운로드되었습니다.\n",
      "이미지가 다운로드되었습니다.\n",
      "이미지가 다운로드되었습니다.\n",
      "이미지가 다운로드되었습니다.\n",
      "이미지가 다운로드되었습니다.\n",
      "이미지가 다운로드되었습니다.\n"
     ]
    },
    {
     "name": "stderr",
     "output_type": "stream",
     "text": [
      " 85%|█████████████████████████████████████████████████████████████████▉            | 2089/2470 [01:41<00:15, 25.36it/s]"
     ]
    },
    {
     "name": "stdout",
     "output_type": "stream",
     "text": [
      "이미지가 다운로드되었습니다.\n",
      "이미지가 다운로드되었습니다.\n",
      "이미지가 다운로드되었습니다.\n",
      "이미지가 다운로드되었습니다.\n",
      "이미지가 다운로드되었습니다.\n",
      "이미지가 다운로드되었습니다.\n"
     ]
    },
    {
     "name": "stderr",
     "output_type": "stream",
     "text": [
      " 85%|██████████████████████████████████████████████████████████████████▏           | 2095/2470 [01:42<00:14, 25.78it/s]"
     ]
    },
    {
     "name": "stdout",
     "output_type": "stream",
     "text": [
      "이미지가 다운로드되었습니다.\n",
      "이미지가 다운로드되었습니다.\n",
      "이미지가 다운로드되었습니다.\n",
      "이미지가 다운로드되었습니다.\n",
      "이미지가 다운로드되었습니다.\n",
      "이미지가 다운로드되었습니다.\n"
     ]
    },
    {
     "name": "stderr",
     "output_type": "stream",
     "text": [
      " 85%|██████████████████████████████████████████████████████████████████▎           | 2101/2470 [01:42<00:14, 25.75it/s]"
     ]
    },
    {
     "name": "stdout",
     "output_type": "stream",
     "text": [
      "이미지가 다운로드되었습니다.\n",
      "이미지가 다운로드되었습니다.\n",
      "이미지가 다운로드되었습니다.\n",
      "이미지가 다운로드되었습니다.\n",
      "이미지가 다운로드되었습니다.\n",
      "이미지가 다운로드되었습니다.\n"
     ]
    },
    {
     "name": "stderr",
     "output_type": "stream",
     "text": [
      " 85%|██████████████████████████████████████████████████████████████████▌           | 2107/2470 [01:42<00:14, 25.39it/s]"
     ]
    },
    {
     "name": "stdout",
     "output_type": "stream",
     "text": [
      "이미지가 다운로드되었습니다.\n",
      "이미지가 다운로드되었습니다.\n",
      "이미지가 다운로드되었습니다.\n",
      "이미지가 다운로드되었습니다.\n",
      "이미지가 다운로드되었습니다.\n",
      "이미지가 다운로드되었습니다.\n"
     ]
    },
    {
     "name": "stderr",
     "output_type": "stream",
     "text": [
      " 86%|██████████████████████████████████████████████████████████████████▋           | 2113/2470 [01:42<00:13, 25.79it/s]"
     ]
    },
    {
     "name": "stdout",
     "output_type": "stream",
     "text": [
      "이미지가 다운로드되었습니다.\n",
      "이미지가 다운로드되었습니다.\n",
      "이미지가 다운로드되었습니다.\n",
      "이미지가 다운로드되었습니다.\n",
      "이미지가 다운로드되었습니다.\n",
      "이미지가 다운로드되었습니다.\n"
     ]
    },
    {
     "name": "stderr",
     "output_type": "stream",
     "text": [
      " 86%|██████████████████████████████████████████████████████████████████▉           | 2119/2470 [01:43<00:13, 26.33it/s]"
     ]
    },
    {
     "name": "stdout",
     "output_type": "stream",
     "text": [
      "이미지가 다운로드되었습니다.\n",
      "이미지가 다운로드되었습니다.\n",
      "이미지가 다운로드되었습니다.\n",
      "이미지가 다운로드되었습니다.\n",
      "이미지가 다운로드되었습니다.\n"
     ]
    },
    {
     "name": "stderr",
     "output_type": "stream",
     "text": [
      " 86%|███████████████████████████████████████████████████████████████████           | 2125/2470 [01:43<00:13, 25.85it/s]"
     ]
    },
    {
     "name": "stdout",
     "output_type": "stream",
     "text": [
      "이미지가 다운로드되었습니다.\n",
      "이미지가 다운로드되었습니다.\n",
      "이미지가 다운로드되었습니다.\n",
      "이미지가 다운로드되었습니다.\n",
      "이미지가 다운로드되었습니다.\n",
      "이미지가 다운로드되었습니다.\n"
     ]
    },
    {
     "name": "stderr",
     "output_type": "stream",
     "text": [
      " 86%|███████████████████████████████████████████████████████████████████▎          | 2131/2470 [01:43<00:13, 24.34it/s]"
     ]
    },
    {
     "name": "stdout",
     "output_type": "stream",
     "text": [
      "이미지가 다운로드되었습니다.\n",
      "이미지가 다운로드되었습니다.\n",
      "이미지가 다운로드되었습니다.\n",
      "이미지가 다운로드되었습니다.\n",
      "이미지가 다운로드되었습니다.\n"
     ]
    },
    {
     "name": "stderr",
     "output_type": "stream",
     "text": [
      " 87%|███████████████████████████████████████████████████████████████████▍          | 2137/2470 [01:43<00:13, 24.60it/s]"
     ]
    },
    {
     "name": "stdout",
     "output_type": "stream",
     "text": [
      "이미지가 다운로드되었습니다.\n",
      "이미지가 다운로드되었습니다.\n",
      "이미지가 다운로드되었습니다.\n",
      "이미지가 다운로드되었습니다.\n",
      "이미지가 다운로드되었습니다.\n",
      "이미지가 다운로드되었습니다.\n"
     ]
    },
    {
     "name": "stderr",
     "output_type": "stream",
     "text": [
      " 87%|███████████████████████████████████████████████████████████████████▋          | 2143/2470 [01:44<00:12, 25.46it/s]"
     ]
    },
    {
     "name": "stdout",
     "output_type": "stream",
     "text": [
      "이미지가 다운로드되었습니다.\n",
      "이미지가 다운로드되었습니다.\n",
      "이미지가 다운로드되었습니다.\n",
      "이미지가 다운로드되었습니다.\n",
      "이미지가 다운로드되었습니다.\n",
      "이미지가 다운로드되었습니다.\n"
     ]
    },
    {
     "name": "stderr",
     "output_type": "stream",
     "text": [
      " 87%|███████████████████████████████████████████████████████████████████▊          | 2149/2470 [01:44<00:12, 25.87it/s]"
     ]
    },
    {
     "name": "stdout",
     "output_type": "stream",
     "text": [
      "이미지가 다운로드되었습니다.\n",
      "이미지가 다운로드되었습니다.\n",
      "이미지가 다운로드되었습니다.\n",
      "이미지가 다운로드되었습니다.\n",
      "이미지가 다운로드되었습니다.\n",
      "이미지가 다운로드되었습니다.\n"
     ]
    },
    {
     "name": "stderr",
     "output_type": "stream",
     "text": [
      " 87%|████████████████████████████████████████████████████████████████████          | 2155/2470 [01:44<00:12, 25.87it/s]"
     ]
    },
    {
     "name": "stdout",
     "output_type": "stream",
     "text": [
      "이미지가 다운로드되었습니다.\n",
      "이미지가 다운로드되었습니다.\n",
      "이미지가 다운로드되었습니다.\n",
      "이미지가 다운로드되었습니다.\n",
      "이미지가 다운로드되었습니다.\n",
      "이미지가 다운로드되었습니다.\n"
     ]
    },
    {
     "name": "stderr",
     "output_type": "stream",
     "text": [
      "\r",
      " 87%|████████████████████████████████████████████████████████████████████▏         | 2158/2470 [01:44<00:12, 25.87it/s]"
     ]
    },
    {
     "name": "stdout",
     "output_type": "stream",
     "text": [
      "이미지가 다운로드되었습니다.\n",
      "이미지가 다운로드되었습니다.\n",
      "이미지가 다운로드되었습니다.\n",
      "이미지가 다운로드되었습니다.\n",
      "이미지가 다운로드되었습니다.\n"
     ]
    },
    {
     "name": "stderr",
     "output_type": "stream",
     "text": [
      " 88%|████████████████████████████████████████████████████████████████████▎         | 2164/2470 [01:44<00:12, 24.91it/s]"
     ]
    },
    {
     "name": "stdout",
     "output_type": "stream",
     "text": [
      "이미지가 다운로드되었습니다.\n",
      "이미지가 다운로드되었습니다.\n",
      "이미지가 다운로드되었습니다.\n",
      "이미지가 다운로드되었습니다.\n",
      "이미지가 다운로드되었습니다.\n"
     ]
    },
    {
     "name": "stderr",
     "output_type": "stream",
     "text": [
      " 88%|████████████████████████████████████████████████████████████████████▌         | 2170/2470 [01:45<00:12, 24.37it/s]"
     ]
    },
    {
     "name": "stdout",
     "output_type": "stream",
     "text": [
      "이미지가 다운로드되었습니다.\n",
      "이미지가 다운로드되었습니다.\n",
      "이미지가 다운로드되었습니다.\n",
      "이미지가 다운로드되었습니다.\n",
      "이미지가 다운로드되었습니다.\n",
      "이미지가 다운로드되었습니다.\n"
     ]
    },
    {
     "name": "stderr",
     "output_type": "stream",
     "text": [
      " 88%|████████████████████████████████████████████████████████████████████▋         | 2176/2470 [01:45<00:11, 24.72it/s]"
     ]
    },
    {
     "name": "stdout",
     "output_type": "stream",
     "text": [
      "이미지가 다운로드되었습니다.\n",
      "이미지가 다운로드되었습니다.\n",
      "이미지가 다운로드되었습니다.\n",
      "이미지가 다운로드되었습니다.\n",
      "이미지가 다운로드되었습니다.\n"
     ]
    },
    {
     "name": "stderr",
     "output_type": "stream",
     "text": [
      " 88%|████████████████████████████████████████████████████████████████████▉         | 2182/2470 [01:45<00:11, 24.49it/s]"
     ]
    },
    {
     "name": "stdout",
     "output_type": "stream",
     "text": [
      "이미지가 다운로드되었습니다.\n",
      "이미지가 다운로드되었습니다.\n",
      "이미지가 다운로드되었습니다.\n",
      "이미지가 다운로드되었습니다.\n",
      "이미지가 다운로드되었습니다.\n",
      "이미지가 다운로드되었습니다.\n"
     ]
    },
    {
     "name": "stderr",
     "output_type": "stream",
     "text": [
      " 89%|█████████████████████████████████████████████████████████████████████         | 2188/2470 [01:45<00:11, 25.38it/s]"
     ]
    },
    {
     "name": "stdout",
     "output_type": "stream",
     "text": [
      "이미지가 다운로드되었습니다.\n",
      "이미지가 다운로드되었습니다.\n",
      "이미지가 다운로드되었습니다.\n",
      "이미지가 다운로드되었습니다.\n",
      "이미지가 다운로드되었습니다.\n",
      "이미지가 다운로드되었습니다.\n"
     ]
    },
    {
     "name": "stderr",
     "output_type": "stream",
     "text": [
      "\r",
      " 89%|█████████████████████████████████████████████████████████████████████▏        | 2191/2470 [01:45<00:10, 25.66it/s]"
     ]
    },
    {
     "name": "stdout",
     "output_type": "stream",
     "text": [
      "이미지가 다운로드되었습니다.\n",
      "이미지가 다운로드되었습니다.\n",
      "이미지가 다운로드되었습니다.\n",
      "이미지가 다운로드되었습니다.\n",
      "이미지가 다운로드되었습니다.\n"
     ]
    },
    {
     "name": "stderr",
     "output_type": "stream",
     "text": [
      " 89%|█████████████████████████████████████████████████████████████████████▍        | 2197/2470 [01:46<00:11, 23.76it/s]"
     ]
    },
    {
     "name": "stdout",
     "output_type": "stream",
     "text": [
      "이미지가 다운로드되었습니다.\n",
      "이미지가 다운로드되었습니다.\n",
      "이미지가 다운로드되었습니다.\n",
      "이미지가 다운로드되었습니다.\n",
      "이미지가 다운로드되었습니다.\n"
     ]
    },
    {
     "name": "stderr",
     "output_type": "stream",
     "text": [
      " 89%|█████████████████████████████████████████████████████████████████████▌        | 2203/2470 [01:46<00:10, 24.62it/s]"
     ]
    },
    {
     "name": "stdout",
     "output_type": "stream",
     "text": [
      "이미지가 다운로드되었습니다.\n",
      "이미지가 다운로드되었습니다.\n",
      "이미지가 다운로드되었습니다.\n",
      "이미지가 다운로드되었습니다.\n",
      "이미지가 다운로드되었습니다.\n",
      "이미지가 다운로드되었습니다.\n"
     ]
    },
    {
     "name": "stderr",
     "output_type": "stream",
     "text": [
      " 89%|█████████████████████████████████████████████████████████████████████▊        | 2209/2470 [01:46<00:10, 24.85it/s]"
     ]
    },
    {
     "name": "stdout",
     "output_type": "stream",
     "text": [
      "이미지가 다운로드되었습니다.\n",
      "이미지가 다운로드되었습니다.\n",
      "이미지가 다운로드되었습니다.\n",
      "이미지가 다운로드되었습니다.\n",
      "이미지가 다운로드되었습니다.\n",
      "이미지가 다운로드되었습니다.\n"
     ]
    },
    {
     "name": "stderr",
     "output_type": "stream",
     "text": [
      " 90%|█████████████████████████████████████████████████████████████████████▉        | 2215/2470 [01:46<00:09, 25.54it/s]"
     ]
    },
    {
     "name": "stdout",
     "output_type": "stream",
     "text": [
      "이미지가 다운로드되었습니다.\n",
      "이미지가 다운로드되었습니다.\n",
      "이미지가 다운로드되었습니다.\n",
      "이미지가 다운로드되었습니다.\n",
      "이미지가 다운로드되었습니다.\n",
      "이미지가 다운로드되었습니다.\n"
     ]
    },
    {
     "name": "stderr",
     "output_type": "stream",
     "text": [
      " 90%|██████████████████████████████████████████████████████████████████████▏       | 2221/2470 [01:47<00:09, 25.08it/s]"
     ]
    },
    {
     "name": "stdout",
     "output_type": "stream",
     "text": [
      "이미지가 다운로드되었습니다.\n",
      "이미지가 다운로드되었습니다.\n",
      "이미지가 다운로드되었습니다.\n",
      "이미지가 다운로드되었습니다.\n",
      "이미지가 다운로드되었습니다.\n",
      "이미지가 다운로드되었습니다.\n"
     ]
    },
    {
     "name": "stderr",
     "output_type": "stream",
     "text": [
      " 90%|██████████████████████████████████████████████████████████████████████▎       | 2227/2470 [01:47<00:09, 25.28it/s]"
     ]
    },
    {
     "name": "stdout",
     "output_type": "stream",
     "text": [
      "이미지가 다운로드되었습니다.\n",
      "이미지가 다운로드되었습니다.\n",
      "이미지가 다운로드되었습니다.\n",
      "이미지가 다운로드되었습니다.\n",
      "이미지가 다운로드되었습니다.\n",
      "이미지가 다운로드되었습니다.\n"
     ]
    },
    {
     "name": "stderr",
     "output_type": "stream",
     "text": [
      " 90%|██████████████████████████████████████████████████████████████████████▌       | 2233/2470 [01:47<00:09, 24.32it/s]"
     ]
    },
    {
     "name": "stdout",
     "output_type": "stream",
     "text": [
      "이미지가 다운로드되었습니다.\n",
      "이미지가 다운로드되었습니다.\n",
      "이미지가 다운로드되었습니다.\n",
      "이미지가 다운로드되었습니다.\n",
      "이미지가 다운로드되었습니다.\n",
      "이미지가 다운로드되었습니다.\n"
     ]
    },
    {
     "name": "stderr",
     "output_type": "stream",
     "text": [
      " 91%|██████████████████████████████████████████████████████████████████████▋       | 2239/2470 [01:47<00:09, 25.48it/s]"
     ]
    },
    {
     "name": "stdout",
     "output_type": "stream",
     "text": [
      "이미지가 다운로드되었습니다.\n",
      "이미지가 다운로드되었습니다.\n",
      "이미지가 다운로드되었습니다.\n",
      "이미지가 다운로드되었습니다.\n",
      "이미지가 다운로드되었습니다.\n",
      "이미지가 다운로드되었습니다.\n"
     ]
    },
    {
     "name": "stderr",
     "output_type": "stream",
     "text": [
      " 91%|██████████████████████████████████████████████████████████████████████▉       | 2245/2470 [01:48<00:08, 27.17it/s]"
     ]
    },
    {
     "name": "stdout",
     "output_type": "stream",
     "text": [
      "이미지가 다운로드되었습니다.\n",
      "이미지가 다운로드되었습니다.\n",
      "이미지가 다운로드되었습니다.\n",
      "이미지가 다운로드되었습니다.\n",
      "이미지가 다운로드되었습니다.\n",
      "이미지가 다운로드되었습니다.\n",
      "이미지가 다운로드되었습니다.\n"
     ]
    },
    {
     "name": "stderr",
     "output_type": "stream",
     "text": [
      " 91%|███████████████████████████████████████████████████████████████████████       | 2251/2470 [01:48<00:08, 26.94it/s]"
     ]
    },
    {
     "name": "stdout",
     "output_type": "stream",
     "text": [
      "이미지가 다운로드되었습니다.\n",
      "이미지가 다운로드되었습니다.\n",
      "이미지가 다운로드되었습니다.\n",
      "이미지가 다운로드되었습니다.\n",
      "이미지가 다운로드되었습니다.\n",
      "이미지가 다운로드되었습니다.\n"
     ]
    },
    {
     "name": "stderr",
     "output_type": "stream",
     "text": [
      " 91%|███████████████████████████████████████████████████████████████████████▎      | 2257/2470 [01:48<00:07, 27.00it/s]"
     ]
    },
    {
     "name": "stdout",
     "output_type": "stream",
     "text": [
      "이미지가 다운로드되었습니다.\n",
      "이미지가 다운로드되었습니다.\n",
      "이미지가 다운로드되었습니다.\n",
      "이미지가 다운로드되었습니다.\n",
      "이미지가 다운로드되었습니다.\n",
      "이미지가 다운로드되었습니다.\n"
     ]
    },
    {
     "name": "stderr",
     "output_type": "stream",
     "text": [
      " 92%|███████████████████████████████████████████████████████████████████████▍      | 2263/2470 [01:48<00:07, 26.08it/s]"
     ]
    },
    {
     "name": "stdout",
     "output_type": "stream",
     "text": [
      "이미지가 다운로드되었습니다.\n",
      "이미지가 다운로드되었습니다.\n",
      "이미지가 다운로드되었습니다.\n",
      "이미지가 다운로드되었습니다.\n"
     ]
    },
    {
     "name": "stderr",
     "output_type": "stream",
     "text": [
      "\r",
      " 92%|███████████████████████████████████████████████████████████████████████▌      | 2266/2470 [01:49<00:10, 18.74it/s]"
     ]
    },
    {
     "name": "stdout",
     "output_type": "stream",
     "text": [
      "이미지가 다운로드되었습니다.\n",
      "이미지가 다운로드되었습니다.\n",
      "이미지가 다운로드되었습니다.\n",
      "이미지가 다운로드되었습니다.\n",
      "이미지가 다운로드되었습니다.\n"
     ]
    },
    {
     "name": "stderr",
     "output_type": "stream",
     "text": [
      " 92%|███████████████████████████████████████████████████████████████████████▋      | 2272/2470 [01:49<00:10, 19.15it/s]"
     ]
    },
    {
     "name": "stdout",
     "output_type": "stream",
     "text": [
      "이미지가 다운로드되었습니다.\n",
      "이미지가 다운로드되었습니다.\n",
      "이미지가 다운로드되었습니다.\n",
      "이미지가 다운로드되었습니다.\n",
      "이미지가 다운로드되었습니다.\n",
      "이미지가 다운로드되었습니다.\n"
     ]
    },
    {
     "name": "stderr",
     "output_type": "stream",
     "text": [
      " 92%|███████████████████████████████████████████████████████████████████████▉      | 2278/2470 [01:49<00:08, 22.25it/s]"
     ]
    },
    {
     "name": "stdout",
     "output_type": "stream",
     "text": [
      "이미지가 다운로드되었습니다.\n",
      "이미지가 다운로드되었습니다.\n",
      "이미지가 다운로드되었습니다.\n",
      "이미지가 다운로드되었습니다.\n",
      "이미지가 다운로드되었습니다.\n",
      "이미지가 다운로드되었습니다.\n"
     ]
    },
    {
     "name": "stderr",
     "output_type": "stream",
     "text": [
      " 92%|████████████████████████████████████████████████████████████████████████▏     | 2284/2470 [01:49<00:07, 24.27it/s]"
     ]
    },
    {
     "name": "stdout",
     "output_type": "stream",
     "text": [
      "이미지가 다운로드되었습니다.\n",
      "이미지가 다운로드되었습니다.\n",
      "이미지가 다운로드되었습니다.\n",
      "이미지가 다운로드되었습니다.\n",
      "이미지가 다운로드되었습니다.\n"
     ]
    },
    {
     "name": "stderr",
     "output_type": "stream",
     "text": [
      " 93%|████████████████████████████████████████████████████████████████████████▎     | 2290/2470 [01:50<00:07, 25.19it/s]"
     ]
    },
    {
     "name": "stdout",
     "output_type": "stream",
     "text": [
      "이미지가 다운로드되었습니다.\n",
      "이미지가 다운로드되었습니다.\n",
      "이미지가 다운로드되었습니다.\n",
      "이미지가 다운로드되었습니다.\n",
      "이미지가 다운로드되었습니다.\n"
     ]
    },
    {
     "name": "stderr",
     "output_type": "stream",
     "text": [
      " 93%|████████████████████████████████████████████████████████████████████████▌     | 2296/2470 [01:50<00:06, 25.31it/s]"
     ]
    },
    {
     "name": "stdout",
     "output_type": "stream",
     "text": [
      "이미지가 다운로드되었습니다.\n",
      "이미지가 다운로드되었습니다.\n",
      "이미지가 다운로드되었습니다.\n",
      "이미지가 다운로드되었습니다.\n",
      "이미지가 다운로드되었습니다.\n",
      "이미지가 다운로드되었습니다.\n"
     ]
    },
    {
     "name": "stderr",
     "output_type": "stream",
     "text": [
      " 93%|████████████████████████████████████████████████████████████████████████▋     | 2302/2470 [01:50<00:06, 25.27it/s]"
     ]
    },
    {
     "name": "stdout",
     "output_type": "stream",
     "text": [
      "이미지가 다운로드되었습니다.\n",
      "이미지가 다운로드되었습니다.\n",
      "이미지가 다운로드되었습니다.\n",
      "이미지가 다운로드되었습니다.\n",
      "이미지가 다운로드되었습니다.\n",
      "이미지가 다운로드되었습니다.\n"
     ]
    },
    {
     "name": "stderr",
     "output_type": "stream",
     "text": [
      " 93%|████████████████████████████████████████████████████████████████████████▉     | 2308/2470 [01:50<00:06, 26.63it/s]"
     ]
    },
    {
     "name": "stdout",
     "output_type": "stream",
     "text": [
      "이미지가 다운로드되었습니다.\n",
      "이미지가 다운로드되었습니다.\n",
      "이미지가 다운로드되었습니다.\n",
      "이미지가 다운로드되었습니다.\n",
      "이미지가 다운로드되었습니다.\n",
      "이미지가 다운로드되었습니다.\n",
      "이미지가 다운로드되었습니다.\n"
     ]
    },
    {
     "name": "stderr",
     "output_type": "stream",
     "text": [
      " 94%|█████████████████████████████████████████████████████████████████████████     | 2314/2470 [01:50<00:05, 26.30it/s]"
     ]
    },
    {
     "name": "stdout",
     "output_type": "stream",
     "text": [
      "이미지가 다운로드되었습니다.\n",
      "이미지가 다운로드되었습니다.\n",
      "이미지가 다운로드되었습니다.\n",
      "이미지가 다운로드되었습니다.\n",
      "이미지가 다운로드되었습니다.\n",
      "이미지가 다운로드되었습니다.\n"
     ]
    },
    {
     "name": "stderr",
     "output_type": "stream",
     "text": [
      "\r",
      " 94%|█████████████████████████████████████████████████████████████████████████▏    | 2317/2470 [01:51<00:07, 20.08it/s]"
     ]
    },
    {
     "name": "stdout",
     "output_type": "stream",
     "text": [
      "이미지가 다운로드되었습니다.\n",
      "이미지가 다운로드되었습니다.\n",
      "이미지가 다운로드되었습니다.\n"
     ]
    },
    {
     "name": "stderr",
     "output_type": "stream",
     "text": [
      " 94%|█████████████████████████████████████████████████████████████████████████▎    | 2323/2470 [01:51<00:06, 21.90it/s]"
     ]
    },
    {
     "name": "stdout",
     "output_type": "stream",
     "text": [
      "이미지가 다운로드되었습니다.\n",
      "이미지가 다운로드되었습니다.\n",
      "이미지가 다운로드되었습니다.\n",
      "이미지가 다운로드되었습니다.\n",
      "이미지가 다운로드되었습니다.\n"
     ]
    },
    {
     "name": "stderr",
     "output_type": "stream",
     "text": [
      "\r",
      " 94%|█████████████████████████████████████████████████████████████████████████▍    | 2326/2470 [01:51<00:06, 22.16it/s]"
     ]
    },
    {
     "name": "stdout",
     "output_type": "stream",
     "text": [
      "이미지가 다운로드되었습니다.\n",
      "이미지가 다운로드되었습니다.\n",
      "이미지가 다운로드되었습니다.\n",
      "이미지가 다운로드되었습니다.\n",
      "이미지가 다운로드되었습니다.\n"
     ]
    },
    {
     "name": "stderr",
     "output_type": "stream",
     "text": [
      " 94%|█████████████████████████████████████████████████████████████████████████▋    | 2332/2470 [01:51<00:06, 22.53it/s]"
     ]
    },
    {
     "name": "stdout",
     "output_type": "stream",
     "text": [
      "이미지가 다운로드되었습니다.\n",
      "이미지가 다운로드되었습니다.\n",
      "이미지가 다운로드되었습니다.\n",
      "이미지가 다운로드되었습니다.\n",
      "이미지가 다운로드되었습니다.\n"
     ]
    },
    {
     "name": "stderr",
     "output_type": "stream",
     "text": [
      " 95%|█████████████████████████████████████████████████████████████████████████▊    | 2338/2470 [01:52<00:05, 23.30it/s]"
     ]
    },
    {
     "name": "stdout",
     "output_type": "stream",
     "text": [
      "이미지가 다운로드되었습니다.\n",
      "이미지가 다운로드되었습니다.\n",
      "이미지가 다운로드되었습니다.\n",
      "이미지가 다운로드되었습니다.\n",
      "이미지가 다운로드되었습니다.\n",
      "이미지가 다운로드되었습니다.\n"
     ]
    },
    {
     "name": "stderr",
     "output_type": "stream",
     "text": [
      " 95%|██████████████████████████████████████████████████████████████████████████    | 2344/2470 [01:52<00:05, 24.08it/s]"
     ]
    },
    {
     "name": "stdout",
     "output_type": "stream",
     "text": [
      "이미지가 다운로드되었습니다.\n",
      "이미지가 다운로드되었습니다.\n",
      "이미지가 다운로드되었습니다.\n",
      "이미지가 다운로드되었습니다.\n",
      "이미지가 다운로드되었습니다.\n"
     ]
    },
    {
     "name": "stderr",
     "output_type": "stream",
     "text": [
      " 95%|██████████████████████████████████████████████████████████████████████████▏   | 2350/2470 [01:52<00:04, 24.90it/s]"
     ]
    },
    {
     "name": "stdout",
     "output_type": "stream",
     "text": [
      "이미지가 다운로드되었습니다.\n",
      "이미지가 다운로드되었습니다.\n",
      "이미지가 다운로드되었습니다.\n",
      "이미지가 다운로드되었습니다.\n",
      "이미지가 다운로드되었습니다.\n",
      "이미지가 다운로드되었습니다.\n"
     ]
    },
    {
     "name": "stderr",
     "output_type": "stream",
     "text": [
      " 95%|██████████████████████████████████████████████████████████████████████████▍   | 2356/2470 [01:52<00:04, 25.30it/s]"
     ]
    },
    {
     "name": "stdout",
     "output_type": "stream",
     "text": [
      "이미지가 다운로드되었습니다.\n",
      "이미지가 다운로드되었습니다.\n",
      "이미지가 다운로드되었습니다.\n",
      "이미지가 다운로드되었습니다.\n",
      "이미지가 다운로드되었습니다.\n",
      "이미지가 다운로드되었습니다.\n"
     ]
    },
    {
     "name": "stderr",
     "output_type": "stream",
     "text": [
      "\r",
      " 96%|██████████████████████████████████████████████████████████████████████████▍   | 2359/2470 [01:53<00:05, 21.34it/s]"
     ]
    },
    {
     "name": "stdout",
     "output_type": "stream",
     "text": [
      "이미지가 다운로드되었습니다.\n",
      "이미지가 다운로드되었습니다.\n",
      "이미지가 다운로드되었습니다.\n",
      "이미지가 다운로드되었습니다.\n"
     ]
    },
    {
     "name": "stderr",
     "output_type": "stream",
     "text": [
      " 96%|██████████████████████████████████████████████████████████████████████████▋   | 2365/2470 [01:53<00:04, 22.75it/s]"
     ]
    },
    {
     "name": "stdout",
     "output_type": "stream",
     "text": [
      "이미지가 다운로드되었습니다.\n",
      "이미지가 다운로드되었습니다.\n",
      "이미지가 다운로드되었습니다.\n",
      "이미지가 다운로드되었습니다.\n",
      "이미지가 다운로드되었습니다.\n"
     ]
    },
    {
     "name": "stderr",
     "output_type": "stream",
     "text": [
      " 96%|██████████████████████████████████████████████████████████████████████████▊   | 2371/2470 [01:53<00:04, 23.65it/s]"
     ]
    },
    {
     "name": "stdout",
     "output_type": "stream",
     "text": [
      "이미지가 다운로드되었습니다.\n",
      "이미지가 다운로드되었습니다.\n",
      "이미지가 다운로드되었습니다.\n",
      "이미지가 다운로드되었습니다.\n",
      "이미지가 다운로드되었습니다.\n",
      "이미지가 다운로드되었습니다.\n"
     ]
    },
    {
     "name": "stderr",
     "output_type": "stream",
     "text": [
      " 96%|███████████████████████████████████████████████████████████████████████████   | 2377/2470 [01:53<00:03, 24.57it/s]"
     ]
    },
    {
     "name": "stdout",
     "output_type": "stream",
     "text": [
      "이미지가 다운로드되었습니다.\n",
      "이미지가 다운로드되었습니다.\n",
      "이미지가 다운로드되었습니다.\n",
      "이미지가 다운로드되었습니다.\n",
      "이미지가 다운로드되었습니다.\n",
      "이미지가 다운로드되었습니다.\n"
     ]
    },
    {
     "name": "stderr",
     "output_type": "stream",
     "text": [
      "\r",
      " 96%|███████████████████████████████████████████████████████████████████████████▏  | 2380/2470 [01:53<00:03, 24.61it/s]"
     ]
    },
    {
     "name": "stdout",
     "output_type": "stream",
     "text": [
      "이미지가 다운로드되었습니다.\n",
      "이미지가 다운로드되었습니다.\n",
      "이미지가 다운로드되었습니다.\n",
      "이미지가 다운로드되었습니다.\n",
      "이미지가 다운로드되었습니다.\n"
     ]
    },
    {
     "name": "stderr",
     "output_type": "stream",
     "text": [
      "\r",
      " 96%|███████████████████████████████████████████████████████████████████████████▎  | 2383/2470 [01:53<00:03, 24.30it/s]"
     ]
    },
    {
     "name": "stdout",
     "output_type": "stream",
     "text": [
      "이미지가 다운로드되었습니다.\n",
      "이미지가 다운로드되었습니다.\n",
      "이미지가 다운로드되었습니다.\n"
     ]
    },
    {
     "name": "stderr",
     "output_type": "stream",
     "text": [
      " 97%|███████████████████████████████████████████████████████████████████████████▍  | 2389/2470 [01:54<00:03, 21.06it/s]"
     ]
    },
    {
     "name": "stdout",
     "output_type": "stream",
     "text": [
      "이미지가 다운로드되었습니다.\n",
      "이미지가 다운로드되었습니다.\n",
      "이미지가 다운로드되었습니다.\n",
      "이미지가 다운로드되었습니다.\n",
      "이미지가 다운로드되었습니다.\n",
      "이미지가 다운로드되었습니다.\n"
     ]
    },
    {
     "name": "stderr",
     "output_type": "stream",
     "text": [
      " 97%|███████████████████████████████████████████████████████████████████████████▋  | 2395/2470 [01:54<00:03, 22.88it/s]"
     ]
    },
    {
     "name": "stdout",
     "output_type": "stream",
     "text": [
      "이미지가 다운로드되었습니다.\n",
      "이미지가 다운로드되었습니다.\n",
      "이미지가 다운로드되었습니다.\n",
      "이미지가 다운로드되었습니다.\n",
      "이미지가 다운로드되었습니다.\n"
     ]
    },
    {
     "name": "stderr",
     "output_type": "stream",
     "text": [
      " 97%|███████████████████████████████████████████████████████████████████████████▊  | 2401/2470 [01:54<00:03, 22.72it/s]"
     ]
    },
    {
     "name": "stdout",
     "output_type": "stream",
     "text": [
      "이미지가 다운로드되었습니다.\n",
      "이미지가 다운로드되었습니다.\n",
      "이미지가 다운로드되었습니다.\n",
      "이미지가 다운로드되었습니다.\n",
      "이미지가 다운로드되었습니다.\n",
      "이미지가 다운로드되었습니다.\n"
     ]
    },
    {
     "name": "stderr",
     "output_type": "stream",
     "text": [
      " 97%|████████████████████████████████████████████████████████████████████████████  | 2407/2470 [01:55<00:02, 21.65it/s]"
     ]
    },
    {
     "name": "stdout",
     "output_type": "stream",
     "text": [
      "이미지가 다운로드되었습니다.\n",
      "이미지가 다운로드되었습니다.\n",
      "이미지가 다운로드되었습니다.\n",
      "이미지가 다운로드되었습니다.\n",
      "이미지가 다운로드되었습니다.\n"
     ]
    },
    {
     "name": "stderr",
     "output_type": "stream",
     "text": [
      " 98%|████████████████████████████████████████████████████████████████████████████▏ | 2413/2470 [01:55<00:02, 23.42it/s]"
     ]
    },
    {
     "name": "stdout",
     "output_type": "stream",
     "text": [
      "이미지가 다운로드되었습니다.\n",
      "이미지가 다운로드되었습니다.\n",
      "이미지가 다운로드되었습니다.\n",
      "이미지가 다운로드되었습니다.\n",
      "이미지가 다운로드되었습니다.\n",
      "이미지가 다운로드되었습니다.\n"
     ]
    },
    {
     "name": "stderr",
     "output_type": "stream",
     "text": [
      " 98%|████████████████████████████████████████████████████████████████████████████▍ | 2419/2470 [01:55<00:02, 25.33it/s]"
     ]
    },
    {
     "name": "stdout",
     "output_type": "stream",
     "text": [
      "이미지가 다운로드되었습니다.\n",
      "이미지가 다운로드되었습니다.\n",
      "이미지가 다운로드되었습니다.\n",
      "이미지가 다운로드되었습니다.\n",
      "이미지가 다운로드되었습니다.\n",
      "이미지가 다운로드되었습니다.\n"
     ]
    },
    {
     "name": "stderr",
     "output_type": "stream",
     "text": [
      "\r",
      " 98%|████████████████████████████████████████████████████████████████████████████▍ | 2422/2470 [01:55<00:01, 24.53it/s]"
     ]
    },
    {
     "name": "stdout",
     "output_type": "stream",
     "text": [
      "이미지가 다운로드되었습니다.\n",
      "이미지가 다운로드되었습니다.\n",
      "이미지가 다운로드되었습니다.\n",
      "이미지가 다운로드되었습니다.\n",
      "이미지가 다운로드되었습니다.\n"
     ]
    },
    {
     "name": "stderr",
     "output_type": "stream",
     "text": [
      " 98%|████████████████████████████████████████████████████████████████████████████▋ | 2428/2470 [01:55<00:01, 24.67it/s]"
     ]
    },
    {
     "name": "stdout",
     "output_type": "stream",
     "text": [
      "이미지가 다운로드되었습니다.\n",
      "이미지가 다운로드되었습니다.\n",
      "이미지가 다운로드되었습니다.\n",
      "이미지가 다운로드되었습니다.\n",
      "이미지가 다운로드되었습니다.\n"
     ]
    },
    {
     "name": "stderr",
     "output_type": "stream",
     "text": [
      " 99%|████████████████████████████████████████████████████████████████████████████▊ | 2434/2470 [01:56<00:01, 25.29it/s]"
     ]
    },
    {
     "name": "stdout",
     "output_type": "stream",
     "text": [
      "이미지가 다운로드되었습니다.\n",
      "이미지가 다운로드되었습니다.\n",
      "이미지가 다운로드되었습니다.\n",
      "이미지가 다운로드되었습니다.\n",
      "이미지가 다운로드되었습니다.\n"
     ]
    },
    {
     "name": "stderr",
     "output_type": "stream",
     "text": [
      "\r",
      " 99%|████████████████████████████████████████████████████████████████████████████▉ | 2437/2470 [01:56<00:01, 22.36it/s]"
     ]
    },
    {
     "name": "stdout",
     "output_type": "stream",
     "text": [
      "이미지가 다운로드되었습니다.\n",
      "이미지가 다운로드되었습니다.\n",
      "이미지가 다운로드되었습니다.\n",
      "이미지가 다운로드되었습니다.\n"
     ]
    },
    {
     "name": "stderr",
     "output_type": "stream",
     "text": [
      " 99%|█████████████████████████████████████████████████████████████████████████████▏| 2443/2470 [01:56<00:01, 23.78it/s]"
     ]
    },
    {
     "name": "stdout",
     "output_type": "stream",
     "text": [
      "이미지가 다운로드되었습니다.\n",
      "이미지가 다운로드되었습니다.\n",
      "이미지가 다운로드되었습니다.\n",
      "이미지가 다운로드되었습니다.\n",
      "이미지가 다운로드되었습니다.\n"
     ]
    },
    {
     "name": "stderr",
     "output_type": "stream",
     "text": [
      " 99%|█████████████████████████████████████████████████████████████████████████████▎| 2449/2470 [01:56<00:00, 24.41it/s]"
     ]
    },
    {
     "name": "stdout",
     "output_type": "stream",
     "text": [
      "이미지가 다운로드되었습니다.\n",
      "이미지가 다운로드되었습니다.\n",
      "이미지가 다운로드되었습니다.\n",
      "이미지가 다운로드되었습니다.\n",
      "이미지가 다운로드되었습니다.\n",
      "이미지가 다운로드되었습니다.\n"
     ]
    },
    {
     "name": "stderr",
     "output_type": "stream",
     "text": [
      "\r",
      " 99%|█████████████████████████████████████████████████████████████████████████████▍| 2452/2470 [01:56<00:00, 23.82it/s]"
     ]
    },
    {
     "name": "stdout",
     "output_type": "stream",
     "text": [
      "이미지가 다운로드되었습니다.\n",
      "이미지가 다운로드되었습니다.\n",
      "이미지가 다운로드되었습니다.\n",
      "이미지가 다운로드되었습니다.\n",
      "이미지가 다운로드되었습니다.\n"
     ]
    },
    {
     "name": "stderr",
     "output_type": "stream",
     "text": [
      "100%|█████████████████████████████████████████████████████████████████████████████▌| 2458/2470 [01:57<00:00, 22.55it/s]"
     ]
    },
    {
     "name": "stdout",
     "output_type": "stream",
     "text": [
      "이미지가 다운로드되었습니다.\n",
      "이미지가 다운로드되었습니다.\n",
      "이미지가 다운로드되었습니다.\n",
      "이미지가 다운로드되었습니다.\n",
      "이미지가 다운로드되었습니다.\n"
     ]
    },
    {
     "name": "stderr",
     "output_type": "stream",
     "text": [
      "\r",
      "100%|█████████████████████████████████████████████████████████████████████████████▋| 2461/2470 [01:57<00:00, 20.51it/s]"
     ]
    },
    {
     "name": "stdout",
     "output_type": "stream",
     "text": [
      "이미지가 다운로드되었습니다.\n",
      "이미지가 다운로드되었습니다.\n",
      "이미지가 다운로드되었습니다.\n",
      "이미지가 다운로드되었습니다.\n"
     ]
    },
    {
     "name": "stderr",
     "output_type": "stream",
     "text": [
      "100%|█████████████████████████████████████████████████████████████████████████████▉| 2467/2470 [01:57<00:00, 23.09it/s]"
     ]
    },
    {
     "name": "stdout",
     "output_type": "stream",
     "text": [
      "이미지가 다운로드되었습니다.\n",
      "이미지가 다운로드되었습니다.\n",
      "이미지가 다운로드되었습니다.\n",
      "이미지가 다운로드되었습니다.\n",
      "이미지가 다운로드되었습니다.\n",
      "이미지가 다운로드되었습니다.\n"
     ]
    },
    {
     "name": "stderr",
     "output_type": "stream",
     "text": [
      "100%|██████████████████████████████████████████████████████████████████████████████| 2470/2470 [01:57<00:00, 20.97it/s]"
     ]
    },
    {
     "name": "stdout",
     "output_type": "stream",
     "text": [
      "이미지가 다운로드되었습니다.\n"
     ]
    },
    {
     "name": "stderr",
     "output_type": "stream",
     "text": [
      "\n"
     ]
    }
   ],
   "source": [
    "# 사진\n",
    "from tqdm import tqdm\n",
    "for i in tqdm(range(len(df['이미지링크']))):\n",
    "    idx = df.loc[i, '내용링크'].split('=')[-1]\n",
    "    save_path = f'C:/Users/tiger/OneDrive - 한양대학교/deep_daiv/추천시스템/project/네이버웹툰_사진_최신화/{i:04d}_{idx}.jpg'\n",
    "    download_image(df['이미지링크'].iloc[i], save_path)"
   ]
  },
  {
   "cell_type": "code",
   "execution_count": null,
   "id": "36cc48e5",
   "metadata": {},
   "outputs": [],
   "source": []
  }
 ],
 "metadata": {
  "kernelspec": {
   "display_name": "Python 3 (ipykernel)",
   "language": "python",
   "name": "python3"
  },
  "language_info": {
   "codemirror_mode": {
    "name": "ipython",
    "version": 3
   },
   "file_extension": ".py",
   "mimetype": "text/x-python",
   "name": "python",
   "nbconvert_exporter": "python",
   "pygments_lexer": "ipython3",
   "version": "3.10.9"
  },
  "toc": {
   "base_numbering": 1,
   "nav_menu": {},
   "number_sections": true,
   "sideBar": true,
   "skip_h1_title": false,
   "title_cell": "Table of Contents",
   "title_sidebar": "Contents",
   "toc_cell": false,
   "toc_position": {},
   "toc_section_display": true,
   "toc_window_display": false
  }
 },
 "nbformat": 4,
 "nbformat_minor": 5
}
